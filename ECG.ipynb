{
 "cells": [
  {
   "cell_type": "code",
   "execution_count": 1,
   "id": "32ae1f9b",
   "metadata": {},
   "outputs": [],
   "source": [
    "import os, torch\n",
    "from torch import nn\n",
    "import torch.nn.functional as F \n",
    "from torch.utils.data import DataLoader\n",
    "from torchvision import datasets, transforms\n",
    "from scipy.signal import find_peaks\n",
    "from sklearn.model_selection import train_test_split\n",
    "import numpy as np, matplotlib.pyplot as plt, pandas as pd"
   ]
  },
  {
   "cell_type": "markdown",
   "id": "2cae5969",
   "metadata": {},
   "source": [
    "# Model 1"
   ]
  },
  {
   "cell_type": "code",
   "execution_count": 2,
   "id": "b1d0819d",
   "metadata": {},
   "outputs": [],
   "source": [
    "# create a model class that inherits nn.Module\n",
    "class Model(nn.Module):\n",
    "    def __init__(self, input_features=3, h1=8, h2=9, output_features=6):\n",
    "        super().__init__()\n",
    "        self.fc1 = nn.Linear(input_features,h1)\n",
    "        self.fc2 = nn.Linear(h1, h2)\n",
    "        self.out = nn.Linear(h2, output_features)\n",
    "        \n",
    "    def forward(self, x):\n",
    "        x = F.relu(self.fc1(x))\n",
    "        x = F.relu(self.fc2(x))\n",
    "        x = self.out(x)\n",
    "        return x"
   ]
  },
  {
   "cell_type": "markdown",
   "id": "505d33fb",
   "metadata": {},
   "source": [
    "# Model 2"
   ]
  },
  {
   "cell_type": "code",
   "execution_count": 3,
   "id": "cee44835",
   "metadata": {},
   "outputs": [],
   "source": [
    "class ECGModel(nn.Module):\n",
    "    def __init__(self, input_size, hidden_size, num_classes_normality):\n",
    "        super(ECGModel, self).__init__()\n",
    "        self.lstm = nn.LSTM(input_size, hidden_size, batch_first=True)\n",
    "        self.fc_rpeak = nn.Linear(hidden_size, 1)  # For rpeak detection\n",
    "        self.fc_normality = nn.Linear(hidden_size, num_classes_normality)  # For normality classification\n",
    "\n",
    "    def forward(self, x):\n",
    "        # LSTM layer\n",
    "        x, _ = self.lstm(x)\n",
    "        x = x[:, -1, :]  # Get the last time step output\n",
    "\n",
    "        # Output layers\n",
    "        rpeak_output = torch.sigmoid(self.fc_rpeak(x))  # Sigmoid for binary classification\n",
    "        normality_output = F.softmax(self.fc_normality(x), dim=1)  # Softmax for multi-class classification\n",
    "\n",
    "        return rpeak_output, normality_output"
   ]
  },
  {
   "cell_type": "markdown",
   "id": "5a48e04d",
   "metadata": {},
   "source": [
    "# Model 2.1"
   ]
  },
  {
   "cell_type": "code",
   "execution_count": 34,
   "id": "9556ef38",
   "metadata": {},
   "outputs": [],
   "source": [
    "class ImprovedECGModel(nn.Module):\n",
    "    def __init__(self, input_size, hidden_size, num_classes_normality):\n",
    "        super(ImprovedECGModel, self).__init__()\n",
    "        self.fc1 = nn.Linear(input_size, hidden_size)\n",
    "        self.bn1 = nn.BatchNorm1d(hidden_size)  # Ensure hidden_size matches output of fc1\n",
    "        self.relu = nn.ReLU()\n",
    "        self.dropout = nn.Dropout(0.3)\n",
    "        self.fc2 = nn.Linear(hidden_size, hidden_size // 2)\n",
    "        self.bn2 = nn.BatchNorm1d(hidden_size // 2)  # Ensure hidden_size // 2 matches output of fc2\n",
    "        self.fc_rpeak = nn.Linear(hidden_size // 2, 1)\n",
    "        self.fc_normality = nn.Linear(hidden_size // 2, num_classes_normality)\n",
    "\n",
    "    def forward(self, x):\n",
    "        x = x.squeeze(1)\n",
    "        x = self.fc1(x)\n",
    "        x = self.bn1(x)\n",
    "        x = self.relu(x)\n",
    "        x = self.dropout(x)\n",
    "        x = self.fc2(x)\n",
    "        x = self.bn2(x)\n",
    "        x = self.relu(x)\n",
    "        x = self.dropout(x)\n",
    "        rpeak_output = torch.sigmoid(self.fc_rpeak(x))\n",
    "        normality_output = F.softmax(self.fc_normality(x), dim=1)\n",
    "        return rpeak_output, normality_output\n"
   ]
  },
  {
   "cell_type": "markdown",
   "id": "c557ebfd",
   "metadata": {},
   "source": [
    "# Model 2.2"
   ]
  },
  {
   "cell_type": "code",
   "execution_count": 42,
   "id": "2749b858",
   "metadata": {},
   "outputs": [],
   "source": [
    "class SimplifiedECGModel(nn.Module):\n",
    "    def __init__(self, input_size, hidden_size, num_classes_normality):\n",
    "        super(SimplifiedECGModel, self).__init__()\n",
    "        self.fc1 = nn.Linear(input_size, hidden_size)\n",
    "        self.relu = nn.ReLU()\n",
    "        self.dropout = nn.Dropout(0.3)\n",
    "        self.fc2 = nn.Linear(hidden_size, hidden_size // 2)\n",
    "        self.fc_rpeak = nn.Linear(hidden_size // 2, 1)\n",
    "        self.fc_normality = nn.Linear(hidden_size // 2, num_classes_normality)\n",
    "\n",
    "    def forward(self, x):\n",
    "        x = self.fc1(x)\n",
    "        x = self.dropout(x)\n",
    "        x = self.fc2(x)\n",
    "        rpeak_output = torch.sigmoid(self.fc_rpeak(x))\n",
    "        normality_output = self.fc_normality(x)  # Output from the final layer for normality\n",
    "        normality_output = torch.squeeze(normality_output, 1)  # Remove the extra dimension\n",
    "        return rpeak_output, normality_output\n"
   ]
  },
  {
   "cell_type": "code",
   "execution_count": 6,
   "id": "4022d44d",
   "metadata": {},
   "outputs": [
    {
     "data": {
      "text/plain": [
       "<torch._C.Generator at 0x105cdbc10>"
      ]
     },
     "execution_count": 6,
     "metadata": {},
     "output_type": "execute_result"
    }
   ],
   "source": [
    "torch.manual_seed(3)"
   ]
  },
  {
   "cell_type": "markdown",
   "id": "e7b344f5",
   "metadata": {},
   "source": [
    "# Dataframe"
   ]
  },
  {
   "cell_type": "code",
   "execution_count": 7,
   "id": "9aa0c781",
   "metadata": {},
   "outputs": [],
   "source": [
    "df100 = pd.read_csv('data/100.csv')\n",
    "df100.columns = ['samp_num', 'MLII', 'V5']"
   ]
  },
  {
   "cell_type": "code",
   "execution_count": 8,
   "id": "c51669eb",
   "metadata": {
    "scrolled": false
   },
   "outputs": [
    {
     "data": {
      "text/html": [
       "<div>\n",
       "<style scoped>\n",
       "    .dataframe tbody tr th:only-of-type {\n",
       "        vertical-align: middle;\n",
       "    }\n",
       "\n",
       "    .dataframe tbody tr th {\n",
       "        vertical-align: top;\n",
       "    }\n",
       "\n",
       "    .dataframe thead th {\n",
       "        text-align: right;\n",
       "    }\n",
       "</style>\n",
       "<table border=\"1\" class=\"dataframe\">\n",
       "  <thead>\n",
       "    <tr style=\"text-align: right;\">\n",
       "      <th></th>\n",
       "      <th>samp_num</th>\n",
       "      <th>MLII</th>\n",
       "      <th>V5</th>\n",
       "    </tr>\n",
       "  </thead>\n",
       "  <tbody>\n",
       "    <tr>\n",
       "      <th>0</th>\n",
       "      <td>0</td>\n",
       "      <td>995</td>\n",
       "      <td>1011</td>\n",
       "    </tr>\n",
       "    <tr>\n",
       "      <th>1</th>\n",
       "      <td>1</td>\n",
       "      <td>995</td>\n",
       "      <td>1011</td>\n",
       "    </tr>\n",
       "    <tr>\n",
       "      <th>2</th>\n",
       "      <td>2</td>\n",
       "      <td>995</td>\n",
       "      <td>1011</td>\n",
       "    </tr>\n",
       "    <tr>\n",
       "      <th>3</th>\n",
       "      <td>3</td>\n",
       "      <td>995</td>\n",
       "      <td>1011</td>\n",
       "    </tr>\n",
       "    <tr>\n",
       "      <th>4</th>\n",
       "      <td>4</td>\n",
       "      <td>995</td>\n",
       "      <td>1011</td>\n",
       "    </tr>\n",
       "  </tbody>\n",
       "</table>\n",
       "</div>"
      ],
      "text/plain": [
       "   samp_num  MLII    V5\n",
       "0         0   995  1011\n",
       "1         1   995  1011\n",
       "2         2   995  1011\n",
       "3         3   995  1011\n",
       "4         4   995  1011"
      ]
     },
     "execution_count": 8,
     "metadata": {},
     "output_type": "execute_result"
    }
   ],
   "source": [
    "df100.head()"
   ]
  },
  {
   "cell_type": "markdown",
   "id": "a91c75c5",
   "metadata": {},
   "source": [
    "# Reference"
   ]
  },
  {
   "cell_type": "code",
   "execution_count": 9,
   "id": "1f1e2357",
   "metadata": {},
   "outputs": [],
   "source": [
    "ref100 = pd.read_table('data/100annotations.txt',delimiter = '\\t')"
   ]
  },
  {
   "cell_type": "code",
   "execution_count": 10,
   "id": "075994a5",
   "metadata": {},
   "outputs": [
    {
     "data": {
      "text/plain": [
       "['      Time   Sample #  Type  Sub Chan  Num', 'Aux']"
      ]
     },
     "execution_count": 10,
     "metadata": {},
     "output_type": "execute_result"
    }
   ],
   "source": [
    "list(ref100.columns.values)"
   ]
  },
  {
   "cell_type": "markdown",
   "id": "8f83b9df",
   "metadata": {},
   "source": [
    "rpeak"
   ]
  },
  {
   "cell_type": "code",
   "execution_count": 11,
   "id": "afa79ffa",
   "metadata": {
    "scrolled": true
   },
   "outputs": [],
   "source": [
    "ref100.columns = ['6', 'Sample']"
   ]
  },
  {
   "cell_type": "markdown",
   "id": "d7292d37",
   "metadata": {},
   "source": [
    "normality"
   ]
  },
  {
   "cell_type": "code",
   "execution_count": 12,
   "id": "b2024e5b",
   "metadata": {
    "scrolled": true
   },
   "outputs": [
    {
     "name": "stdout",
     "output_type": "stream",
     "text": [
      "0\n",
      "500\n",
      "1000\n",
      "1500\n",
      "2000\n",
      "finish\n"
     ]
    }
   ],
   "source": [
    "refNormal = []\n",
    "refRpeak = []\n",
    "for index, row in ref100.iterrows():\n",
    "    if index % 500 == 0: \n",
    "        print(index)\n",
    "    if ref100['6'][index].split()[2] == 'N' or ref100['6'][index].split()[2] == 'A':\n",
    "        refRpeak.append(ref100['6'][index].split()[1]) \n",
    "        refNormal.append(ref100['6'][index].split()[2]) \n",
    "print('finish')"
   ]
  },
  {
   "cell_type": "code",
   "execution_count": 13,
   "id": "0657a980",
   "metadata": {
    "scrolled": true
   },
   "outputs": [
    {
     "data": {
      "text/plain": [
       "['77', '370', '662', '946', '1231']"
      ]
     },
     "execution_count": 13,
     "metadata": {},
     "output_type": "execute_result"
    }
   ],
   "source": [
    "refRpeak[:5]"
   ]
  },
  {
   "cell_type": "code",
   "execution_count": 14,
   "id": "8271e564",
   "metadata": {
    "scrolled": true
   },
   "outputs": [
    {
     "data": {
      "text/plain": [
       "['N', 'N', 'N', 'N', 'N']"
      ]
     },
     "execution_count": 14,
     "metadata": {},
     "output_type": "execute_result"
    }
   ],
   "source": [
    "refNormal[:5]"
   ]
  },
  {
   "cell_type": "markdown",
   "id": "bbf1be62",
   "metadata": {},
   "source": [
    "convert N to 0 and A to 1"
   ]
  },
  {
   "cell_type": "code",
   "execution_count": 15,
   "id": "882ad4fc",
   "metadata": {},
   "outputs": [],
   "source": [
    "refNormal = [1 if item == 'A' else 0 for item in refNormal]"
   ]
  },
  {
   "cell_type": "code",
   "execution_count": 16,
   "id": "4119ead3",
   "metadata": {
    "scrolled": true
   },
   "outputs": [
    {
     "data": {
      "text/plain": [
       "[0, 0, 0, 0, 0]"
      ]
     },
     "execution_count": 16,
     "metadata": {},
     "output_type": "execute_result"
    }
   ],
   "source": [
    "refNormal[:5]"
   ]
  },
  {
   "cell_type": "code",
   "execution_count": 17,
   "id": "f847b92d",
   "metadata": {
    "scrolled": false
   },
   "outputs": [
    {
     "name": "stdout",
     "output_type": "stream",
     "text": [
      "2272 : 2272\n"
     ]
    }
   ],
   "source": [
    "print(f\"{len(refNormal)} : {len(refRpeak)}\")"
   ]
  },
  {
   "cell_type": "markdown",
   "id": "c6697eea",
   "metadata": {},
   "source": [
    "# add to DF"
   ]
  },
  {
   "cell_type": "code",
   "execution_count": 18,
   "id": "e2ed304b",
   "metadata": {},
   "outputs": [],
   "source": [
    "refRpeak = [int(val) for val in refRpeak]\n",
    "\n",
    "# Create new columns in the DataFrame\n",
    "df100['rpeak'] = 0\n",
    "df100['normality'] = 0\n",
    "\n",
    "# Set 'rpeak' column values to 1 where samp_num is in refRpeak\n",
    "df100.loc[df100['samp_num'].isin(refRpeak), 'rpeak'] = 1\n",
    "\n",
    "# Set 'normality' column values based on refNormal\n",
    "df100.loc[df100['rpeak'] == 1, 'normality'] = refNormal"
   ]
  },
  {
   "cell_type": "code",
   "execution_count": 19,
   "id": "5586bb6f",
   "metadata": {
    "scrolled": false
   },
   "outputs": [
    {
     "data": {
      "text/html": [
       "<div>\n",
       "<style scoped>\n",
       "    .dataframe tbody tr th:only-of-type {\n",
       "        vertical-align: middle;\n",
       "    }\n",
       "\n",
       "    .dataframe tbody tr th {\n",
       "        vertical-align: top;\n",
       "    }\n",
       "\n",
       "    .dataframe thead th {\n",
       "        text-align: right;\n",
       "    }\n",
       "</style>\n",
       "<table border=\"1\" class=\"dataframe\">\n",
       "  <thead>\n",
       "    <tr style=\"text-align: right;\">\n",
       "      <th></th>\n",
       "      <th>samp_num</th>\n",
       "      <th>MLII</th>\n",
       "      <th>V5</th>\n",
       "      <th>rpeak</th>\n",
       "      <th>normality</th>\n",
       "    </tr>\n",
       "  </thead>\n",
       "  <tbody>\n",
       "    <tr>\n",
       "      <th>0</th>\n",
       "      <td>0</td>\n",
       "      <td>995</td>\n",
       "      <td>1011</td>\n",
       "      <td>0</td>\n",
       "      <td>0</td>\n",
       "    </tr>\n",
       "    <tr>\n",
       "      <th>1</th>\n",
       "      <td>1</td>\n",
       "      <td>995</td>\n",
       "      <td>1011</td>\n",
       "      <td>0</td>\n",
       "      <td>0</td>\n",
       "    </tr>\n",
       "    <tr>\n",
       "      <th>2</th>\n",
       "      <td>2</td>\n",
       "      <td>995</td>\n",
       "      <td>1011</td>\n",
       "      <td>0</td>\n",
       "      <td>0</td>\n",
       "    </tr>\n",
       "    <tr>\n",
       "      <th>3</th>\n",
       "      <td>3</td>\n",
       "      <td>995</td>\n",
       "      <td>1011</td>\n",
       "      <td>0</td>\n",
       "      <td>0</td>\n",
       "    </tr>\n",
       "    <tr>\n",
       "      <th>4</th>\n",
       "      <td>4</td>\n",
       "      <td>995</td>\n",
       "      <td>1011</td>\n",
       "      <td>0</td>\n",
       "      <td>0</td>\n",
       "    </tr>\n",
       "  </tbody>\n",
       "</table>\n",
       "</div>"
      ],
      "text/plain": [
       "   samp_num  MLII    V5  rpeak  normality\n",
       "0         0   995  1011      0          0\n",
       "1         1   995  1011      0          0\n",
       "2         2   995  1011      0          0\n",
       "3         3   995  1011      0          0\n",
       "4         4   995  1011      0          0"
      ]
     },
     "execution_count": 19,
     "metadata": {},
     "output_type": "execute_result"
    }
   ],
   "source": [
    "df100.head()"
   ]
  },
  {
   "cell_type": "markdown",
   "id": "880c53e9",
   "metadata": {},
   "source": [
    "# split train test"
   ]
  },
  {
   "cell_type": "code",
   "execution_count": 20,
   "id": "9d44feda",
   "metadata": {},
   "outputs": [],
   "source": [
    "X = df100[['samp_num', 'MLII', 'V5']]\n",
    "y = df100[['rpeak', 'normality']]\n",
    "X_train, X_test, y_train, y_test = train_test_split(X, y, test_size=0.2, random_state=42)"
   ]
  },
  {
   "cell_type": "code",
   "execution_count": 21,
   "id": "d9862e87",
   "metadata": {},
   "outputs": [],
   "source": [
    "# x to tensors long\n",
    "X_train_tensor = torch.LongTensor(X_train.to_numpy()).to(torch.float)\n",
    "X_test_tensor = torch.LongTensor(X_test.to_numpy()).to(torch.float)\n",
    "\n",
    "# y to tensors long\n",
    "y_train_tensor = torch.LongTensor(y_train.to_numpy()).to(torch.float)\n",
    "y_test_tensor = torch.LongTensor(y_test.to_numpy()).to(torch.float)"
   ]
  },
  {
   "cell_type": "markdown",
   "id": "2668e737",
   "metadata": {},
   "source": [
    "# 1st Model testing"
   ]
  },
  {
   "cell_type": "code",
   "execution_count": 22,
   "id": "90a6505b",
   "metadata": {},
   "outputs": [],
   "source": [
    "# set the citerion of model to measure the error (how off the predictions are from)\n",
    "criterion = nn.MSELoss()\n",
    "model = Model()\n",
    "# choose Adam optimizer (lr = learning rate)\n",
    "optimizer = torch.optim.Adam(model.parameters(), lr=0.001)\n",
    "input_size = len(X_train.columns)\n",
    "output_size = len(y_train.columns)\n",
    "\n",
    "model = Model(input_features=input_size, output_features=output_size)"
   ]
  },
  {
   "cell_type": "markdown",
   "id": "4d1b2ed6",
   "metadata": {},
   "source": [
    "## Train 1st model"
   ]
  },
  {
   "cell_type": "code",
   "execution_count": 23,
   "id": "b7b4d710",
   "metadata": {},
   "outputs": [
    {
     "name": "stdout",
     "output_type": "stream",
     "text": [
      "Epoch0 loss: 17756716.0\n",
      "Epoch10 loss: 17756716.0\n",
      "Epoch20 loss: 17756716.0\n",
      "Epoch30 loss: 17756716.0\n",
      "Epoch40 loss: 17756716.0\n",
      "Epoch50 loss: 17756716.0\n",
      "Epoch60 loss: 17756716.0\n",
      "Epoch70 loss: 17756716.0\n",
      "Epoch80 loss: 17756716.0\n",
      "Epoch90 loss: 17756716.0\n"
     ]
    }
   ],
   "source": [
    "epoch = 100\n",
    "losses1 = []\n",
    "for i in range(epoch):\n",
    "    # prediction\n",
    "    X_train_tensor = torch.FloatTensor(X_train.to_numpy())\n",
    "    y_pred = model.forward(X_train_tensor)\n",
    "    \n",
    "    # measure loss\n",
    "    loss = criterion(y_pred, y_train_tensor) #predicted value vs the y_train\n",
    "    \n",
    "    # track losses\n",
    "    losses1.append(loss.detach().numpy())\n",
    "    \n",
    "    #print every 10 epoch\n",
    "    if i % 10 == 0:\n",
    "        print(f\"Epoch{i} loss: {loss}\")\n",
    "        \n",
    "    for param in model.parameters():\n",
    "        param.requires_grad_(True)\n",
    "        param.data = param.data.to(torch.float)\n",
    "    \n",
    "    # take error rate of forward propagation and feedback through the network to fine tune the weights\n",
    "    optimizer.zero_grad()\n",
    "    loss.backward()\n",
    "    optimizer.step()"
   ]
  },
  {
   "cell_type": "markdown",
   "id": "c56d326b",
   "metadata": {},
   "source": [
    "I don't know why the loss is so big for the first model... let me try again."
   ]
  },
  {
   "cell_type": "markdown",
   "id": "6cdf28e8",
   "metadata": {},
   "source": [
    "# 2nd Model testing"
   ]
  },
  {
   "cell_type": "code",
   "execution_count": 24,
   "id": "fdf66cf6",
   "metadata": {},
   "outputs": [],
   "source": [
    "X = df100[['MLII', 'V5']]\n",
    "y_rpeak = df100['rpeak']\n",
    "y_normality = df100['normality']\n",
    "\n",
    "X_train, X_test, y_rpeak_train, y_rpeak_test, y_normality_train, y_normality_test = train_test_split(\n",
    "    X, y_rpeak, y_normality, test_size=0.2, random_state=42)"
   ]
  },
  {
   "cell_type": "code",
   "execution_count": 25,
   "id": "1bcb1fa9",
   "metadata": {},
   "outputs": [],
   "source": [
    "# Convert the training and testing data to tensors\n",
    "X_train_tensor = torch.tensor(X_train.values).float()\n",
    "y_rpeak_train_tensor = torch.tensor(y_rpeak_train.values).float()\n",
    "y_normality_train_tensor = torch.tensor(y_normality_train.values).long()  # Use .long() for classification labels\n",
    "\n",
    "X_test_tensor = torch.tensor(X_test.values).float()\n",
    "y_rpeak_test_tensor = torch.tensor(y_rpeak_test.values).float()\n",
    "y_normality_test_tensor = torch.tensor(y_normality_test.values).long()\n",
    "\n",
    "# Assuming each row in X_train is an independent observation\n",
    "X_train_tensor = torch.tensor(X_train.values).float()\n",
    "X_train_tensor = X_train_tensor.unsqueeze(1)  # Add a sequence dimension"
   ]
  },
  {
   "cell_type": "code",
   "execution_count": 26,
   "id": "8c2c9801",
   "metadata": {},
   "outputs": [],
   "source": [
    "model = ECGModel(input_size=2, hidden_size=50, num_classes_normality=len(y_normality_train.unique()))"
   ]
  },
  {
   "cell_type": "code",
   "execution_count": 27,
   "id": "cec4a3ce",
   "metadata": {},
   "outputs": [],
   "source": [
    "criterion_rpeak = torch.nn.BCELoss()  # Binary Cross-Entropy Loss for rpeak\n",
    "criterion_normality = torch.nn.CrossEntropyLoss()  # Cross-Entropy Loss for normality\n",
    "optimizer = torch.optim.Adam(model.parameters(), lr=0.001)"
   ]
  },
  {
   "cell_type": "code",
   "execution_count": 28,
   "id": "d2e0d06d",
   "metadata": {
    "scrolled": true
   },
   "outputs": [
    {
     "name": "stdout",
     "output_type": "stream",
     "text": [
      "Epoch [10/100], Loss: 1.0873818397521973\n",
      "Epoch [20/100], Loss: 0.9647265672683716\n",
      "Epoch [30/100], Loss: 0.8471107482910156\n",
      "Epoch [40/100], Loss: 0.7969838380813599\n",
      "Epoch [50/100], Loss: 0.7524658441543579\n",
      "Epoch [60/100], Loss: 0.713606595993042\n",
      "Epoch [70/100], Loss: 0.6797846555709839\n",
      "Epoch [80/100], Loss: 0.650285005569458\n",
      "Epoch [90/100], Loss: 0.6244374513626099\n",
      "Epoch [100/100], Loss: 0.6016567349433899\n"
     ]
    }
   ],
   "source": [
    "num_epochs = 100\n",
    "losses2 = []\n",
    "for epoch in range(num_epochs):\n",
    "    # Forward pass\n",
    "    rpeak_pred, normality_pred = model(X_train_tensor)\n",
    "\n",
    "    # Compute loss\n",
    "    loss_rpeak = criterion_rpeak(rpeak_pred.squeeze(), y_rpeak_train_tensor)\n",
    "    loss_normality = criterion_normality(normality_pred, y_normality_train_tensor)\n",
    "    loss = loss_rpeak + loss_normality  # Combine losses\n",
    "    losses2.append(loss.item())\n",
    "    # Backward pass and optimization\n",
    "    optimizer.zero_grad()\n",
    "    loss.backward()\n",
    "    optimizer.step()\n",
    "\n",
    "    if (epoch+1) % 10 == 0:  # Print every 10 epochs\n",
    "        print(f'Epoch [{epoch+1}/{num_epochs}], Loss: {loss.item()}')\n"
   ]
  },
  {
   "cell_type": "code",
   "execution_count": 29,
   "id": "f8496547",
   "metadata": {
    "scrolled": false
   },
   "outputs": [
    {
     "data": {
      "text/plain": [
       "Text(0.5, 0, 'Epoch')"
      ]
     },
     "execution_count": 29,
     "metadata": {},
     "output_type": "execute_result"
    },
    {
     "data": {
      "image/png": "[encoded data removed]",
      "text/plain": [
       "<Figure size 640x480 with 1 Axes>"
      ]
     },
     "metadata": {},
     "output_type": "display_data"
    }
   ],
   "source": [
    "plt.plot(range(num_epochs), losses2)\n",
    "plt.ylabel(\"Loss / Error\")\n",
    "plt.xlabel('Epoch')"
   ]
  },
  {
   "cell_type": "markdown",
   "id": "0f21129d",
   "metadata": {},
   "source": [
    "# 2.1 Model testing"
   ]
  },
  {
   "cell_type": "code",
   "execution_count": 43,
   "id": "6c4f5ca7",
   "metadata": {},
   "outputs": [],
   "source": [
    "model201 = ImprovedECGModel(input_size=2, hidden_size=50, num_classes_normality=len(y_normality_train.unique()))"
   ]
  },
  {
   "cell_type": "code",
   "execution_count": 44,
   "id": "69326af5",
   "metadata": {
    "scrolled": false
   },
   "outputs": [
    {
     "name": "stdout",
     "output_type": "stream",
     "text": [
      "Epoch [10/100], Loss: 1.5599994659423828\n",
      "Epoch [20/100], Loss: 1.5606694221496582\n",
      "Epoch [30/100], Loss: 1.5603598356246948\n",
      "Epoch [40/100], Loss: 1.5606578588485718\n",
      "Epoch [50/100], Loss: 1.5602436065673828\n",
      "Epoch [60/100], Loss: 1.560093879699707\n",
      "Epoch [70/100], Loss: 1.5607216358184814\n",
      "Epoch [80/100], Loss: 1.5602213144302368\n",
      "Epoch [90/100], Loss: 1.5605425834655762\n",
      "Epoch [100/100], Loss: 1.5599455833435059\n"
     ]
    }
   ],
   "source": [
    "losses201 = []\n",
    "\n",
    "for epoch in range(num_epochs):\n",
    "    # Forward pass\n",
    "    rpeak_pred, normality_pred = model201(X_train_tensor)\n",
    "\n",
    "    # Compute loss\n",
    "    loss_rpeak = criterion_rpeak(rpeak_pred.squeeze(), y_rpeak_train_tensor)\n",
    "    loss_normality = criterion_normality(normality_pred, y_normality_train_tensor)\n",
    "    loss = loss_rpeak + loss_normality  # Combine losses\n",
    "    losses201.append(loss.item())\n",
    "    # Backward pass and optimization\n",
    "    optimizer.zero_grad()\n",
    "    loss.backward()\n",
    "    optimizer.step()\n",
    "\n",
    "    if (epoch+1) % 10 == 0:  # Print every 10 epochs\n",
    "        print(f'Epoch [{epoch+1}/{num_epochs}], Loss: {loss.item()}')"
   ]
  },
  {
   "cell_type": "code",
   "execution_count": 46,
   "id": "8681dc34",
   "metadata": {},
   "outputs": [
    {
     "data": {
      "text/plain": [
       "Text(0.5, 0, 'Epoch')"
      ]
     },
     "execution_count": 46,
     "metadata": {},
     "output_type": "execute_result"
    },
    {
     "data": {
      "image/png": "[encoded data removed]",
      "text/plain": [
       "<Figure size 640x480 with 1 Axes>"
      ]
     },
     "metadata": {},
     "output_type": "display_data"
    }
   ],
   "source": [
    "plt.plot(range(num_epochs), losses201)\n",
    "plt.ylabel(\"Loss / Error\")\n",
    "plt.xlabel('Epoch')"
   ]
  },
  {
   "cell_type": "markdown",
   "id": "cfcb540c",
   "metadata": {},
   "source": [
    "# 2.2 Model testing"
   ]
  },
  {
   "cell_type": "code",
   "execution_count": 47,
   "id": "4f5b5dd9",
   "metadata": {},
   "outputs": [],
   "source": [
    "model202 = SimplifiedECGModel(input_size=2, hidden_size=50, num_classes_normality=len(y_normality_train.unique()))"
   ]
  },
  {
   "cell_type": "code",
   "execution_count": 49,
   "id": "fc140888",
   "metadata": {},
   "outputs": [
    {
     "name": "stdout",
     "output_type": "stream",
     "text": [
      "Epoch [10/100], Loss: 118.4022216796875\n",
      "Epoch [20/100], Loss: 118.4250259399414\n",
      "Epoch [30/100], Loss: 118.28131103515625\n",
      "Epoch [40/100], Loss: 118.47525787353516\n",
      "Epoch [50/100], Loss: 118.16864776611328\n",
      "Epoch [60/100], Loss: 118.50666046142578\n",
      "Epoch [70/100], Loss: 118.3860855102539\n",
      "Epoch [80/100], Loss: 118.28736114501953\n",
      "Epoch [90/100], Loss: 118.60029602050781\n",
      "Epoch [100/100], Loss: 118.52527618408203\n"
     ]
    }
   ],
   "source": [
    "losses202 = []\n",
    "y_normality_train_tensor = y_normality_train_tensor.squeeze()  # Remove extra dimensions if any\n",
    "y_normality_train_tensor = y_normality_train_tensor.long()  # Ensure it's in long format\n",
    "\n",
    "for epoch in range(num_epochs):\n",
    "    # Forward pass\n",
    "    rpeak_pred, normality_pred = model202(X_train_tensor)\n",
    "\n",
    "    loss_rpeak = criterion_rpeak(rpeak_pred.squeeze(), y_rpeak_train_tensor)\n",
    "    loss_normality = criterion_normality(normality_pred, y_normality_train_tensor)\n",
    "    loss = loss_rpeak + loss_normality  # Combine losses\n",
    "    losses202.append(loss.item())\n",
    "    # Backward pass and optimization\n",
    "    optimizer.zero_grad()\n",
    "    loss.backward()\n",
    "    optimizer.step()\n",
    "\n",
    "    if (epoch+1) % 10 == 0:  # Print every 10 epochs\n",
    "        print(f'Epoch [{epoch+1}/{num_epochs}], Loss: {loss.item()}')"
   ]
  },
  {
   "cell_type": "code",
   "execution_count": null,
   "id": "eb5c7218",
   "metadata": {},
   "outputs": [],
   "source": [
    "plt.plot(range(num_epochs), losses202)\n",
    "plt.ylabel(\"Loss / Error\")\n",
    "plt.xlabel('Epoch')"
   ]
  },
  {
   "cell_type": "markdown",
   "id": "52c0e51f",
   "metadata": {},
   "source": [
    "# Exploring how to find Rpeak and abnormal heartbeat\n",
    "## First variation function for finding Rpeak"
   ]
  },
  {
   "cell_type": "code",
   "execution_count": null,
   "id": "7cf676f7",
   "metadata": {},
   "outputs": [],
   "source": [
    "def detect_r_peaks(ecg_signal, sampling_rate):\n",
    "    # Derivative to highlight the QRS complex\n",
    "    diff_signal = np.diff(ecg_signal)\n",
    "\n",
    "    # Squaring to make all data points positive and emphasize larger differences\n",
    "    squared_signal = diff_signal ** 2\n",
    "\n",
    "    # Moving window integration\n",
    "    window_size = int(0.12 * sampling_rate)  # 120 ms window\n",
    "    integrated_signal = np.convolve(squared_signal, np.ones(window_size)/window_size, mode='same')\n",
    "\n",
    "    # Find peaks\n",
    "    peaks, _ = find_peaks(integrated_signal, distance=sampling_rate/2.5)  \n",
    "    # assuming at least 0.4 seconds between heartbeats\n",
    "    \n",
    "    return peaks"
   ]
  },
  {
   "cell_type": "markdown",
   "id": "be258696",
   "metadata": {},
   "source": [
    "## Second variation function for finding Rpeak"
   ]
  },
  {
   "cell_type": "code",
   "execution_count": null,
   "id": "8be8ecac",
   "metadata": {},
   "outputs": [],
   "source": [
    "def detect_r_peaks2(ecg_signal, sampling_rate, threshold_factor=0.85):\n",
    "    # Find local maxima\n",
    "    window_size = int(0.12 * sampling_rate)  # 120 ms window, typical for adult human heart rate\n",
    "    peaks = []\n",
    "\n",
    "    for i in range(window_size, len(ecg_signal) - window_size):\n",
    "        window = ecg_signal[i - window_size:i + window_size]\n",
    "        if ecg_signal[i] == max(window):\n",
    "            peaks.append(i)\n",
    "\n",
    "    # Thresholding peaks\n",
    "    threshold = threshold_factor * max(ecg_signal)\n",
    "    r_peaks = np.array([peak for peak in peaks if ecg_signal[peak] > threshold])\n",
    "\n",
    "    return r_peaks"
   ]
  },
  {
   "cell_type": "markdown",
   "id": "9f1ea4b1",
   "metadata": {},
   "source": [
    "## Third variation function for finding Rpeak\n",
    "\n",
    "changed the window to 200ms based on the (2004 BioMedical Engineering OnLine Real time electrocardiogram QRS detection using combined adaptive threshold Ivaylo I Christov*) paper"
   ]
  },
  {
   "cell_type": "code",
   "execution_count": null,
   "id": "e7a8d0b6",
   "metadata": {},
   "outputs": [],
   "source": [
    "def detect_r_peaks3(ecg_signal, sampling_rate, threshold_factor=0.85):\n",
    "    # Find local maxima\n",
    "    window_size = int(0.2 * sampling_rate)  # 200 ms window\n",
    "    peaks = []\n",
    "\n",
    "    for i in range(window_size, len(ecg_signal) - window_size):\n",
    "        window = ecg_signal[i - window_size:i + window_size]\n",
    "        if ecg_signal[i] == max(window):\n",
    "            peaks.append(i)\n",
    "\n",
    "    # Thresholding peaks\n",
    "    threshold = threshold_factor * max(ecg_signal)\n",
    "    r_peaks = np.array([peak for peak in peaks if ecg_signal[peak] > threshold])\n",
    "\n",
    "    # Calculating RR intervals\n",
    "    rr_intervals = np.diff(r_peaks) / sampling_rate  # Convert to seconds\n",
    "\n",
    "    # Normality check for each R-peak based on RR intervals\n",
    "    r_peak_normality = []\n",
    "    if len(rr_intervals) > 0:\n",
    "        mean_rr = np.mean(rr_intervals)\n",
    "        # For each R-peak, check if the following RR interval is normal\n",
    "        for i in range(len(r_peaks) - 1):\n",
    "            is_normal = abs(rr_intervals[i] - mean_rr) < 0.20 * mean_rr\n",
    "            r_peak_normality.append(is_normal)\n",
    "        # The last R-peak's normality is assessed based on the last RR interval\n",
    "        r_peak_normality.append(abs(rr_intervals[-1] - mean_rr) < 0.20 * mean_rr)\n",
    "\n",
    "    return r_peaks, r_peak_normality"
   ]
  },
  {
   "cell_type": "markdown",
   "id": "a4c97623",
   "metadata": {},
   "source": [
    "## Loading data and obtaining Rpeak"
   ]
  },
  {
   "cell_type": "code",
   "execution_count": null,
   "id": "745af031",
   "metadata": {},
   "outputs": [],
   "source": [
    "# Load the data\n",
    "df = pd.read_csv('data/100.csv')\n",
    "df.columns = ['samp_num', 'MLII', 'V5']\n",
    "\n",
    "# Extract the MLII data\n",
    "mlii_signal = df['MLII'].values\n",
    "\n",
    "# Define sampling rate\n",
    "sampling_rate = 360\n",
    "\n",
    "# Detect R-peaks\n",
    "r_peaks1 = detect_r_peaks(mlii_signal, sampling_rate)\n",
    "r_peaks2 = detect_r_peaks2(mlii_signal, sampling_rate)"
   ]
  },
  {
   "cell_type": "code",
   "execution_count": null,
   "id": "763c8be6",
   "metadata": {},
   "outputs": [],
   "source": [
    "r_peaks3, is_normal3 = detect_r_peaks3(mlii_signal, sampling_rate)"
   ]
  },
  {
   "cell_type": "code",
   "execution_count": null,
   "id": "0c6c5efe",
   "metadata": {
    "scrolled": true
   },
   "outputs": [],
   "source": [
    "r_peaks3[:5]"
   ]
  },
  {
   "cell_type": "code",
   "execution_count": null,
   "id": "01fb7ca6",
   "metadata": {},
   "outputs": [],
   "source": [
    "is_normal3[:5]"
   ]
  },
  {
   "cell_type": "markdown",
   "id": "a2d5d844",
   "metadata": {},
   "source": [
    "# comparing Rpeaks:"
   ]
  },
  {
   "cell_type": "code",
   "execution_count": null,
   "id": "efbdd8ba",
   "metadata": {},
   "outputs": [],
   "source": [
    "peak1 = r_peaks1.tolist()\n",
    "peak2 = r_peaks2.tolist()"
   ]
  },
  {
   "cell_type": "code",
   "execution_count": null,
   "id": "8ab5d9f9",
   "metadata": {},
   "outputs": [],
   "source": [
    "r_peaks1"
   ]
  },
  {
   "cell_type": "code",
   "execution_count": null,
   "id": "b9d7fecf",
   "metadata": {},
   "outputs": [],
   "source": [
    "# Slicing the DataFrame\n",
    "df_x = df.iloc[:3000]\n",
    "\n",
    "# Filtering R-peaks\n",
    "r_peaks_x = [int(r_peak) for r_peak in refRpeak if int(r_peak) < 3000]\n",
    "\n",
    "# Plotting\n",
    "plt.figure(figsize=(20, 10))\n",
    "plt.plot(df_x['samp_num'], df_x['MLII'], label='MLII Signal')\n",
    "\n",
    "# Ensuring that the indices for R-peaks are within the range of the sliced DataFrame\n",
    "valid_r_peaks_x = df_x['samp_num'].iloc[r_peaks_x]\n",
    "plt.plot(valid_r_peaks_x, df_x['MLII'].iloc[r_peaks_x], 'ro', label='R-peaks')\n",
    "\n",
    "plt.title('Referenced R-Peaks in MLII Signal')\n",
    "plt.xlabel('Sample Number')\n",
    "plt.ylabel('Amplitude')\n",
    "plt.legend()\n",
    "plt.show()"
   ]
  },
  {
   "cell_type": "code",
   "execution_count": null,
   "id": "b79b11ef",
   "metadata": {
    "scrolled": false
   },
   "outputs": [],
   "source": [
    "# Slicing the DataFrame\n",
    "df_x = df.iloc[:1000]\n",
    "\n",
    "# Filtering R-peaks\n",
    "r_peaks_x = r_peaks1[r_peaks1 < 1000]\n",
    "\n",
    "# Plotting\n",
    "plt.figure(figsize=(10, 6))\n",
    "plt.plot(df_x['samp_num'], df_x['MLII'], label='MLII Signal')\n",
    "plt.plot(df_x['samp_num'][r_peaks_x], df_x['MLII'][r_peaks_x], 'ro', label='R-peaks')\n",
    "plt.title('R-Peaks in MLII Signal')\n",
    "plt.xlabel('Sample Number')\n",
    "plt.ylabel('Amplitude')\n",
    "plt.legend()\n",
    "plt.show()"
   ]
  },
  {
   "cell_type": "code",
   "execution_count": null,
   "id": "3809c6f4",
   "metadata": {
    "scrolled": false
   },
   "outputs": [],
   "source": [
    "# Slicing the DataFrame\n",
    "df_x = df.iloc[:1000]\n",
    "\n",
    "# Filtering R-peaks\n",
    "r_peaks_x = [peak for peak in r_peaks2 if peak < 1000]\n",
    "\n",
    "# Plotting\n",
    "plt.figure(figsize=(10, 6))\n",
    "plt.plot(df_x['samp_num'], df_x['MLII'], label='MLII Signal')\n",
    "\n",
    "# Ensuring that the indices for R-peaks are within the range of the sliced DataFrame\n",
    "valid_r_peaks_x = df_x['samp_num'].iloc[r_peaks_x]\n",
    "plt.plot(valid_r_peaks_x, df_x['MLII'].iloc[r_peaks_x], 'ro', label='R-peaks')\n",
    "\n",
    "plt.title('R-Peaks in MLII Signal')\n",
    "plt.xlabel('Sample Number')\n",
    "plt.ylabel('Amplitude')\n",
    "plt.legend()\n",
    "plt.show()"
   ]
  },
  {
   "cell_type": "code",
   "execution_count": null,
   "id": "fe63771c",
   "metadata": {
    "scrolled": false
   },
   "outputs": [],
   "source": [
    "# Slicing the DataFrame\n",
    "df_x = df.iloc[:10000]\n",
    "\n",
    "# Filtering R-peaks\n",
    "r_peaks_x = [peak for peak in r_peaks2 if peak < 10000]\n",
    "\n",
    "# Plotting\n",
    "plt.figure(figsize=(20, 10))\n",
    "plt.plot(df_x['samp_num'], df_x['MLII'], label='MLII Signal')\n",
    "\n",
    "# Ensuring that the indices for R-peaks are within the range of the sliced DataFrame\n",
    "valid_r_peaks_x = df_x['samp_num'].iloc[r_peaks_x]\n",
    "plt.plot(valid_r_peaks_x, df_x['MLII'].iloc[r_peaks_x], 'ro', label='R-peaks')\n",
    "\n",
    "plt.title('R-Peaks in MLII Signal')\n",
    "plt.xlabel('Sample Number')\n",
    "plt.ylabel('Amplitude')\n",
    "plt.legend()\n",
    "plt.show()"
   ]
  },
  {
   "cell_type": "code",
   "execution_count": null,
   "id": "71cb7baf",
   "metadata": {},
   "outputs": [],
   "source": [
    "# Slicing the DataFrame\n",
    "df_x = df.iloc[:10000]\n",
    "\n",
    "# Filtering R-peaks\n",
    "r_peaks_x = [peak for peak in r_peaks3 if peak < 10000]\n",
    "# Filtering corresponding normality booleans\n",
    "normality_x = is_normal3[:len(r_peaks_x)]\n",
    "\n",
    "# Plotting\n",
    "plt.figure(figsize=(20, 10))\n",
    "plt.plot(df_x['samp_num'], df_x['MLII'], label='MLII Signal')\n",
    "\n",
    "# Plotting R-peaks with color based on normality\n",
    "for r_peak, is_normal3 in zip(r_peaks_x, normality_x):\n",
    "    color = 'green' if is_normal3 else 'red'\n",
    "    plt.plot(df_x['samp_num'].iloc[r_peak], df_x['MLII'].iloc[r_peak], 'o', color=color)\n",
    "\n",
    "plt.title('R-Peaks in MLII Signal with Normality Indication')\n",
    "plt.xlabel('Sample Number')\n",
    "plt.ylabel('Amplitude')\n",
    "plt.legend()\n",
    "plt.show()\n"
   ]
  },
  {
   "cell_type": "code",
   "execution_count": null,
   "id": "8037c4f4",
   "metadata": {},
   "outputs": [],
   "source": [
    "is_normal3"
   ]
  },
  {
   "cell_type": "code",
   "execution_count": null,
   "id": "72ccda06",
   "metadata": {},
   "outputs": [],
   "source": []
  }
 ],
 "metadata": {
  "kernelspec": {
   "display_name": "Python 3 (ipykernel)",
   "language": "python",
   "name": "python3"
  },
  "language_info": {
   "codemirror_mode": {
    "name": "ipython",
    "version": 3
   },
   "file_extension": ".py",
   "mimetype": "text/x-python",
   "name": "python",
   "nbconvert_exporter": "python",
   "pygments_lexer": "ipython3",
   "version": "3.10.8"
  }
 },
 "nbformat": 4,
 "nbformat_minor": 5
}
