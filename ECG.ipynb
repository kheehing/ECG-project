{
 "cells": [
  {
   "cell_type": "code",
   "execution_count": 1,
   "id": "93e18d1e",
   "metadata": {},
   "outputs": [],
   "source": [
    "import os, torch\n",
    "from torch import nn\n",
    "from torch.utils.data import DataLoader\n",
    "from torchvision import datasets, transforms\n",
    "from scipy.signal import find_peaks\n",
    "import numpy as np, matplotlib.pyplot as plt, pandas as pd"
   ]
  },
  {
   "cell_type": "code",
   "execution_count": 2,
   "id": "29b12ac2",
   "metadata": {},
   "outputs": [
    {
     "name": "stdout",
     "output_type": "stream",
     "text": [
      "using: mps \n"
     ]
    }
   ],
   "source": [
    "device = (\n",
    "    \"cuda\"\n",
    "    if torch.cuda.is_available()\n",
    "    else \"mps\"\n",
    "    if torch.backends.mps.is_available()\n",
    "    else \"cpu\"\n",
    ")\n",
    "print(f\"using: {device} \")"
   ]
  },
  {
   "cell_type": "code",
   "execution_count": 3,
   "id": "c23965ad",
   "metadata": {},
   "outputs": [],
   "source": [
    "df100 = pd.read_csv('data/100.csv')\n",
    "df100.columns = ['samp_num', 'MLII', 'V5']"
   ]
  },
  {
   "cell_type": "code",
   "execution_count": 4,
   "id": "bfec07dd",
   "metadata": {},
   "outputs": [
    {
     "data": {
      "text/html": [
       "<div>\n",
       "<style scoped>\n",
       "    .dataframe tbody tr th:only-of-type {\n",
       "        vertical-align: middle;\n",
       "    }\n",
       "\n",
       "    .dataframe tbody tr th {\n",
       "        vertical-align: top;\n",
       "    }\n",
       "\n",
       "    .dataframe thead th {\n",
       "        text-align: right;\n",
       "    }\n",
       "</style>\n",
       "<table border=\"1\" class=\"dataframe\">\n",
       "  <thead>\n",
       "    <tr style=\"text-align: right;\">\n",
       "      <th></th>\n",
       "      <th>samp_num</th>\n",
       "      <th>MLII</th>\n",
       "      <th>V5</th>\n",
       "    </tr>\n",
       "  </thead>\n",
       "  <tbody>\n",
       "    <tr>\n",
       "      <th>0</th>\n",
       "      <td>0</td>\n",
       "      <td>995</td>\n",
       "      <td>1011</td>\n",
       "    </tr>\n",
       "    <tr>\n",
       "      <th>1</th>\n",
       "      <td>1</td>\n",
       "      <td>995</td>\n",
       "      <td>1011</td>\n",
       "    </tr>\n",
       "    <tr>\n",
       "      <th>2</th>\n",
       "      <td>2</td>\n",
       "      <td>995</td>\n",
       "      <td>1011</td>\n",
       "    </tr>\n",
       "    <tr>\n",
       "      <th>3</th>\n",
       "      <td>3</td>\n",
       "      <td>995</td>\n",
       "      <td>1011</td>\n",
       "    </tr>\n",
       "    <tr>\n",
       "      <th>4</th>\n",
       "      <td>4</td>\n",
       "      <td>995</td>\n",
       "      <td>1011</td>\n",
       "    </tr>\n",
       "  </tbody>\n",
       "</table>\n",
       "</div>"
      ],
      "text/plain": [
       "   samp_num  MLII    V5\n",
       "0         0   995  1011\n",
       "1         1   995  1011\n",
       "2         2   995  1011\n",
       "3         3   995  1011\n",
       "4         4   995  1011"
      ]
     },
     "execution_count": 4,
     "metadata": {},
     "output_type": "execute_result"
    }
   ],
   "source": [
    "df100.head()"
   ]
  },
  {
   "cell_type": "code",
   "execution_count": 5,
   "id": "adc89615",
   "metadata": {},
   "outputs": [],
   "source": [
    "def detect_r_peaks(ecg_signal, sampling_rate):\n",
    "    # Derivative to highlight the QRS complex\n",
    "    diff_signal = np.diff(ecg_signal)\n",
    "\n",
    "    # Squaring to make all data points positive and emphasize larger differences\n",
    "    squared_signal = diff_signal ** 2\n",
    "\n",
    "    # Moving window integration\n",
    "    window_size = int(0.12 * sampling_rate)  # 120 ms window\n",
    "    integrated_signal = np.convolve(squared_signal, np.ones(window_size)/window_size, mode='same')\n",
    "\n",
    "    # Find peaks\n",
    "    peaks, _ = find_peaks(integrated_signal, distance=sampling_rate/2.5)  \n",
    "    # assuming at least 0.4 seconds between heartbeats\n",
    "    \n",
    "    return peaks"
   ]
  },
  {
   "cell_type": "code",
   "execution_count": 6,
   "id": "0c30aecc",
   "metadata": {},
   "outputs": [],
   "source": [
    "# Adjusting the QRS detection function to fit the provided data\n",
    "# The data contains 'MLII' lead, which we'll use for QRS detection\n",
    "\n",
    "def qrs_detection_christov_single_lead(ecg_signal, sampling_rate):\n",
    "    \"\"\"\n",
    "    QRS detection for a single ECG lead based on the algorithm described by Ivaylo I. Christov.\n",
    "\n",
    "    :param ecg_signal: 1D numpy array of ECG data for a single lead\n",
    "    :param sampling_rate: Sampling rate of the ECG signal in Hz\n",
    "    :return: Indices of detected QRS complexes\n",
    "    \"\"\"\n",
    "\n",
    "    # Step 2: Create Complex Lead Y (for a single lead, it's the absolute difference of adjacent samples)\n",
    "    Y = np.abs(np.diff(ecg_signal))\n",
    "\n",
    "    # Step 3: Initialize Steep-Slope Threshold M\n",
    "    initial_period = 5 * sampling_rate\n",
    "    M = 0.6 * np.max(Y[:initial_period])\n",
    "\n",
    "    # F and R thresholds are not detailed in the quoted parts, assuming constant values for simplicity\n",
    "    F = R = M / 3\n",
    "\n",
    "    # Combined adaptive threshold MFR\n",
    "    MFR = M + F + R\n",
    "\n",
    "    # Step 4: QRS Detection\n",
    "    qrs_indices = np.where(Y >= MFR)[0]\n",
    "\n",
    "    # Adjusting indices due to differentiation\n",
    "    qrs_indices = qrs_indices + 1\n",
    "\n",
    "    # Removing duplicates due to broad peaks\n",
    "    qrs_indices = np.unique(qrs_indices)\n",
    "\n",
    "    return qrs_indices"
   ]
  },
  {
   "cell_type": "code",
   "execution_count": 7,
   "id": "738297da",
   "metadata": {},
   "outputs": [],
   "source": [
    "# Load the data\n",
    "# Replace 'your_data.csv' with the path to your dataset file\n",
    "df = pd.read_csv('data/100.csv')\n",
    "df.columns = ['samp_num', 'MLII', 'V5']\n",
    "\n",
    "# Extract the MLII data\n",
    "mlii_signal = df['MLII'].values\n",
    "\n",
    "# Define the sampling rate\n",
    "# You should replace this with the actual sampling rate of your data\n",
    "sampling_rate = 360  # Example: 360 Hz\n",
    "\n",
    "# Detect R-peaks\n",
    "r_peaks = detect_r_peaks(mlii_signal, sampling_rate)\n",
    "r_peaks2 = qrs_detection_christov_single_lead(mlii_signal, sampling_rate)"
   ]
  },
  {
   "cell_type": "code",
   "execution_count": 8,
   "id": "ebadb7a6",
   "metadata": {},
   "outputs": [
    {
     "data": {
      "text/plain": [
       "array([   666,  33695,  35740,  53066, 113853, 156651, 158494, 158733,\n",
       "       158978, 159229, 159230, 160264, 161008, 161257, 161258, 161504,\n",
       "       162577, 162839, 164465, 178320, 178582, 180709, 184937, 199357,\n",
       "       202619, 241069, 242883, 244733, 244988, 251445, 256299, 260589,\n",
       "       262520, 280213, 281405, 282517, 283675, 283947, 285077, 285367,\n",
       "       286214, 286490, 287948, 289080, 289975, 291115, 292285, 293415,\n",
       "       297173, 298631, 299487, 300943, 303244, 312065, 315847, 318441,\n",
       "       320789, 323429, 326093, 327280, 333772, 336103, 336104, 336389,\n",
       "       347458, 348662, 348938, 350116, 351269, 352714, 355019, 357332,\n",
       "       357904, 358793, 359090, 360767, 361630, 361898, 365918, 366195,\n",
       "       367067, 368251, 370283, 371410, 372304, 372561, 374598, 374858,\n",
       "       374859, 375128, 375719, 376002, 377084, 377085, 377408, 378009,\n",
       "       379444, 380614, 380902, 381456, 384919, 385209, 387536, 391043,\n",
       "       392208, 394247, 396849, 398857, 400027, 401167, 402364, 407009,\n",
       "       413696, 415998, 417156, 418010, 418287, 418288, 420587, 420877,\n",
       "       421771, 422822, 424068, 426384, 426665, 428702, 431039, 433368,\n",
       "       433652, 433845, 435662, 435955, 437122, 437404, 439457, 439744,\n",
       "       440626, 441818, 442112, 442996, 444179, 445662, 447984, 450329,\n",
       "       451505, 452681, 452963, 454158, 454447, 455000, 455001, 455297,\n",
       "       456491, 457337, 457639, 458528, 460862, 461152, 461437, 462319,\n",
       "       463485, 465824, 467311, 467312, 469664, 469665, 470841, 472023,\n",
       "       472307, 473205, 474366, 475854, 476710, 477902, 478199, 479044,\n",
       "       480222, 480498, 481646, 484225, 484789, 485076, 486257, 487132,\n",
       "       487428, 493343, 494495, 495652, 495653, 495928, 496205, 497078,\n",
       "       498234, 498521, 499421, 499991, 500852, 501149, 501749, 502042,\n",
       "       502043, 502320, 503500, 504378, 504379, 504658, 505834, 506973,\n",
       "       508164, 508165, 508459, 510524, 510808, 513139, 513428, 514632,\n",
       "       515766, 516974, 517269, 517270, 517557, 518431, 519597, 519598,\n",
       "       519886, 521917, 522212, 522213, 523420, 523712, 524581, 528406,\n",
       "       528693, 530475, 530767, 532261, 534596, 534597, 535772, 536071,\n",
       "       536934, 537215, 537216, 538425, 541055, 541056, 541337, 542230,\n",
       "       543411, 545745, 547486, 548338, 548339, 549505, 549788, 550073,\n",
       "       550956, 551257, 553592, 553880, 554443, 555918, 556489, 557365,\n",
       "       558532, 558817, 559106, 560001, 560300, 561145, 561439, 562595,\n",
       "       562816, 564886, 565167, 565168, 566044, 566902, 567188, 568628,\n",
       "       570062, 571250, 572432, 573611, 573612, 573897, 573898, 575099,\n",
       "       576252, 576555, 577744, 578905, 579794, 580079, 580361, 581547,\n",
       "       581838, 581839, 582123, 582672, 582673, 582924, 595405, 595996,\n",
       "       596883, 597140, 598717, 599472, 599707, 600487, 601541, 601803,\n",
       "       602334, 603458, 603459, 603726, 604568, 605740, 605741, 606011,\n",
       "       611699, 612543, 613697, 614543, 614820, 616806, 616807, 617370,\n",
       "       617659, 618808, 619085, 619366, 619955, 620254, 621106, 621383,\n",
       "       622545, 623371, 623642, 624485, 624486, 624769, 625313, 625583,\n",
       "       625858, 625859, 626720, 627831, 628106, 628107, 628692, 629175,\n",
       "       629765, 631639, 631903, 632161, 632962, 642618, 646922, 647171,\n",
       "       649999])"
      ]
     },
     "execution_count": 8,
     "metadata": {},
     "output_type": "execute_result"
    }
   ],
   "source": [
    "r_peaks2"
   ]
  },
  {
   "cell_type": "code",
   "execution_count": 9,
   "id": "c84067e4",
   "metadata": {},
   "outputs": [
    {
     "data": {
      "image/png": "[encoded data removed]",
      "text/plain": [
       "<Figure size 720x432 with 1 Axes>"
      ]
     },
     "metadata": {
      "needs_background": "light"
     },
     "output_type": "display_data"
    }
   ],
   "source": [
    "# Slicing the DataFrame to include only the first 500 samples\n",
    "df_x = df.iloc[:10000]\n",
    "\n",
    "# Filtering R-peaks to include only those within the first 500 samples\n",
    "r_peaks_x = r_peaks2[r_peaks2 < 10000]\n",
    "\n",
    "# Plotting\n",
    "plt.figure(figsize=(10, 6))\n",
    "plt.plot(df_x['samp_num'], df_x['MLII'], label='MLII Signal')\n",
    "plt.plot(df_x['samp_num'][r_peaks_x], df_x['MLII'][r_peaks_x], 'ro', label='R-peaks')\n",
    "plt.title('R-Peaks in MLII Signal')\n",
    "plt.xlabel('Sample Number')\n",
    "plt.ylabel('Amplitude')\n",
    "plt.legend()\n",
    "plt.show()"
   ]
  },
  {
   "cell_type": "code",
   "execution_count": null,
   "id": "038aabd1",
   "metadata": {},
   "outputs": [],
   "source": []
  }
 ],
 "metadata": {
  "kernelspec": {
   "display_name": "Python 3 (ipykernel)",
   "language": "python",
   "name": "python3"
  },
  "language_info": {
   "codemirror_mode": {
    "name": "ipython",
    "version": 3
   },
   "file_extension": ".py",
   "mimetype": "text/x-python",
   "name": "python",
   "nbconvert_exporter": "python",
   "pygments_lexer": "ipython3",
   "version": "3.9.12"
  }
 },
 "nbformat": 4,
 "nbformat_minor": 5
}
