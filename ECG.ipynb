{
 "cells": [
  {
   "cell_type": "code",
   "execution_count": 1,
   "id": "078538c7",
   "metadata": {},
   "outputs": [],
   "source": [
    "import os, torch\n",
    "from torch import nn\n",
    "import torch.nn.functional as F \n",
    "from torch.utils.data import DataLoader\n",
    "from torchvision import datasets, transforms\n",
    "from scipy.signal import find_peaks\n",
    "from sklearn.model_selection import train_test_split\n",
    "import numpy as np, matplotlib.pyplot as plt, pandas as pd\n",
    "from tensorflow.keras.utils import to_categorical\n",
    "from tensorflow.keras import models, layers"
   ]
  },
  {
   "cell_type": "markdown",
   "id": "995f47c1",
   "metadata": {},
   "source": [
    "# Model 1"
   ]
  },
  {
   "cell_type": "code",
   "execution_count": 2,
   "id": "f35277ea",
   "metadata": {},
   "outputs": [],
   "source": [
    "# create a model class that inherits nn.Module\n",
    "class Model(nn.Module):\n",
    "    def __init__(self, input_features=3, h1=8, h2=9, output_features=6):\n",
    "        super().__init__()\n",
    "        self.fc1 = nn.Linear(input_features,h1)\n",
    "        self.fc2 = nn.Linear(h1, h2)\n",
    "        self.out = nn.Linear(h2, output_features)\n",
    "        \n",
    "    def forward(self, x):\n",
    "        x = F.relu(self.fc1(x))\n",
    "        x = F.relu(self.fc2(x))\n",
    "        x = self.out(x)\n",
    "        return x"
   ]
  },
  {
   "cell_type": "markdown",
   "id": "f75f0b0b",
   "metadata": {},
   "source": [
    "# Model 2"
   ]
  },
  {
   "cell_type": "code",
   "execution_count": 3,
   "id": "87ae2216",
   "metadata": {},
   "outputs": [],
   "source": [
    "class ECGModel(nn.Module):\n",
    "    def __init__(self, input_size, hidden_size, num_classes_normality):\n",
    "        super(ECGModel, self).__init__()\n",
    "        self.lstm = nn.LSTM(input_size, hidden_size, batch_first=True)\n",
    "        self.fc_rpeak = nn.Linear(hidden_size, 1)  # For rpeak detection\n",
    "        self.fc_normality = nn.Linear(hidden_size, num_classes_normality)  # For normality classification\n",
    "\n",
    "    def forward(self, x):\n",
    "        # LSTM layer\n",
    "        x, _ = self.lstm(x)\n",
    "        # x = x[:, -1, :]  # Get the last time step output\n",
    "\n",
    "        # Output layers\n",
    "        rpeak_output = torch.sigmoid(self.fc_rpeak(x))  # Sigmoid for binary classification\n",
    "        normality_output = F.softmax(self.fc_normality(x), dim=1)  # Softmax for multi-class classification\n",
    "\n",
    "        return rpeak_output, normality_output"
   ]
  },
  {
   "cell_type": "code",
   "execution_count": 4,
   "id": "7a7948ea",
   "metadata": {},
   "outputs": [
    {
     "data": {
      "text/plain": [
       "<torch._C.Generator at 0x10758fc90>"
      ]
     },
     "execution_count": 4,
     "metadata": {},
     "output_type": "execute_result"
    }
   ],
   "source": [
    "torch.manual_seed(3)"
   ]
  },
  {
   "cell_type": "markdown",
   "id": "e7b344f5",
   "metadata": {},
   "source": [
    "# Dataframe"
   ]
  },
  {
   "cell_type": "code",
   "execution_count": 5,
   "id": "9aa0c781",
   "metadata": {},
   "outputs": [],
   "source": [
    "df100 = pd.read_csv('data/100.csv')\n",
    "df100.columns = ['samp_num', 'MLII', 'V5']"
   ]
  },
  {
   "cell_type": "code",
   "execution_count": 6,
   "id": "c51669eb",
   "metadata": {},
   "outputs": [
    {
     "data": {
      "text/html": [
       "<div>\n",
       "<style scoped>\n",
       "    .dataframe tbody tr th:only-of-type {\n",
       "        vertical-align: middle;\n",
       "    }\n",
       "\n",
       "    .dataframe tbody tr th {\n",
       "        vertical-align: top;\n",
       "    }\n",
       "\n",
       "    .dataframe thead th {\n",
       "        text-align: right;\n",
       "    }\n",
       "</style>\n",
       "<table border=\"1\" class=\"dataframe\">\n",
       "  <thead>\n",
       "    <tr style=\"text-align: right;\">\n",
       "      <th></th>\n",
       "      <th>samp_num</th>\n",
       "      <th>MLII</th>\n",
       "      <th>V5</th>\n",
       "    </tr>\n",
       "  </thead>\n",
       "  <tbody>\n",
       "    <tr>\n",
       "      <th>0</th>\n",
       "      <td>0</td>\n",
       "      <td>995</td>\n",
       "      <td>1011</td>\n",
       "    </tr>\n",
       "    <tr>\n",
       "      <th>1</th>\n",
       "      <td>1</td>\n",
       "      <td>995</td>\n",
       "      <td>1011</td>\n",
       "    </tr>\n",
       "    <tr>\n",
       "      <th>2</th>\n",
       "      <td>2</td>\n",
       "      <td>995</td>\n",
       "      <td>1011</td>\n",
       "    </tr>\n",
       "    <tr>\n",
       "      <th>3</th>\n",
       "      <td>3</td>\n",
       "      <td>995</td>\n",
       "      <td>1011</td>\n",
       "    </tr>\n",
       "    <tr>\n",
       "      <th>4</th>\n",
       "      <td>4</td>\n",
       "      <td>995</td>\n",
       "      <td>1011</td>\n",
       "    </tr>\n",
       "  </tbody>\n",
       "</table>\n",
       "</div>"
      ],
      "text/plain": [
       "   samp_num  MLII    V5\n",
       "0         0   995  1011\n",
       "1         1   995  1011\n",
       "2         2   995  1011\n",
       "3         3   995  1011\n",
       "4         4   995  1011"
      ]
     },
     "execution_count": 6,
     "metadata": {},
     "output_type": "execute_result"
    }
   ],
   "source": [
    "df100.head()"
   ]
  },
  {
   "cell_type": "markdown",
   "id": "a91c75c5",
   "metadata": {},
   "source": [
    "# Reference"
   ]
  },
  {
   "cell_type": "code",
   "execution_count": 7,
   "id": "1f1e2357",
   "metadata": {},
   "outputs": [],
   "source": [
    "ref100 = pd.read_table('data/100annotations.txt',delimiter = '\\t')"
   ]
  },
  {
   "cell_type": "code",
   "execution_count": 8,
   "id": "075994a5",
   "metadata": {},
   "outputs": [
    {
     "data": {
      "text/plain": [
       "['      Time   Sample #  Type  Sub Chan  Num', 'Aux']"
      ]
     },
     "execution_count": 8,
     "metadata": {},
     "output_type": "execute_result"
    }
   ],
   "source": [
    "list(ref100.columns.values)"
   ]
  },
  {
   "cell_type": "markdown",
   "id": "b75e9720",
   "metadata": {},
   "source": [
    "rpeak"
   ]
  },
  {
   "cell_type": "code",
   "execution_count": 9,
   "id": "afa79ffa",
   "metadata": {
    "scrolled": true
   },
   "outputs": [],
   "source": [
    "ref100.columns = ['6', 'Sample']"
   ]
  },
  {
   "cell_type": "markdown",
   "id": "28a203f0",
   "metadata": {},
   "source": [
    "normality"
   ]
  },
  {
   "cell_type": "code",
   "execution_count": 10,
   "id": "1226fc36",
   "metadata": {},
   "outputs": [
    {
     "name": "stdout",
     "output_type": "stream",
     "text": [
      "0\n",
      "500\n",
      "1000\n",
      "1500\n",
      "2000\n",
      "finish\n"
     ]
    }
   ],
   "source": [
    "refNormal = []\n",
    "refRpeak = []\n",
    "for index, row in ref100.iterrows():\n",
    "    if index % 500 == 0: \n",
    "        print(index)\n",
    "    if ref100['6'][index].split()[2] == 'N' or ref100['6'][index].split()[2] == 'A':\n",
    "        refRpeak.append(ref100['6'][index].split()[1]) \n",
    "        refNormal.append(ref100['6'][index].split()[2]) \n",
    "print('finish')"
   ]
  },
  {
   "cell_type": "code",
   "execution_count": 11,
   "id": "0657a980",
   "metadata": {},
   "outputs": [
    {
     "data": {
      "text/plain": [
       "['77', '370', '662', '946', '1231']"
      ]
     },
     "execution_count": 11,
     "metadata": {},
     "output_type": "execute_result"
    }
   ],
   "source": [
    "refRpeak[:5]"
   ]
  },
  {
   "cell_type": "code",
   "execution_count": 12,
   "id": "1851cef0",
   "metadata": {},
   "outputs": [
    {
     "data": {
      "text/plain": [
       "['N', 'N', 'N', 'N', 'N']"
      ]
     },
     "execution_count": 12,
     "metadata": {},
     "output_type": "execute_result"
    }
   ],
   "source": [
    "refNormal[:5]"
   ]
  },
  {
   "cell_type": "markdown",
   "id": "0406dc6d",
   "metadata": {},
   "source": [
    "convert N to 0 and A to 1"
   ]
  },
  {
   "cell_type": "code",
   "execution_count": 13,
   "id": "33ff36bf",
   "metadata": {},
   "outputs": [],
   "source": [
    "refNormal = [1 if item == 'A' else 0 for item in refNormal]"
   ]
  },
  {
   "cell_type": "code",
   "execution_count": 14,
   "id": "f518c9ae",
   "metadata": {},
   "outputs": [
    {
     "data": {
      "text/plain": [
       "[0, 0, 0, 0, 0]"
      ]
     },
     "execution_count": 14,
     "metadata": {},
     "output_type": "execute_result"
    }
   ],
   "source": [
    "refNormal[:5]"
   ]
  },
  {
   "cell_type": "code",
   "execution_count": 15,
   "id": "6bf6154e",
   "metadata": {},
   "outputs": [
    {
     "name": "stdout",
     "output_type": "stream",
     "text": [
      "2272 : 2272\n"
     ]
    }
   ],
   "source": [
    "print(f\"{len(refNormal)} : {len(refRpeak)}\")"
   ]
  },
  {
   "cell_type": "markdown",
   "id": "a2ec0f24",
   "metadata": {},
   "source": [
    "# add annotation data to DF"
   ]
  },
  {
   "cell_type": "code",
   "execution_count": 16,
   "id": "fecaf749-e2ad-4dce-ae12-9f0a50ce7a29",
   "metadata": {},
   "outputs": [],
   "source": [
    "def add_rpeak_normality_columns(df, ref_df):\n",
    "    refRpeak = []\n",
    "    refNormal = []\n",
    "    for index, row in ref_df.iterrows():\n",
    "        if index % 500 == 0: \n",
    "            print(index)\n",
    "        if ref_df['6'][index].split()[2] in ['N', 'A']:\n",
    "            refRpeak.append(ref_df['6'][index].split()[1]) \n",
    "            refNormal.append(ref_df['6'][index].split()[2]) \n",
    "    print('Finish')\n",
    "\n",
    "    refRpeak = [int(val) for val in refRpeak]\n",
    "\n",
    "    # Create new columns in the DataFrame\n",
    "    df['rpeak'] = 0\n",
    "    df['normality'] = 0\n",
    "\n",
    "    # Set 'rpeak' column values to 1 where samp_num is in refRpeak\n",
    "    df.loc[df['samp_num'].isin(refRpeak), 'rpeak'] = 1\n",
    "\n",
    "    # Set 'normality' column values based on refNormal\n",
    "    for i, normal_val in enumerate(refNormal):\n",
    "        if normal_val == 'N':\n",
    "            df.loc[df['samp_num'] == refRpeak[i], 'normality'] = 1\n",
    "        elif normal_val == 'A':\n",
    "            df.loc[df['samp_num'] == refRpeak[i], 'normality'] = 0\n",
    "\n",
    "    return df\n"
   ]
  },
  {
   "cell_type": "code",
   "execution_count": 17,
   "id": "2cbd0c86",
   "metadata": {},
   "outputs": [
    {
     "name": "stdout",
     "output_type": "stream",
     "text": [
      "0\n",
      "500\n",
      "1000\n",
      "1500\n",
      "2000\n",
      "Finish\n"
     ]
    }
   ],
   "source": [
    "df100 = add_rpeak_normality_columns(df100, ref100)"
   ]
  },
  {
   "cell_type": "code",
   "execution_count": 18,
   "id": "9a7544b0",
   "metadata": {},
   "outputs": [
    {
     "data": {
      "text/html": [
       "<div>\n",
       "<style scoped>\n",
       "    .dataframe tbody tr th:only-of-type {\n",
       "        vertical-align: middle;\n",
       "    }\n",
       "\n",
       "    .dataframe tbody tr th {\n",
       "        vertical-align: top;\n",
       "    }\n",
       "\n",
       "    .dataframe thead th {\n",
       "        text-align: right;\n",
       "    }\n",
       "</style>\n",
       "<table border=\"1\" class=\"dataframe\">\n",
       "  <thead>\n",
       "    <tr style=\"text-align: right;\">\n",
       "      <th></th>\n",
       "      <th>samp_num</th>\n",
       "      <th>MLII</th>\n",
       "      <th>V5</th>\n",
       "      <th>rpeak</th>\n",
       "      <th>normality</th>\n",
       "    </tr>\n",
       "  </thead>\n",
       "  <tbody>\n",
       "    <tr>\n",
       "      <th>0</th>\n",
       "      <td>0</td>\n",
       "      <td>995</td>\n",
       "      <td>1011</td>\n",
       "      <td>0</td>\n",
       "      <td>0</td>\n",
       "    </tr>\n",
       "    <tr>\n",
       "      <th>1</th>\n",
       "      <td>1</td>\n",
       "      <td>995</td>\n",
       "      <td>1011</td>\n",
       "      <td>0</td>\n",
       "      <td>0</td>\n",
       "    </tr>\n",
       "    <tr>\n",
       "      <th>2</th>\n",
       "      <td>2</td>\n",
       "      <td>995</td>\n",
       "      <td>1011</td>\n",
       "      <td>0</td>\n",
       "      <td>0</td>\n",
       "    </tr>\n",
       "    <tr>\n",
       "      <th>3</th>\n",
       "      <td>3</td>\n",
       "      <td>995</td>\n",
       "      <td>1011</td>\n",
       "      <td>0</td>\n",
       "      <td>0</td>\n",
       "    </tr>\n",
       "    <tr>\n",
       "      <th>4</th>\n",
       "      <td>4</td>\n",
       "      <td>995</td>\n",
       "      <td>1011</td>\n",
       "      <td>0</td>\n",
       "      <td>0</td>\n",
       "    </tr>\n",
       "  </tbody>\n",
       "</table>\n",
       "</div>"
      ],
      "text/plain": [
       "   samp_num  MLII    V5  rpeak  normality\n",
       "0         0   995  1011      0          0\n",
       "1         1   995  1011      0          0\n",
       "2         2   995  1011      0          0\n",
       "3         3   995  1011      0          0\n",
       "4         4   995  1011      0          0"
      ]
     },
     "execution_count": 18,
     "metadata": {},
     "output_type": "execute_result"
    }
   ],
   "source": [
    "df100.head()"
   ]
  },
  {
   "cell_type": "markdown",
   "id": "893fb9ce",
   "metadata": {},
   "source": [
    "# split train test"
   ]
  },
  {
   "cell_type": "code",
   "execution_count": 19,
   "id": "a60a05ef",
   "metadata": {},
   "outputs": [],
   "source": [
    "X = df100[['samp_num', 'MLII', 'V5']]\n",
    "y = df100[['rpeak', 'normality']]\n",
    "X_train, X_test, y_train, y_test = train_test_split(X, y, test_size=0.2, random_state=42)"
   ]
  },
  {
   "cell_type": "code",
   "execution_count": 20,
   "id": "6bb4cf18-4ce7-4500-8622-1ca7064e20fa",
   "metadata": {},
   "outputs": [
    {
     "data": {
      "text/html": [
       "<div>\n",
       "<style scoped>\n",
       "    .dataframe tbody tr th:only-of-type {\n",
       "        vertical-align: middle;\n",
       "    }\n",
       "\n",
       "    .dataframe tbody tr th {\n",
       "        vertical-align: top;\n",
       "    }\n",
       "\n",
       "    .dataframe thead th {\n",
       "        text-align: right;\n",
       "    }\n",
       "</style>\n",
       "<table border=\"1\" class=\"dataframe\">\n",
       "  <thead>\n",
       "    <tr style=\"text-align: right;\">\n",
       "      <th></th>\n",
       "      <th>samp_num</th>\n",
       "      <th>MLII</th>\n",
       "      <th>V5</th>\n",
       "    </tr>\n",
       "  </thead>\n",
       "  <tbody>\n",
       "    <tr>\n",
       "      <th>238811</th>\n",
       "      <td>238811</td>\n",
       "      <td>987</td>\n",
       "      <td>988</td>\n",
       "    </tr>\n",
       "    <tr>\n",
       "      <th>9501</th>\n",
       "      <td>9501</td>\n",
       "      <td>934</td>\n",
       "      <td>960</td>\n",
       "    </tr>\n",
       "    <tr>\n",
       "      <th>604260</th>\n",
       "      <td>604260</td>\n",
       "      <td>929</td>\n",
       "      <td>954</td>\n",
       "    </tr>\n",
       "    <tr>\n",
       "      <th>118629</th>\n",
       "      <td>118629</td>\n",
       "      <td>942</td>\n",
       "      <td>995</td>\n",
       "    </tr>\n",
       "    <tr>\n",
       "      <th>151291</th>\n",
       "      <td>151291</td>\n",
       "      <td>955</td>\n",
       "      <td>964</td>\n",
       "    </tr>\n",
       "  </tbody>\n",
       "</table>\n",
       "</div>"
      ],
      "text/plain": [
       "        samp_num  MLII   V5\n",
       "238811    238811   987  988\n",
       "9501        9501   934  960\n",
       "604260    604260   929  954\n",
       "118629    118629   942  995\n",
       "151291    151291   955  964"
      ]
     },
     "execution_count": 20,
     "metadata": {},
     "output_type": "execute_result"
    }
   ],
   "source": [
    "X_train.head()"
   ]
  },
  {
   "cell_type": "code",
   "execution_count": 21,
   "id": "648edb7e",
   "metadata": {},
   "outputs": [],
   "source": [
    "# x to tensors long\n",
    "X_train_tensor = torch.LongTensor(X_train.to_numpy()).to(torch.float)\n",
    "X_test_tensor = torch.LongTensor(X_test.to_numpy()).to(torch.float)\n",
    "\n",
    "# y to tensors long\n",
    "y_train_tensor = torch.LongTensor(y_train.to_numpy()).to(torch.float)\n",
    "y_test_tensor = torch.LongTensor(y_test.to_numpy()).to(torch.float)"
   ]
  },
  {
   "cell_type": "markdown",
   "id": "fea93a39",
   "metadata": {},
   "source": [
    "# 1st Model testing"
   ]
  },
  {
   "cell_type": "code",
   "execution_count": 22,
   "id": "84f2d1d7",
   "metadata": {},
   "outputs": [],
   "source": [
    "# set the citerion of model to measure the error (how off the predictions are from)\n",
    "criterion = nn.MSELoss()\n",
    "model = Model()\n",
    "# choose Adam optimizer (lr = learning rate)\n",
    "optimizer = torch.optim.Adam(model.parameters(), lr=0.001)\n",
    "input_size = len(X_train.columns)\n",
    "output_size = len(y_train.columns)\n",
    "\n",
    "model = Model(input_features=input_size, output_features=output_size)"
   ]
  },
  {
   "cell_type": "markdown",
   "id": "43d95798",
   "metadata": {},
   "source": [
    "## Train 1st model"
   ]
  },
  {
   "cell_type": "code",
   "execution_count": 23,
   "id": "7fc9bc62",
   "metadata": {},
   "outputs": [
    {
     "name": "stdout",
     "output_type": "stream",
     "text": [
      "Epoch0 loss: 17756696.0\n",
      "Epoch10 loss: 17756696.0\n",
      "Epoch20 loss: 17756696.0\n",
      "Epoch30 loss: 17756696.0\n",
      "Epoch40 loss: 17756696.0\n",
      "Epoch50 loss: 17756696.0\n",
      "Epoch60 loss: 17756696.0\n",
      "Epoch70 loss: 17756696.0\n",
      "Epoch80 loss: 17756696.0\n",
      "Epoch90 loss: 17756696.0\n"
     ]
    }
   ],
   "source": [
    "epoch = 100\n",
    "losses1 = []\n",
    "for i in range(epoch):\n",
    "    # prediction\n",
    "    X_train_tensor = torch.FloatTensor(X_train.to_numpy())\n",
    "    y_pred = model.forward(X_train_tensor)\n",
    "    \n",
    "    # measure loss\n",
    "    loss = criterion(y_pred, y_train_tensor) #predicted value vs the y_train\n",
    "    \n",
    "    # track losses\n",
    "    losses1.append(loss.detach().numpy())\n",
    "    \n",
    "    #print every 10 epoch\n",
    "    if i % 10 == 0:\n",
    "        print(f\"Epoch{i} loss: {loss}\")\n",
    "        \n",
    "    for param in model.parameters():\n",
    "        param.requires_grad_(True)\n",
    "        param.data = param.data.to(torch.float)\n",
    "    \n",
    "    # take error rate of forward propagation and feedback through the network to fine tune the weights\n",
    "    optimizer.zero_grad()\n",
    "    loss.backward()\n",
    "    optimizer.step()"
   ]
  },
  {
   "cell_type": "markdown",
   "id": "7d909711",
   "metadata": {},
   "source": [
    "I don't know why the loss is so big for the first model... let me try again."
   ]
  },
  {
   "cell_type": "markdown",
   "id": "3a2407c4",
   "metadata": {},
   "source": [
    "# 2nd Model testing"
   ]
  },
  {
   "cell_type": "code",
   "execution_count": 24,
   "id": "d21c7621",
   "metadata": {},
   "outputs": [],
   "source": [
    "X = df100[['MLII', 'V5']]\n",
    "y_rpeak = df100['rpeak']\n",
    "y_normality = df100['normality']\n",
    "\n",
    "X_train, X_test, y_rpeak_train, y_rpeak_test, y_normality_train, y_normality_test = train_test_split(\n",
    "    X, y_rpeak, y_normality, test_size=0.2, random_state=42)"
   ]
  },
  {
   "cell_type": "code",
   "execution_count": 25,
   "id": "4b9b5f6c",
   "metadata": {},
   "outputs": [],
   "source": [
    "# Convert the training and testing data to tensors\n",
    "X_train_tensor = torch.tensor(X_train.values).float()\n",
    "y_rpeak_train_tensor = torch.tensor(y_rpeak_train.values).float()\n",
    "y_normality_train_tensor = torch.tensor(y_normality_train.values).long()  # Use .long() for classification labels\n",
    "\n",
    "X_test_tensor = torch.tensor(X_test.values).float()\n",
    "y_rpeak_test_tensor = torch.tensor(y_rpeak_test.values).float()\n",
    "y_normality_test_tensor = torch.tensor(y_normality_test.values).long()\n",
    "\n",
    "# Assuming each row in X_train is an independent observation\n",
    "X_train_tensor = torch.tensor(X_train.values).float()\n",
    "X_train_tensor = X_train_tensor.unsqueeze(1)  # Add a sequence dimension"
   ]
  },
  {
   "cell_type": "code",
   "execution_count": 26,
   "id": "1b483662",
   "metadata": {},
   "outputs": [],
   "source": [
    "model = ECGModel(input_size=2, hidden_size=100, num_classes_normality=len(y_normality_train.unique()))"
   ]
  },
  {
   "cell_type": "code",
   "execution_count": 27,
   "id": "89865a52",
   "metadata": {},
   "outputs": [],
   "source": [
    "criterion_rpeak = torch.nn.BCELoss()  # Binary Cross-Entropy Loss for rpeak\n",
    "criterion_normality = torch.nn.CrossEntropyLoss()  # Cross-Entropy Loss for normality\n",
    "optimizer = torch.optim.Adam(model.parameters(), lr=0.001)"
   ]
  },
  {
   "cell_type": "code",
   "execution_count": 28,
   "id": "b805113a",
   "metadata": {},
   "outputs": [
    {
     "name": "stdout",
     "output_type": "stream",
     "text": [
      "Epoch [10/100], Loss: 1.2732683420181274\n",
      "Epoch [20/100], Loss: 1.1597814559936523\n",
      "Epoch [30/100], Loss: 1.1005232334136963\n",
      "Epoch [40/100], Loss: 1.0535883903503418\n",
      "Epoch [50/100], Loss: 1.0132462978363037\n",
      "Epoch [60/100], Loss: 0.9788622260093689\n",
      "Epoch [70/100], Loss: 0.949578046798706\n",
      "Epoch [80/100], Loss: 0.9245686531066895\n",
      "Epoch [90/100], Loss: 0.903131365776062\n",
      "Epoch [100/100], Loss: 0.884662389755249\n"
     ]
    }
   ],
   "source": [
    "num_epochs = 100\n",
    "losses2 = []\n",
    "for epoch in range(num_epochs):\n",
    "    # Forward pass\n",
    "    rpeak_pred, normality_pred = model(X_train_tensor)\n",
    "    normality_pred = normality_pred[:, -1, :]\n",
    "    \n",
    "    # Compute loss\n",
    "    loss_rpeak = criterion_rpeak(rpeak_pred.squeeze(), y_rpeak_train_tensor)\n",
    "    loss_normality = criterion_normality(normality_pred, y_normality_train_tensor)\n",
    "    loss = loss_rpeak + loss_normality  # Combine losses\n",
    "    losses2.append(loss.item())\n",
    "    # Backward pass and optimization\n",
    "    optimizer.zero_grad()\n",
    "    loss.backward()\n",
    "    optimizer.step()\n",
    "\n",
    "    if (epoch+1) % 10 == 0:  # Print every 10 epochs\n",
    "        print(f'Epoch [{epoch+1}/{num_epochs}], Loss: {loss.item()}')"
   ]
  },
  {
   "cell_type": "code",
   "execution_count": 29,
   "id": "f5e2e227",
   "metadata": {},
   "outputs": [
    {
     "data": {
      "text/plain": [
       "Text(0.5, 0, 'Epoch')"
      ]
     },
     "execution_count": 29,
     "metadata": {},
     "output_type": "execute_result"
    },
    {
     "data": {
      "image/png": "[encoded data removed]",
      "text/plain": [
       "<Figure size 640x480 with 1 Axes>"
      ]
     },
     "metadata": {},
     "output_type": "display_data"
    }
   ],
   "source": [
    "plt.plot(range(num_epochs), losses2)\n",
    "plt.ylabel(\"Loss / Error\")\n",
    "plt.xlabel('Epoch')"
   ]
  },
  {
   "cell_type": "markdown",
   "id": "87cf31f2-49fa-4c30-aa05-9a3f67fc0a08",
   "metadata": {},
   "source": [
    "## evaluation"
   ]
  },
  {
   "cell_type": "code",
   "execution_count": 30,
   "id": "4674c990-8433-4fac-b7aa-e2211e52656d",
   "metadata": {},
   "outputs": [
    {
     "name": "stdout",
     "output_type": "stream",
     "text": [
      "tensor(0.7508)\n"
     ]
    }
   ],
   "source": [
    "model.eval()  # Set the model to evaluation mode\n",
    "\n",
    "with torch.no_grad():\n",
    "    rpeak_pred, normality_pred = model(X_test_tensor)  # X_test are features from the test set\n",
    "\n",
    "    # Assuming you have separate loss functions for each task\n",
    "    loss_rpeak = criterion_rpeak(rpeak_pred.squeeze(), y_rpeak_test_tensor)\n",
    "    loss_normality = criterion_normality(normality_pred, y_normality_test_tensor)\n",
    "\n",
    "    # You can then combine these losses if needed or handle them separately\n",
    "    total_loss = loss_rpeak + loss_normality\n",
    "    print (total_loss)"
   ]
  },
  {
   "cell_type": "code",
   "execution_count": 31,
   "id": "0cda82ce-dba6-42ab-9c56-c6d76ab01ecd",
   "metadata": {},
   "outputs": [
    {
     "name": "stdout",
     "output_type": "stream",
     "text": [
      "R-Peak Accuracy: 99.66%\n",
      "Normality Accuracy: 99.67%\n"
     ]
    }
   ],
   "source": [
    "def evaluate_model_performance(rpeak_pred, normality_pred, y_rpeak_test, y_normality_test):\n",
    "    # Assuming rpeak_pred is binary classification\n",
    "    rpeak_pred_labels = torch.round(rpeak_pred.squeeze())\n",
    "\n",
    "    # Assuming normality_pred is multi-class classification\n",
    "    # Get the predicted class with the highest probability\n",
    "    normality_pred_labels = torch.argmax(normality_pred, dim=1)\n",
    "\n",
    "    # Calculate accuracy for rpeak predictions\n",
    "    rpeak_accuracy = (rpeak_pred_labels == y_rpeak_test).float().mean()\n",
    "\n",
    "    # Calculate accuracy for normality predictions\n",
    "    normality_accuracy = (normality_pred_labels == y_normality_test).float().mean()\n",
    "\n",
    "    return rpeak_accuracy.item(), normality_accuracy.item()\n",
    "\n",
    "# Usage\n",
    "rpeak_accuracy, normality_accuracy = evaluate_model_performance(rpeak_pred, normality_pred, y_rpeak_test_tensor, y_normality_test_tensor)\n",
    "print(f\"R-Peak Accuracy: {rpeak_accuracy * 100:.2f}%\")\n",
    "print(f\"Normality Accuracy: {normality_accuracy * 100:.2f}%\")\n"
   ]
  },
  {
   "cell_type": "markdown",
   "id": "31a87392-dc8b-495c-bfac-602c44050261",
   "metadata": {},
   "source": [
    "# TensorFlow\n",
    "### Preprocessing"
   ]
  },
  {
   "cell_type": "code",
   "execution_count": 32,
   "id": "ef0ee869-88f6-47d0-abd9-d0bc107204ea",
   "metadata": {},
   "outputs": [],
   "source": [
    "# Loading data\n",
    "\n",
    "# Select features ('MLII' and 'V5') for X\n",
    "X = df100[['MLII', 'V5']].to_numpy()\n",
    "\n",
    "# Normalize the feature data\n",
    "X = X.astype('float32') / 255\n",
    "\n",
    "# Select labels ('rpeak' and 'normality') for y\n",
    "# Using 'normality' as the label\n",
    "y = df100['normality'].to_numpy()\n",
    "y = to_categorical(y)"
   ]
  },
  {
   "cell_type": "markdown",
   "id": "4fd6935e-ca6e-46b4-b7ee-bb0abaa66a2a",
   "metadata": {},
   "source": [
    "### Building"
   ]
  },
  {
   "cell_type": "code",
   "execution_count": 33,
   "id": "db3876e6-eb4f-446a-9993-eb9f28576a01",
   "metadata": {},
   "outputs": [],
   "source": [
    "# Determine the number of unique classes in 'normality'\n",
    "num_classes = len(np.unique(df100['normality']))\n",
    "\n",
    "network = models.Sequential()\n",
    "network.add(layers.Dense(512, activation='relu', input_shape=(2,))) # 2 features: MLII, V5\n",
    "network.add(layers.Dense(num_classes, activation='softmax')) # Update for your number of classes\n",
    "network.compile(optimizer='rmsprop',\n",
    "                loss='categorical_crossentropy', \n",
    "                metrics=['accuracy'])"
   ]
  },
  {
   "cell_type": "markdown",
   "id": "1777f84b-f4ae-4173-b137-151c425be187",
   "metadata": {},
   "source": [
    "### Training"
   ]
  },
  {
   "cell_type": "code",
   "execution_count": 34,
   "id": "949a01e4-90e5-4f44-89f1-63bef80192b2",
   "metadata": {},
   "outputs": [
    {
     "data": {
      "text/plain": [
       "650000"
      ]
     },
     "execution_count": 34,
     "metadata": {},
     "output_type": "execute_result"
    }
   ],
   "source": [
    "len(X)"
   ]
  },
  {
   "cell_type": "code",
   "execution_count": 35,
   "id": "3e880741-e605-4e80-89ca-15ba5a612ccb",
   "metadata": {},
   "outputs": [
    {
     "name": "stdout",
     "output_type": "stream",
     "text": [
      "Epoch 1/20\n",
      "2735/2735 [==============================] - 2s 710us/step - loss: 0.0178 - accuracy: 0.9964 - val_loss: 0.0251 - val_accuracy: 0.9906\n",
      "Epoch 2/20\n",
      "2735/2735 [==============================] - 2s 684us/step - loss: 0.0103 - accuracy: 0.9961 - val_loss: 0.0078 - val_accuracy: 0.9965\n",
      "Epoch 3/20\n",
      "2735/2735 [==============================] - 2s 684us/step - loss: 0.0084 - accuracy: 0.9964 - val_loss: 0.0096 - val_accuracy: 0.9965\n",
      "Epoch 4/20\n",
      "2735/2735 [==============================] - 2s 685us/step - loss: 0.0076 - accuracy: 0.9965 - val_loss: 0.0134 - val_accuracy: 0.9965\n",
      "Epoch 5/20\n",
      "2735/2735 [==============================] - 2s 687us/step - loss: 0.0072 - accuracy: 0.9967 - val_loss: 0.0100 - val_accuracy: 0.9965\n",
      "Epoch 6/20\n",
      "2735/2735 [==============================] - 2s 684us/step - loss: 0.0069 - accuracy: 0.9969 - val_loss: 0.0070 - val_accuracy: 0.9965\n",
      "Epoch 7/20\n",
      "2735/2735 [==============================] - 2s 690us/step - loss: 0.0068 - accuracy: 0.9969 - val_loss: 0.0071 - val_accuracy: 0.9966\n",
      "Epoch 8/20\n",
      "2735/2735 [==============================] - 2s 684us/step - loss: 0.0067 - accuracy: 0.9970 - val_loss: 0.0076 - val_accuracy: 0.9963\n",
      "Epoch 9/20\n",
      "2735/2735 [==============================] - 2s 685us/step - loss: 0.0066 - accuracy: 0.9970 - val_loss: 0.0078 - val_accuracy: 0.9965\n",
      "Epoch 10/20\n",
      "2735/2735 [==============================] - 2s 684us/step - loss: 0.0067 - accuracy: 0.9968 - val_loss: 0.0054 - val_accuracy: 0.9975\n",
      "Epoch 11/20\n",
      "2735/2735 [==============================] - 2s 684us/step - loss: 0.0066 - accuracy: 0.9970 - val_loss: 0.0083 - val_accuracy: 0.9962\n",
      "Epoch 12/20\n",
      "2735/2735 [==============================] - 2s 683us/step - loss: 0.0066 - accuracy: 0.9970 - val_loss: 0.0092 - val_accuracy: 0.9965\n",
      "Epoch 13/20\n",
      "2735/2735 [==============================] - 2s 681us/step - loss: 0.0066 - accuracy: 0.9970 - val_loss: 0.0075 - val_accuracy: 0.9965\n",
      "Epoch 14/20\n",
      "2735/2735 [==============================] - 2s 686us/step - loss: 0.0068 - accuracy: 0.9970 - val_loss: 0.0073 - val_accuracy: 0.9965\n",
      "Epoch 15/20\n",
      "2735/2735 [==============================] - 2s 682us/step - loss: 0.0067 - accuracy: 0.9969 - val_loss: 0.0055 - val_accuracy: 0.9973\n",
      "Epoch 16/20\n",
      "2735/2735 [==============================] - 2s 684us/step - loss: 0.0066 - accuracy: 0.9970 - val_loss: 0.0055 - val_accuracy: 0.9974\n",
      "Epoch 17/20\n",
      "2735/2735 [==============================] - 2s 686us/step - loss: 0.0066 - accuracy: 0.9970 - val_loss: 0.0115 - val_accuracy: 0.9965\n",
      "Epoch 18/20\n",
      "2735/2735 [==============================] - 2s 685us/step - loss: 0.0066 - accuracy: 0.9969 - val_loss: 0.0063 - val_accuracy: 0.9970\n",
      "Epoch 19/20\n",
      "2735/2735 [==============================] - 2s 685us/step - loss: 0.0066 - accuracy: 0.9970 - val_loss: 0.0076 - val_accuracy: 0.9965\n",
      "Epoch 20/20\n",
      "2735/2735 [==============================] - 2s 683us/step - loss: 0.0066 - accuracy: 0.9971 - val_loss: 0.0067 - val_accuracy: 0.9967\n"
     ]
    }
   ],
   "source": [
    "x_val = X[:300000]\n",
    "partial_x_train = X[300000:]\n",
    "y_val = y[:300000]\n",
    "partial_y_train = y[300000:]\n",
    "\n",
    "history = network.fit(partial_x_train, \n",
    "                      partial_y_train, \n",
    "                      epochs=20, \n",
    "                      batch_size=128, \n",
    "                      validation_data = (x_val, y_val))"
   ]
  },
  {
   "cell_type": "markdown",
   "id": "d26e486c-944d-473b-b619-70e49b0cca9c",
   "metadata": {},
   "source": [
    "## Tensorflow evaluation"
   ]
  },
  {
   "cell_type": "code",
   "execution_count": 36,
   "id": "2c2501f2-adb6-45c3-8699-034eff81391b",
   "metadata": {},
   "outputs": [
    {
     "data": {
      "text/plain": [
       "dict_keys(['loss', 'accuracy', 'val_loss', 'val_accuracy'])"
      ]
     },
     "execution_count": 36,
     "metadata": {},
     "output_type": "execute_result"
    }
   ],
   "source": [
    "history_dict = history.history\n",
    "history_dict.keys()"
   ]
  },
  {
   "cell_type": "code",
   "execution_count": 37,
   "id": "52ff85e7-4a4c-4a3f-855b-8df7160fef4f",
   "metadata": {},
   "outputs": [
    {
     "data": {
      "text/plain": [
       "[0.017814381048083305,\n",
       " 0.010268677957355976,\n",
       " 0.00840210821479559,\n",
       " 0.007613112218677998,\n",
       " 0.007159253116697073,\n",
       " 0.006939670071005821,\n",
       " 0.006838786415755749,\n",
       " 0.00673991022631526,\n",
       " 0.006644737906754017,\n",
       " 0.006691360846161842,\n",
       " 0.006603737361729145,\n",
       " 0.00657341443002224,\n",
       " 0.006648402661085129,\n",
       " 0.006822381634265184,\n",
       " 0.00669722817838192,\n",
       " 0.006581178866326809,\n",
       " 0.006617105100303888,\n",
       " 0.006627662573009729,\n",
       " 0.006594643462449312,\n",
       " 0.006631058640778065]"
      ]
     },
     "execution_count": 37,
     "metadata": {},
     "output_type": "execute_result"
    }
   ],
   "source": [
    "history_dict['loss']"
   ]
  },
  {
   "cell_type": "code",
   "execution_count": 38,
   "id": "81ba4a01-90f2-4955-bf04-e07b53a7e685",
   "metadata": {},
   "outputs": [
    {
     "data": {
      "image/png": "[encoded data removed]",
      "text/plain": [
       "<Figure size 640x480 with 1 Axes>"
      ]
     },
     "metadata": {},
     "output_type": "display_data"
    }
   ],
   "source": [
    "loss = history_dict['loss']\n",
    "val_loss = history_dict['val_loss']\n",
    "\n",
    "epochs = range(1, len(loss)+1)\n",
    "\n",
    "blue_dots = 'bo'\n",
    "solid_blue_line = 'b'\n",
    "\n",
    "plt.plot(epochs, loss, blue_dots, label='Training loss')\n",
    "plt.plot(epochs, val_loss, solid_blue_line, label='Validation loss')\n",
    "plt.title('training and validation loss')\n",
    "plt.xlabel('epochs')\n",
    "plt.ylabel('Loss')\n",
    "plt.legend()\n",
    "plt.show()"
   ]
  },
  {
   "cell_type": "code",
   "execution_count": 39,
   "id": "d93e3f1b-ecbc-4a55-86a9-5720f9ff8951",
   "metadata": {},
   "outputs": [
    {
     "data": {
      "image/png": "[encoded data removed]",
      "text/plain": [
       "<Figure size 640x480 with 1 Axes>"
      ]
     },
     "metadata": {},
     "output_type": "display_data"
    }
   ],
   "source": [
    "plt.clf()\n",
    "\n",
    "acc = history_dict['accuracy']\n",
    "val_acc = history_dict['val_accuracy']\n",
    "\n",
    "epochs = range(1, len(acc)+1)\n",
    "\n",
    "blue_dots = 'bo'\n",
    "solid_blue_line = 'b'\n",
    "\n",
    "plt.plot(epochs, acc, blue_dots, label='Training loss')\n",
    "plt.plot(epochs, val_acc, solid_blue_line, label='Validation loss')\n",
    "plt.title('training and validation loss')\n",
    "plt.xlabel('epochs')\n",
    "plt.ylabel('Accuracy')\n",
    "plt.legend()\n",
    "plt.show()"
   ]
  },
  {
   "cell_type": "markdown",
   "id": "64935d0b-313a-41fc-b04e-959e8d3f81e6",
   "metadata": {},
   "source": [
    "## Tensorflow Testing on unseen data"
   ]
  },
  {
   "cell_type": "code",
   "execution_count": 45,
   "id": "58227b3a-8db8-4251-8068-b23384901a03",
   "metadata": {},
   "outputs": [],
   "source": [
    "df101 = pd.read_csv('data/101.csv')\n",
    "ref101 = pd.read_table('data/101annotations.txt',delimiter = '\\t')"
   ]
  },
  {
   "cell_type": "code",
   "execution_count": 46,
   "id": "734d61a6-beeb-43d9-afff-210293ba0806",
   "metadata": {},
   "outputs": [],
   "source": [
    "df101.columns = ['samp_num', 'MLII', 'V5']\n",
    "ref101.columns = ['6', 'Sample']"
   ]
  },
  {
   "cell_type": "code",
   "execution_count": 47,
   "id": "6c807e4e-878c-4910-b138-287ed1895cce",
   "metadata": {},
   "outputs": [
    {
     "name": "stdout",
     "output_type": "stream",
     "text": [
      "0\n",
      "500\n",
      "1000\n",
      "1500\n",
      "Finish\n"
     ]
    }
   ],
   "source": [
    "df101 = add_rpeak_normality_columns(df101, ref101)"
   ]
  },
  {
   "cell_type": "code",
   "execution_count": 49,
   "id": "3f47af34-e9f0-4466-a00e-09364be94321",
   "metadata": {},
   "outputs": [
    {
     "name": "stdout",
     "output_type": "stream",
     "text": [
      "20313/20313 [==============================] - 5s 247us/step\n",
      "Test Accuracy:  0.9971384615384615\n"
     ]
    }
   ],
   "source": [
    "X_test = df101[['MLII', 'V5']].to_numpy()\n",
    "X_test = X_test.astype('float32') / 255\n",
    "\n",
    "# Prepare labels\n",
    "y_test = df101['normality'].to_numpy()\n",
    "y_test = to_categorical(y_test, num_classes=num_classes)\n",
    "\n",
    "# Model prediction\n",
    "predictions = network.predict(X_test)\n",
    "\n",
    "# Evaluate accuracy\n",
    "# Since the outputs are one-hot encoded, convert predictions to label indices\n",
    "predicted_labels = np.argmax(predictions, axis=1)\n",
    "true_labels = np.argmax(y_test, axis=1)\n",
    "\n",
    "accuracy = np.mean(predicted_labels == true_labels)\n",
    "print(\"Test Accuracy: \", accuracy)"
   ]
  },
  {
   "cell_type": "markdown",
   "id": "52c0e51f",
   "metadata": {},
   "source": [
    "# Exploring how to find Rpeak and abnormal heartbeat\n",
    "## First variation function for finding Rpeak"
   ]
  },
  {
   "cell_type": "code",
   "execution_count": null,
   "id": "7cf676f7",
   "metadata": {},
   "outputs": [],
   "source": [
    "def detect_r_peaks(ecg_signal, sampling_rate):\n",
    "    # Derivative to highlight the QRS complex\n",
    "    diff_signal = np.diff(ecg_signal)\n",
    "\n",
    "    # Squaring to make all data points positive and emphasize larger differences\n",
    "    squared_signal = diff_signal ** 2\n",
    "\n",
    "    # Moving window integration\n",
    "    window_size = int(0.12 * sampling_rate)  # 120 ms window\n",
    "    integrated_signal = np.convolve(squared_signal, np.ones(window_size)/window_size, mode='same')\n",
    "\n",
    "    # Find peaks\n",
    "    peaks, _ = find_peaks(integrated_signal, distance=sampling_rate/2.5)  \n",
    "    # assuming at least 0.4 seconds between heartbeats\n",
    "    \n",
    "    return peaks"
   ]
  },
  {
   "cell_type": "markdown",
   "id": "be258696",
   "metadata": {},
   "source": [
    "## Second variation function for finding Rpeak"
   ]
  },
  {
   "cell_type": "code",
   "execution_count": null,
   "id": "8be8ecac",
   "metadata": {},
   "outputs": [],
   "source": [
    "def detect_r_peaks2(ecg_signal, sampling_rate, threshold_factor=0.85):\n",
    "    # Find local maxima\n",
    "    window_size = int(0.12 * sampling_rate)  # 120 ms window, typical for adult human heart rate\n",
    "    peaks = []\n",
    "\n",
    "    for i in range(window_size, len(ecg_signal) - window_size):\n",
    "        window = ecg_signal[i - window_size:i + window_size]\n",
    "        if ecg_signal[i] == max(window):\n",
    "            peaks.append(i)\n",
    "\n",
    "    # Thresholding peaks\n",
    "    threshold = threshold_factor * max(ecg_signal)\n",
    "    r_peaks = np.array([peak for peak in peaks if ecg_signal[peak] > threshold])\n",
    "\n",
    "    return r_peaks"
   ]
  },
  {
   "cell_type": "markdown",
   "id": "9f1ea4b1",
   "metadata": {},
   "source": [
    "## Third variation function for finding Rpeak\n",
    "\n",
    "changed the window to 200ms based on the (2004 BioMedical Engineering OnLine Real time electrocardiogram QRS detection using combined adaptive threshold Ivaylo I Christov*) paper"
   ]
  },
  {
   "cell_type": "code",
   "execution_count": null,
   "id": "e7a8d0b6",
   "metadata": {},
   "outputs": [],
   "source": [
    "def detect_r_peaks3(ecg_signal, sampling_rate, threshold_factor=0.85):\n",
    "    # Find local maxima\n",
    "    window_size = int(0.2 * sampling_rate)  # 200 ms window\n",
    "    peaks = []\n",
    "\n",
    "    for i in range(window_size, len(ecg_signal) - window_size):\n",
    "        window = ecg_signal[i - window_size:i + window_size]\n",
    "        if ecg_signal[i] == max(window):\n",
    "            peaks.append(i)\n",
    "\n",
    "    # Thresholding peaks\n",
    "    threshold = threshold_factor * max(ecg_signal)\n",
    "    r_peaks = np.array([peak for peak in peaks if ecg_signal[peak] > threshold])\n",
    "\n",
    "    # Calculating RR intervals\n",
    "    rr_intervals = np.diff(r_peaks) / sampling_rate  # Convert to seconds\n",
    "\n",
    "    # Normality check for each R-peak based on RR intervals\n",
    "    r_peak_normality = []\n",
    "    if len(rr_intervals) > 0:\n",
    "        mean_rr = np.mean(rr_intervals)\n",
    "        # For each R-peak, check if the following RR interval is normal\n",
    "        for i in range(len(r_peaks) - 1):\n",
    "            is_normal = abs(rr_intervals[i] - mean_rr) < 0.20 * mean_rr\n",
    "            r_peak_normality.append(is_normal)\n",
    "        # The last R-peak's normality is assessed based on the last RR interval\n",
    "        r_peak_normality.append(abs(rr_intervals[-1] - mean_rr) < 0.20 * mean_rr)\n",
    "\n",
    "    return r_peaks, r_peak_normality"
   ]
  },
  {
   "cell_type": "markdown",
   "id": "a4c97623",
   "metadata": {},
   "source": [
    "## Loading data and obtaining Rpeak"
   ]
  },
  {
   "cell_type": "code",
   "execution_count": null,
   "id": "745af031",
   "metadata": {},
   "outputs": [],
   "source": [
    "# Load the data\n",
    "df = pd.read_csv('data/100.csv')\n",
    "df.columns = ['samp_num', 'MLII', 'V5']\n",
    "\n",
    "# Extract the MLII data\n",
    "mlii_signal = df['MLII'].values\n",
    "\n",
    "# Define sampling rate\n",
    "sampling_rate = 360\n",
    "\n",
    "# Detect R-peaks\n",
    "r_peaks1 = detect_r_peaks(mlii_signal, sampling_rate)\n",
    "r_peaks2 = detect_r_peaks2(mlii_signal, sampling_rate)"
   ]
  },
  {
   "cell_type": "code",
   "execution_count": null,
   "id": "763c8be6",
   "metadata": {},
   "outputs": [],
   "source": [
    "r_peaks3, is_normal3 = detect_r_peaks3(mlii_signal, sampling_rate)"
   ]
  },
  {
   "cell_type": "code",
   "execution_count": null,
   "id": "0c6c5efe",
   "metadata": {
    "scrolled": true
   },
   "outputs": [],
   "source": [
    "r_peaks3[:5]"
   ]
  },
  {
   "cell_type": "code",
   "execution_count": null,
   "id": "01fb7ca6",
   "metadata": {},
   "outputs": [],
   "source": [
    "is_normal3[:5]"
   ]
  },
  {
   "cell_type": "markdown",
   "id": "a2d5d844",
   "metadata": {},
   "source": [
    "# comparing Rpeaks:"
   ]
  },
  {
   "cell_type": "code",
   "execution_count": null,
   "id": "efbdd8ba",
   "metadata": {},
   "outputs": [],
   "source": [
    "peak1 = r_peaks1.tolist()\n",
    "peak2 = r_peaks2.tolist()"
   ]
  },
  {
   "cell_type": "code",
   "execution_count": null,
   "id": "8ab5d9f9",
   "metadata": {},
   "outputs": [],
   "source": [
    "r_peaks1"
   ]
  },
  {
   "cell_type": "code",
   "execution_count": null,
   "id": "b9d7fecf",
   "metadata": {},
   "outputs": [],
   "source": [
    "# Slicing the DataFrame\n",
    "df_x = df.iloc[:3000]\n",
    "\n",
    "# Filtering R-peaks\n",
    "r_peaks_x = [int(r_peak) for r_peak in refRpeak if int(r_peak) < 3000]\n",
    "\n",
    "# Plotting\n",
    "plt.figure(figsize=(20, 10))\n",
    "plt.plot(df_x['samp_num'], df_x['MLII'], label='MLII Signal')\n",
    "\n",
    "# Ensuring that the indices for R-peaks are within the range of the sliced DataFrame\n",
    "valid_r_peaks_x = df_x['samp_num'].iloc[r_peaks_x]\n",
    "plt.plot(valid_r_peaks_x, df_x['MLII'].iloc[r_peaks_x], 'ro', label='R-peaks')\n",
    "\n",
    "plt.title('Referenced R-Peaks in MLII Signal')\n",
    "plt.xlabel('Sample Number')\n",
    "plt.ylabel('Amplitude')\n",
    "plt.legend()\n",
    "plt.show()"
   ]
  },
  {
   "cell_type": "code",
   "execution_count": null,
   "id": "b79b11ef",
   "metadata": {},
   "outputs": [],
   "source": [
    "# Slicing the DataFrame\n",
    "df_x = df.iloc[:1000]\n",
    "\n",
    "# Filtering R-peaks\n",
    "r_peaks_x = r_peaks1[r_peaks1 < 1000]\n",
    "\n",
    "# Plotting\n",
    "plt.figure(figsize=(10, 6))\n",
    "plt.plot(df_x['samp_num'], df_x['MLII'], label='MLII Signal')\n",
    "plt.plot(df_x['samp_num'][r_peaks_x], df_x['MLII'][r_peaks_x], 'ro', label='R-peaks')\n",
    "plt.title('R-Peaks in MLII Signal')\n",
    "plt.xlabel('Sample Number')\n",
    "plt.ylabel('Amplitude')\n",
    "plt.legend()\n",
    "plt.show()"
   ]
  },
  {
   "cell_type": "code",
   "execution_count": null,
   "id": "3809c6f4",
   "metadata": {},
   "outputs": [],
   "source": [
    "# Slicing the DataFrame\n",
    "df_x = df.iloc[:1000]\n",
    "\n",
    "# Filtering R-peaks\n",
    "r_peaks_x = [peak for peak in r_peaks2 if peak < 1000]\n",
    "\n",
    "# Plotting\n",
    "plt.figure(figsize=(10, 6))\n",
    "plt.plot(df_x['samp_num'], df_x['MLII'], label='MLII Signal')\n",
    "\n",
    "# Ensuring that the indices for R-peaks are within the range of the sliced DataFrame\n",
    "valid_r_peaks_x = df_x['samp_num'].iloc[r_peaks_x]\n",
    "plt.plot(valid_r_peaks_x, df_x['MLII'].iloc[r_peaks_x], 'ro', label='R-peaks')\n",
    "\n",
    "plt.title('R-Peaks in MLII Signal')\n",
    "plt.xlabel('Sample Number')\n",
    "plt.ylabel('Amplitude')\n",
    "plt.legend()\n",
    "plt.show()"
   ]
  },
  {
   "cell_type": "code",
   "execution_count": null,
   "id": "fe63771c",
   "metadata": {},
   "outputs": [],
   "source": [
    "# Slicing the DataFrame\n",
    "df_x = df.iloc[:10000]\n",
    "\n",
    "# Filtering R-peaks\n",
    "r_peaks_x = [peak for peak in r_peaks2 if peak < 10000]\n",
    "\n",
    "# Plotting\n",
    "plt.figure(figsize=(20, 10))\n",
    "plt.plot(df_x['samp_num'], df_x['MLII'], label='MLII Signal')\n",
    "\n",
    "# Ensuring that the indices for R-peaks are within the range of the sliced DataFrame\n",
    "valid_r_peaks_x = df_x['samp_num'].iloc[r_peaks_x]\n",
    "plt.plot(valid_r_peaks_x, df_x['MLII'].iloc[r_peaks_x], 'ro', label='R-peaks')\n",
    "\n",
    "plt.title('R-Peaks in MLII Signal')\n",
    "plt.xlabel('Sample Number')\n",
    "plt.ylabel('Amplitude')\n",
    "plt.legend()\n",
    "plt.show()"
   ]
  },
  {
   "cell_type": "code",
   "execution_count": null,
   "id": "71cb7baf",
   "metadata": {},
   "outputs": [],
   "source": [
    "# Slicing the DataFrame\n",
    "df_x = df.iloc[:10000]\n",
    "\n",
    "# Filtering R-peaks\n",
    "r_peaks_x = [peak for peak in r_peaks3 if peak < 10000]\n",
    "# Filtering corresponding normality booleans\n",
    "normality_x = is_normal3[:len(r_peaks_x)]\n",
    "\n",
    "# Plotting\n",
    "plt.figure(figsize=(20, 10))\n",
    "plt.plot(df_x['samp_num'], df_x['MLII'], label='MLII Signal')\n",
    "\n",
    "# Plotting R-peaks with color based on normality\n",
    "for r_peak, is_normal3 in zip(r_peaks_x, normality_x):\n",
    "    color = 'green' if is_normal3 else 'red'\n",
    "    plt.plot(df_x['samp_num'].iloc[r_peak], df_x['MLII'].iloc[r_peak], 'o', color=color)\n",
    "\n",
    "plt.title('R-Peaks in MLII Signal with Normality Indication')\n",
    "plt.xlabel('Sample Number')\n",
    "plt.ylabel('Amplitude')\n",
    "plt.legend()\n",
    "plt.show()\n"
   ]
  },
  {
   "cell_type": "code",
   "execution_count": null,
   "id": "8037c4f4",
   "metadata": {},
   "outputs": [],
   "source": [
    "is_normal3"
   ]
  },
  {
   "cell_type": "code",
   "execution_count": null,
   "id": "72ccda06",
   "metadata": {},
   "outputs": [],
   "source": []
  }
 ],
 "metadata": {
  "kernelspec": {
   "display_name": "Python 3 (ipykernel)",
   "language": "python",
   "name": "python3"
  },
  "language_info": {
   "codemirror_mode": {
    "name": "ipython",
    "version": 3
   },
   "file_extension": ".py",
   "mimetype": "text/x-python",
   "name": "python",
   "nbconvert_exporter": "python",
   "pygments_lexer": "ipython3",
   "version": "3.10.8"
  }
 },
 "nbformat": 4,
 "nbformat_minor": 5
}
