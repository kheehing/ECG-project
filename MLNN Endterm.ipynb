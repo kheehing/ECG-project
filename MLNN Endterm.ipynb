{
 "cells": [
  {
   "cell_type": "markdown",
   "id": "afba9eb3-ad0b-493d-bb32-e732ced29545",
   "metadata": {},
   "source": [
    "# Machine Learning Neural Network (ECG prediction)\n",
    "\n",
    "## Introduction\n",
    "In this project, I explore the application of machine learning to analyze electrocardiogram (ECG) data. ECGs, crucial for diagnosing heart conditions, present an opportunity for enhanced analysis through machine learning to improve accuracy and efficiency.\n",
    "\n",
    "I will utilize ECG recordings and expert annotations from datasets in CSV and TXT format; CSV file will contain modified limb lead II (MLII) and v5, TXT file will contain the time stamp of the rpeaks and the type of heartbeat (normal, abnormal). These resources are essential for training and evaluating a machine learning model to identify R-peaks and classify the normality of heartbeats, key indicators of heart health.\n",
    "\n",
    "My objectives:\n",
    "- **Investigate Machine Learning Applications:** Apply machine learning models, specifically using Dense and Dropout layers, to ECG data.\n",
    "- **Detect R-Peaks:** Use machine learning for accurate R-peak detection in ECG signals.\n",
    "- **Classify Heartbeat Normality:** Develop a model to classify heartbeat normality, identifying potential cardiac abnormalities.\n",
    "\n",
    "This project aims to explore the potential of machine learning in ECG analysis.\n",
    "\n",
    "libraries imported for the project:"
   ]
  },
  {
   "cell_type": "code",
   "execution_count": 1,
   "id": "2bd70fe1-2799-49c9-91c3-fe41d7777f89",
   "metadata": {},
   "outputs": [],
   "source": [
    "import pandas as pd\n",
    "import matplotlib.pyplot as plt\n",
    "import seaborn as sns\n",
    "import torch\n",
    "import torch.nn.functional as F \n",
    "from torch import nn\n",
    "from torch.utils.data import DataLoader, TensorDataset, random_split\n",
    "from sklearn.model_selection import train_test_split\n",
    "from tqdm import tqdm"
   ]
  },
  {
   "cell_type": "markdown",
   "id": "6de7516b-47fc-4c18-bc03-0037d5738a01",
   "metadata": {},
   "source": [
    "## Data Collection and Preprocessing\n",
    "\n",
    "### Data Collection\n",
    "The data is sourced from [MIT-BIH Arrhythmia Database](https://www.physionet.org/content/mitdb/1.0.0/)\n",
    "\n",
    "### Data Loading"
   ]
  },
  {
   "cell_type": "code",
   "execution_count": 2,
   "id": "d14f4599-f41d-4948-b9af-424ad856e166",
   "metadata": {},
   "outputs": [
    {
     "name": "stdout",
     "output_type": "stream",
     "text": [
      "csv: 46\n",
      "txt: 46\n"
     ]
    }
   ],
   "source": [
    "# listing file path\n",
    "\n",
    "file_paths = [\n",
    "    '100', '101', '102', '103', '104',\n",
    "    '105', '106', '107', '108', '109',\n",
    "    '111', '112', '113', '114', '115',\n",
    "    '116', '117', '118', '118', '119',\n",
    "    '121', '122', '123', '124', '200',\n",
    "    '201', '202', '203', '205', '207',\n",
    "    '208', '209', '210', '212', '213',\n",
    "    '214', '215', '217', '219', '220', \n",
    "    '221', '222', '223', '228', '230',\n",
    "    '231'\n",
    "]\n",
    "\n",
    "csv_list = []\n",
    "txt_list = []\n",
    "\n",
    "for file_path in file_paths:\n",
    "    csv_df = pd.read_csv(f\"data/{file_path}.csv\")\n",
    "    txt_df = pd.read_table(f\"data/{file_path}annotations.txt\", delimiter = '\\t')\n",
    "    \n",
    "    csv_df.columns = ['samp_num', 'MLII', 'V5']\n",
    "    txt_df.columns = ['6', 'RA'] # RA stands for Rhythm annotation\n",
    "    \n",
    "    csv_list.append(csv_df)\n",
    "    txt_list.append(txt_df)\n",
    "\n",
    "# check if the list are of the same length\n",
    "print(f\"csv: {len(csv_list)}\\ntxt: {len(txt_list)}\")"
   ]
  },
  {
   "cell_type": "markdown",
   "id": "c743c5d7-5c38-4f99-9764-d5e7d93bca66",
   "metadata": {},
   "source": [
    "## Exploratory Data Analysis (EDA) \n",
    "Through visualizations and statistical summaries, EDA helps uncover underlying structures, informs the choice of appropriate models, and guides hypothesis formulation, ensuring a deeper insight into the data's nature. This process is invaluable in projects involving complex datasets, such as ECG data, where identifying key features like R-peaks or heartbeat normality can significantly impact model performance and accuracy.\n",
    "\n",
    "Raw data from the csv file:"
   ]
  },
  {
   "cell_type": "code",
   "execution_count": 3,
   "id": "1bc6be2e-c16a-4498-a205-214830d9f6d3",
   "metadata": {},
   "outputs": [
    {
     "data": {
      "text/html": [
       "<div>\n",
       "<style scoped>\n",
       "    .dataframe tbody tr th:only-of-type {\n",
       "        vertical-align: middle;\n",
       "    }\n",
       "\n",
       "    .dataframe tbody tr th {\n",
       "        vertical-align: top;\n",
       "    }\n",
       "\n",
       "    .dataframe thead th {\n",
       "        text-align: right;\n",
       "    }\n",
       "</style>\n",
       "<table border=\"1\" class=\"dataframe\">\n",
       "  <thead>\n",
       "    <tr style=\"text-align: right;\">\n",
       "      <th></th>\n",
       "      <th>samp_num</th>\n",
       "      <th>MLII</th>\n",
       "      <th>V5</th>\n",
       "    </tr>\n",
       "  </thead>\n",
       "  <tbody>\n",
       "    <tr>\n",
       "      <th>0</th>\n",
       "      <td>0</td>\n",
       "      <td>995</td>\n",
       "      <td>1011</td>\n",
       "    </tr>\n",
       "    <tr>\n",
       "      <th>1</th>\n",
       "      <td>1</td>\n",
       "      <td>995</td>\n",
       "      <td>1011</td>\n",
       "    </tr>\n",
       "    <tr>\n",
       "      <th>2</th>\n",
       "      <td>2</td>\n",
       "      <td>995</td>\n",
       "      <td>1011</td>\n",
       "    </tr>\n",
       "    <tr>\n",
       "      <th>3</th>\n",
       "      <td>3</td>\n",
       "      <td>995</td>\n",
       "      <td>1011</td>\n",
       "    </tr>\n",
       "    <tr>\n",
       "      <th>4</th>\n",
       "      <td>4</td>\n",
       "      <td>995</td>\n",
       "      <td>1011</td>\n",
       "    </tr>\n",
       "  </tbody>\n",
       "</table>\n",
       "</div>"
      ],
      "text/plain": [
       "   samp_num  MLII    V5\n",
       "0         0   995  1011\n",
       "1         1   995  1011\n",
       "2         2   995  1011\n",
       "3         3   995  1011\n",
       "4         4   995  1011"
      ]
     },
     "execution_count": 3,
     "metadata": {},
     "output_type": "execute_result"
    }
   ],
   "source": [
    "csv_list[0].head()"
   ]
  },
  {
   "cell_type": "markdown",
   "id": "9175d2e1-4de5-40ea-a12e-7b44c4ee8936",
   "metadata": {},
   "source": [
    "Raw data from the txt file:"
   ]
  },
  {
   "cell_type": "code",
   "execution_count": 4,
   "id": "e5a9fc1b-9589-415a-a4f0-dc143d57e35f",
   "metadata": {},
   "outputs": [
    {
     "data": {
      "text/html": [
       "<div>\n",
       "<style scoped>\n",
       "    .dataframe tbody tr th:only-of-type {\n",
       "        vertical-align: middle;\n",
       "    }\n",
       "\n",
       "    .dataframe tbody tr th {\n",
       "        vertical-align: top;\n",
       "    }\n",
       "\n",
       "    .dataframe thead th {\n",
       "        text-align: right;\n",
       "    }\n",
       "</style>\n",
       "<table border=\"1\" class=\"dataframe\">\n",
       "  <thead>\n",
       "    <tr style=\"text-align: right;\">\n",
       "      <th></th>\n",
       "      <th>6</th>\n",
       "      <th>RA</th>\n",
       "    </tr>\n",
       "  </thead>\n",
       "  <tbody>\n",
       "    <tr>\n",
       "      <th>0</th>\n",
       "      <td>0:00.050       18     +    0    0    0</td>\n",
       "      <td>(N</td>\n",
       "    </tr>\n",
       "    <tr>\n",
       "      <th>1</th>\n",
       "      <td>0:00.214       77     N    0    0    0</td>\n",
       "      <td>NaN</td>\n",
       "    </tr>\n",
       "    <tr>\n",
       "      <th>2</th>\n",
       "      <td>0:01.028      370     N    0    0    0</td>\n",
       "      <td>NaN</td>\n",
       "    </tr>\n",
       "    <tr>\n",
       "      <th>3</th>\n",
       "      <td>0:01.839      662     N    0    0    0</td>\n",
       "      <td>NaN</td>\n",
       "    </tr>\n",
       "    <tr>\n",
       "      <th>4</th>\n",
       "      <td>0:02.628      946     N    0    0    0</td>\n",
       "      <td>NaN</td>\n",
       "    </tr>\n",
       "  </tbody>\n",
       "</table>\n",
       "</div>"
      ],
      "text/plain": [
       "                                            6   RA\n",
       "0      0:00.050       18     +    0    0    0   (N\n",
       "1      0:00.214       77     N    0    0    0  NaN\n",
       "2      0:01.028      370     N    0    0    0  NaN\n",
       "3      0:01.839      662     N    0    0    0  NaN\n",
       "4      0:02.628      946     N    0    0    0  NaN"
      ]
     },
     "execution_count": 4,
     "metadata": {},
     "output_type": "execute_result"
    }
   ],
   "source": [
    "txt_list[0].head()"
   ]
  },
  {
   "cell_type": "markdown",
   "id": "8272baa1-2688-4a7a-a1f5-fa20cd5ba09c",
   "metadata": {},
   "source": [
    "For the TXT file, the column `6` is named such that it has 6 columns, originally it is `Time Sample # Type Sub Chan Num`, but due to the way the data is structured I have to reorganise it."
   ]
  },
  {
   "cell_type": "markdown",
   "id": "2a234db3-d5d4-411a-a7db-01a485a1b1d8",
   "metadata": {},
   "source": [
    "The information under the `#` and `Type` columns are important as it is where the Rpeak is and the classification of the heartbeat; I will merge the two dataframe into one by adding `#` and `Type` into the first dataframe."
   ]
  },
  {
   "cell_type": "markdown",
   "id": "fd08da32-3e12-4600-9cbf-d56410895ff9",
   "metadata": {},
   "source": [
    "I realised for TXT file, there are different types of symbols for `Type` so i want to compile them into a list such that it will be easier to normalise it later on with all the datasets."
   ]
  },
  {
   "cell_type": "code",
   "execution_count": 5,
   "id": "7f898304-bf36-47b0-8470-3d04e24c64c9",
   "metadata": {},
   "outputs": [
    {
     "name": "stdout",
     "output_type": "stream",
     "text": [
      "['+', 'N', 'A', 'V', '~', '|', 'Q', '/', 'f', 'x', 'F', 'j', 'L', 'a', 'J', 'R', '[', '!', ']', 'E', 'S', '\"', 'e']\n"
     ]
    }
   ],
   "source": [
    "symbols = []\n",
    "for df in txt_list:\n",
    "    for index, row in df.iterrows():\n",
    "        symbol = df['6'][index].split()[2]\n",
    "        if symbol not in symbols:\n",
    "            symbols.append(symbol)\n",
    "print(symbols)"
   ]
  },
  {
   "cell_type": "markdown",
   "id": "39f9505a-73ab-4c94-b287-ca875891abb0",
   "metadata": {},
   "source": [
    "According to the database [website](https://www.physionet.org/files/mitdb/1.0.0/mitdbdir/intro.htm) each symbol means something. Here are the examples:\n",
    "\n",
    "| Symbol | Meaning                                      |\n",
    "|--------|----------------------------------------------|\n",
    "| · or N | Normal beat                                  |\n",
    "| L      | Left bundle branch block beat                |\n",
    "| R      | Right bundle branch block beat               |\n",
    "| A      | Atrial premature beat                        |\n",
    "| a      | Aberrated atrial premature beat              |\n",
    "| J      | Nodal (junctional) premature beat            |\n",
    "| S      | Supraventricular premature beat              |\n",
    "| V      | Premature ventricular contraction            |\n",
    "| F      | Fusion of ventricular and normal beat        |\n",
    "| [      | Start of ventricular flutter/fibrillation    |\n",
    "| !      | Ventricular flutter wave                     |\n",
    "| ]      | End of ventricular flutter/fibrillation      |\n",
    "| e      | Atrial escape beat                           |\n",
    "| j      | Nodal (junctional) escape beat               |\n",
    "| E      | Ventricular escape beat                      |\n",
    "| /      | Paced beat                                   |\n",
    "| f      | Fusion of paced and normal beat              |\n",
    "| x      | Non-conducted P-wave (blocked APB)           |\n",
    "| Q      | Unclassifiable beat                          |\n",
    "| \\|      | Isolated QRS-like artifact                  |\n",
    "\n",
    "Function to merge both dataframes to easily train the machine learning neural network:"
   ]
  },
  {
   "cell_type": "code",
   "execution_count": 6,
   "id": "c03583fe-810c-442a-8d05-06e997df85c2",
   "metadata": {},
   "outputs": [],
   "source": [
    "def add_rpeak_normality_columns(df, ref_df):\n",
    "    refRpeak = []\n",
    "    refNormal = []\n",
    "\n",
    "    # Extract the 'rpeak' and 'type'\n",
    "    for index, row in ref_df.iterrows():\n",
    "        if ref_df['6'][index].split()[2] in symbols:\n",
    "            refRpeak.append(ref_df['6'][index].split()[1]) \n",
    "            refNormal.append(ref_df['6'][index].split()[2]) \n",
    "\n",
    "    # Ensuring elements of refRpeak are integers\n",
    "    refRpeak = [int(val) for val in refRpeak]\n",
    "\n",
    "    # Create new columns in the DataFrame\n",
    "    df['rpeak'] = 0\n",
    "    df['normality'] = 0\n",
    "\n",
    "    # Set 'rpeak' column values to 1 where samp_num is in refRpeak\n",
    "    df.loc[df['samp_num'].isin(refRpeak), 'rpeak'] = 1\n",
    "\n",
    "    # Create a mapping of symbol to integer for normality\n",
    "    symbol_to_int = {symbol: idx for idx, symbol in enumerate(symbols)}\n",
    "\n",
    "    # Assuming 'samp_num' matches with 'refRpeak' order\n",
    "    for rpeak, normal in zip(refRpeak, refNormal):\n",
    "        if normal in symbol_to_int:\n",
    "            df.loc[df['samp_num'] == rpeak, 'normality'] = symbol_to_int[normal]\n",
    "        else:\n",
    "            print(f'{normal} not found in symbols')\n",
    "            \n",
    "    return df"
   ]
  },
  {
   "cell_type": "markdown",
   "id": "e9c5a03d-bcc4-438d-948a-84132e968ecf",
   "metadata": {},
   "source": [
    "Merging the dataframes:"
   ]
  },
  {
   "cell_type": "code",
   "execution_count": 7,
   "id": "d4fdc600-672a-4057-840a-29b53fa9a397",
   "metadata": {},
   "outputs": [
    {
     "name": "stdout",
     "output_type": "stream",
     "text": [
      "completed\n"
     ]
    }
   ],
   "source": [
    "df_list = []\n",
    "\n",
    "for i, csv in enumerate(csv_list):\n",
    "    for j, txt in enumerate(txt_list):\n",
    "        if (i == j):\n",
    "            df_list.append(add_rpeak_normality_columns(csv, txt))\n",
    "\n",
    "print('completed')"
   ]
  },
  {
   "cell_type": "markdown",
   "id": "dcb7f6c3-3a0d-46e7-b133-e6498d1540e9",
   "metadata": {},
   "source": [
    "Visual of merged dataframe:"
   ]
  },
  {
   "cell_type": "code",
   "execution_count": 8,
   "id": "a1aac05f-95bf-43be-a83c-06ccde935667",
   "metadata": {},
   "outputs": [
    {
     "data": {
      "text/html": [
       "<div>\n",
       "<style scoped>\n",
       "    .dataframe tbody tr th:only-of-type {\n",
       "        vertical-align: middle;\n",
       "    }\n",
       "\n",
       "    .dataframe tbody tr th {\n",
       "        vertical-align: top;\n",
       "    }\n",
       "\n",
       "    .dataframe thead th {\n",
       "        text-align: right;\n",
       "    }\n",
       "</style>\n",
       "<table border=\"1\" class=\"dataframe\">\n",
       "  <thead>\n",
       "    <tr style=\"text-align: right;\">\n",
       "      <th></th>\n",
       "      <th>samp_num</th>\n",
       "      <th>MLII</th>\n",
       "      <th>V5</th>\n",
       "      <th>rpeak</th>\n",
       "      <th>normality</th>\n",
       "    </tr>\n",
       "  </thead>\n",
       "  <tbody>\n",
       "    <tr>\n",
       "      <th>0</th>\n",
       "      <td>0</td>\n",
       "      <td>995</td>\n",
       "      <td>1011</td>\n",
       "      <td>0</td>\n",
       "      <td>0</td>\n",
       "    </tr>\n",
       "    <tr>\n",
       "      <th>1</th>\n",
       "      <td>1</td>\n",
       "      <td>995</td>\n",
       "      <td>1011</td>\n",
       "      <td>0</td>\n",
       "      <td>0</td>\n",
       "    </tr>\n",
       "    <tr>\n",
       "      <th>2</th>\n",
       "      <td>2</td>\n",
       "      <td>995</td>\n",
       "      <td>1011</td>\n",
       "      <td>0</td>\n",
       "      <td>0</td>\n",
       "    </tr>\n",
       "    <tr>\n",
       "      <th>3</th>\n",
       "      <td>3</td>\n",
       "      <td>995</td>\n",
       "      <td>1011</td>\n",
       "      <td>0</td>\n",
       "      <td>0</td>\n",
       "    </tr>\n",
       "    <tr>\n",
       "      <th>4</th>\n",
       "      <td>4</td>\n",
       "      <td>995</td>\n",
       "      <td>1011</td>\n",
       "      <td>0</td>\n",
       "      <td>0</td>\n",
       "    </tr>\n",
       "  </tbody>\n",
       "</table>\n",
       "</div>"
      ],
      "text/plain": [
       "   samp_num  MLII    V5  rpeak  normality\n",
       "0         0   995  1011      0          0\n",
       "1         1   995  1011      0          0\n",
       "2         2   995  1011      0          0\n",
       "3         3   995  1011      0          0\n",
       "4         4   995  1011      0          0"
      ]
     },
     "execution_count": 8,
     "metadata": {},
     "output_type": "execute_result"
    }
   ],
   "source": [
    "df_list[0].head()"
   ]
  },
  {
   "cell_type": "markdown",
   "id": "a3b8c3cd-66a5-4af5-a887-11aee03f65b7",
   "metadata": {},
   "source": [
    "## Exploratory Data Analysis (EDA)\n",
    "Through visualizations and statistical summaries, EDA helps uncover underlying structures, informs the choice of appropriate models, and guides hypothesis formulation, ensuring a deeper insight into the data's nature. This process is invaluable in projects as it involves complex datasets, such as ECG data, where identifying key features like R-peaks or heartbeat normality can significantly impact model performance and accuracy.\n",
    "\n",
    "### Basic Information\n",
    "The first merged dataframe will be used as an example for EDA.\n",
    "\n",
    "Number of merged dataframe:"
   ]
  },
  {
   "cell_type": "code",
   "execution_count": 9,
   "id": "10e836c7-ebfb-4893-864b-d8f6a6a8d3c6",
   "metadata": {},
   "outputs": [
    {
     "name": "stdout",
     "output_type": "stream",
     "text": [
      "46\n"
     ]
    }
   ],
   "source": [
    "print(len(df_list))"
   ]
  },
  {
   "cell_type": "markdown",
   "id": "330f4afd-5be2-4862-85d4-8ec48ed23ed2",
   "metadata": {},
   "source": [
    "Basic information about the merged dataset:"
   ]
  },
  {
   "cell_type": "code",
   "execution_count": 10,
   "id": "98c70440-c97f-4c8a-a4f1-b7a6736e0773",
   "metadata": {},
   "outputs": [
    {
     "data": {
      "text/html": [
       "<div>\n",
       "<style scoped>\n",
       "    .dataframe tbody tr th:only-of-type {\n",
       "        vertical-align: middle;\n",
       "    }\n",
       "\n",
       "    .dataframe tbody tr th {\n",
       "        vertical-align: top;\n",
       "    }\n",
       "\n",
       "    .dataframe thead th {\n",
       "        text-align: right;\n",
       "    }\n",
       "</style>\n",
       "<table border=\"1\" class=\"dataframe\">\n",
       "  <thead>\n",
       "    <tr style=\"text-align: right;\">\n",
       "      <th></th>\n",
       "      <th>samp_num</th>\n",
       "      <th>MLII</th>\n",
       "      <th>V5</th>\n",
       "      <th>rpeak</th>\n",
       "      <th>normality</th>\n",
       "    </tr>\n",
       "  </thead>\n",
       "  <tbody>\n",
       "    <tr>\n",
       "      <th>0</th>\n",
       "      <td>0</td>\n",
       "      <td>995</td>\n",
       "      <td>1011</td>\n",
       "      <td>0</td>\n",
       "      <td>0</td>\n",
       "    </tr>\n",
       "    <tr>\n",
       "      <th>1</th>\n",
       "      <td>1</td>\n",
       "      <td>995</td>\n",
       "      <td>1011</td>\n",
       "      <td>0</td>\n",
       "      <td>0</td>\n",
       "    </tr>\n",
       "    <tr>\n",
       "      <th>2</th>\n",
       "      <td>2</td>\n",
       "      <td>995</td>\n",
       "      <td>1011</td>\n",
       "      <td>0</td>\n",
       "      <td>0</td>\n",
       "    </tr>\n",
       "    <tr>\n",
       "      <th>3</th>\n",
       "      <td>3</td>\n",
       "      <td>995</td>\n",
       "      <td>1011</td>\n",
       "      <td>0</td>\n",
       "      <td>0</td>\n",
       "    </tr>\n",
       "    <tr>\n",
       "      <th>4</th>\n",
       "      <td>4</td>\n",
       "      <td>995</td>\n",
       "      <td>1011</td>\n",
       "      <td>0</td>\n",
       "      <td>0</td>\n",
       "    </tr>\n",
       "  </tbody>\n",
       "</table>\n",
       "</div>"
      ],
      "text/plain": [
       "   samp_num  MLII    V5  rpeak  normality\n",
       "0         0   995  1011      0          0\n",
       "1         1   995  1011      0          0\n",
       "2         2   995  1011      0          0\n",
       "3         3   995  1011      0          0\n",
       "4         4   995  1011      0          0"
      ]
     },
     "execution_count": 10,
     "metadata": {},
     "output_type": "execute_result"
    }
   ],
   "source": [
    "df_list[0].head()"
   ]
  },
  {
   "cell_type": "code",
   "execution_count": 11,
   "id": "5e59c938-14fd-4b33-983d-718d48cf7d3e",
   "metadata": {},
   "outputs": [
    {
     "name": "stdout",
     "output_type": "stream",
     "text": [
      "<class 'pandas.core.frame.DataFrame'>\n",
      "RangeIndex: 650000 entries, 0 to 649999\n",
      "Data columns (total 5 columns):\n",
      " #   Column     Non-Null Count   Dtype\n",
      "---  ------     --------------   -----\n",
      " 0   samp_num   650000 non-null  int64\n",
      " 1   MLII       650000 non-null  int64\n",
      " 2   V5         650000 non-null  int64\n",
      " 3   rpeak      650000 non-null  int64\n",
      " 4   normality  650000 non-null  int64\n",
      "dtypes: int64(5)\n",
      "memory usage: 24.8 MB\n"
     ]
    }
   ],
   "source": [
    "df_list[0].info()"
   ]
  },
  {
   "cell_type": "code",
   "execution_count": 12,
   "id": "a35dc920-4793-422a-9736-b82072371717",
   "metadata": {},
   "outputs": [
    {
     "data": {
      "text/html": [
       "<div>\n",
       "<style scoped>\n",
       "    .dataframe tbody tr th:only-of-type {\n",
       "        vertical-align: middle;\n",
       "    }\n",
       "\n",
       "    .dataframe tbody tr th {\n",
       "        vertical-align: top;\n",
       "    }\n",
       "\n",
       "    .dataframe thead th {\n",
       "        text-align: right;\n",
       "    }\n",
       "</style>\n",
       "<table border=\"1\" class=\"dataframe\">\n",
       "  <thead>\n",
       "    <tr style=\"text-align: right;\">\n",
       "      <th></th>\n",
       "      <th>samp_num</th>\n",
       "      <th>MLII</th>\n",
       "      <th>V5</th>\n",
       "      <th>rpeak</th>\n",
       "      <th>normality</th>\n",
       "    </tr>\n",
       "  </thead>\n",
       "  <tbody>\n",
       "    <tr>\n",
       "      <th>count</th>\n",
       "      <td>650000.000000</td>\n",
       "      <td>650000.000000</td>\n",
       "      <td>650000.000000</td>\n",
       "      <td>650000.000000</td>\n",
       "      <td>650000.000000</td>\n",
       "    </tr>\n",
       "    <tr>\n",
       "      <th>mean</th>\n",
       "      <td>324999.500000</td>\n",
       "      <td>962.740205</td>\n",
       "      <td>985.793114</td>\n",
       "      <td>0.003498</td>\n",
       "      <td>0.003551</td>\n",
       "    </tr>\n",
       "    <tr>\n",
       "      <th>std</th>\n",
       "      <td>187638.981824</td>\n",
       "      <td>38.639938</td>\n",
       "      <td>29.642668</td>\n",
       "      <td>0.059044</td>\n",
       "      <td>0.060406</td>\n",
       "    </tr>\n",
       "    <tr>\n",
       "      <th>min</th>\n",
       "      <td>0.000000</td>\n",
       "      <td>481.000000</td>\n",
       "      <td>531.000000</td>\n",
       "      <td>0.000000</td>\n",
       "      <td>0.000000</td>\n",
       "    </tr>\n",
       "    <tr>\n",
       "      <th>25%</th>\n",
       "      <td>162499.750000</td>\n",
       "      <td>946.000000</td>\n",
       "      <td>971.000000</td>\n",
       "      <td>0.000000</td>\n",
       "      <td>0.000000</td>\n",
       "    </tr>\n",
       "    <tr>\n",
       "      <th>50%</th>\n",
       "      <td>324999.500000</td>\n",
       "      <td>957.000000</td>\n",
       "      <td>983.000000</td>\n",
       "      <td>0.000000</td>\n",
       "      <td>0.000000</td>\n",
       "    </tr>\n",
       "    <tr>\n",
       "      <th>75%</th>\n",
       "      <td>487499.250000</td>\n",
       "      <td>970.000000</td>\n",
       "      <td>995.000000</td>\n",
       "      <td>0.000000</td>\n",
       "      <td>0.000000</td>\n",
       "    </tr>\n",
       "    <tr>\n",
       "      <th>max</th>\n",
       "      <td>649999.000000</td>\n",
       "      <td>1311.000000</td>\n",
       "      <td>1269.000000</td>\n",
       "      <td>1.000000</td>\n",
       "      <td>3.000000</td>\n",
       "    </tr>\n",
       "  </tbody>\n",
       "</table>\n",
       "</div>"
      ],
      "text/plain": [
       "            samp_num           MLII             V5          rpeak  \\\n",
       "count  650000.000000  650000.000000  650000.000000  650000.000000   \n",
       "mean   324999.500000     962.740205     985.793114       0.003498   \n",
       "std    187638.981824      38.639938      29.642668       0.059044   \n",
       "min         0.000000     481.000000     531.000000       0.000000   \n",
       "25%    162499.750000     946.000000     971.000000       0.000000   \n",
       "50%    324999.500000     957.000000     983.000000       0.000000   \n",
       "75%    487499.250000     970.000000     995.000000       0.000000   \n",
       "max    649999.000000    1311.000000    1269.000000       1.000000   \n",
       "\n",
       "           normality  \n",
       "count  650000.000000  \n",
       "mean        0.003551  \n",
       "std         0.060406  \n",
       "min         0.000000  \n",
       "25%         0.000000  \n",
       "50%         0.000000  \n",
       "75%         0.000000  \n",
       "max         3.000000  "
      ]
     },
     "execution_count": 12,
     "metadata": {},
     "output_type": "execute_result"
    }
   ],
   "source": [
    "df_list[0].describe()"
   ]
  },
  {
   "cell_type": "markdown",
   "id": "83acb188-c187-4ee6-b5a6-cb7c72245b17",
   "metadata": {},
   "source": [
    "### Check for Missing Values"
   ]
  },
  {
   "cell_type": "code",
   "execution_count": 13,
   "id": "7b93d2cf-b5a7-4941-aa5e-412d0d33a68b",
   "metadata": {
    "scrolled": true
   },
   "outputs": [
    {
     "name": "stdout",
     "output_type": "stream",
     "text": [
      "samp_num     0\n",
      "MLII         0\n",
      "V5           0\n",
      "rpeak        0\n",
      "normality    0\n",
      "dtype: int64\n",
      "samp_num     0\n",
      "MLII         0\n",
      "V5           0\n",
      "rpeak        0\n",
      "normality    0\n",
      "dtype: int64\n",
      "samp_num     0\n",
      "MLII         0\n",
      "V5           0\n",
      "rpeak        0\n",
      "normality    0\n",
      "dtype: int64\n",
      "samp_num     0\n",
      "MLII         0\n",
      "V5           0\n",
      "rpeak        0\n",
      "normality    0\n",
      "dtype: int64\n",
      "samp_num     0\n",
      "MLII         0\n",
      "V5           0\n",
      "rpeak        0\n",
      "normality    0\n",
      "dtype: int64\n",
      "samp_num     0\n",
      "MLII         0\n",
      "V5           0\n",
      "rpeak        0\n",
      "normality    0\n",
      "dtype: int64\n",
      "samp_num     0\n",
      "MLII         0\n",
      "V5           0\n",
      "rpeak        0\n",
      "normality    0\n",
      "dtype: int64\n",
      "samp_num     0\n",
      "MLII         0\n",
      "V5           0\n",
      "rpeak        0\n",
      "normality    0\n",
      "dtype: int64\n",
      "samp_num     0\n",
      "MLII         0\n",
      "V5           0\n",
      "rpeak        0\n",
      "normality    0\n",
      "dtype: int64\n",
      "samp_num     0\n",
      "MLII         0\n",
      "V5           0\n",
      "rpeak        0\n",
      "normality    0\n",
      "dtype: int64\n",
      "samp_num     0\n",
      "MLII         0\n",
      "V5           0\n",
      "rpeak        0\n",
      "normality    0\n",
      "dtype: int64\n",
      "samp_num     0\n",
      "MLII         0\n",
      "V5           0\n",
      "rpeak        0\n",
      "normality    0\n",
      "dtype: int64\n",
      "samp_num     0\n",
      "MLII         0\n",
      "V5           0\n",
      "rpeak        0\n",
      "normality    0\n",
      "dtype: int64\n",
      "samp_num     0\n",
      "MLII         0\n",
      "V5           0\n",
      "rpeak        0\n",
      "normality    0\n",
      "dtype: int64\n",
      "samp_num     0\n",
      "MLII         0\n",
      "V5           0\n",
      "rpeak        0\n",
      "normality    0\n",
      "dtype: int64\n",
      "samp_num     0\n",
      "MLII         0\n",
      "V5           0\n",
      "rpeak        0\n",
      "normality    0\n",
      "dtype: int64\n",
      "samp_num     0\n",
      "MLII         0\n",
      "V5           0\n",
      "rpeak        0\n",
      "normality    0\n",
      "dtype: int64\n",
      "samp_num     0\n",
      "MLII         0\n",
      "V5           0\n",
      "rpeak        0\n",
      "normality    0\n",
      "dtype: int64\n",
      "samp_num     0\n",
      "MLII         0\n",
      "V5           0\n",
      "rpeak        0\n",
      "normality    0\n",
      "dtype: int64\n",
      "samp_num     0\n",
      "MLII         0\n",
      "V5           0\n",
      "rpeak        0\n",
      "normality    0\n",
      "dtype: int64\n",
      "samp_num     0\n",
      "MLII         0\n",
      "V5           0\n",
      "rpeak        0\n",
      "normality    0\n",
      "dtype: int64\n",
      "samp_num     0\n",
      "MLII         0\n",
      "V5           0\n",
      "rpeak        0\n",
      "normality    0\n",
      "dtype: int64\n",
      "samp_num     0\n",
      "MLII         0\n",
      "V5           0\n",
      "rpeak        0\n",
      "normality    0\n",
      "dtype: int64\n",
      "samp_num     0\n",
      "MLII         0\n",
      "V5           0\n",
      "rpeak        0\n",
      "normality    0\n",
      "dtype: int64\n",
      "samp_num     0\n",
      "MLII         0\n",
      "V5           0\n",
      "rpeak        0\n",
      "normality    0\n",
      "dtype: int64\n",
      "samp_num     0\n",
      "MLII         0\n",
      "V5           0\n",
      "rpeak        0\n",
      "normality    0\n",
      "dtype: int64\n",
      "samp_num     0\n",
      "MLII         0\n",
      "V5           0\n",
      "rpeak        0\n",
      "normality    0\n",
      "dtype: int64\n",
      "samp_num     0\n",
      "MLII         0\n",
      "V5           0\n",
      "rpeak        0\n",
      "normality    0\n",
      "dtype: int64\n",
      "samp_num     0\n",
      "MLII         0\n",
      "V5           0\n",
      "rpeak        0\n",
      "normality    0\n",
      "dtype: int64\n",
      "samp_num     0\n",
      "MLII         0\n",
      "V5           0\n",
      "rpeak        0\n",
      "normality    0\n",
      "dtype: int64\n",
      "samp_num     0\n",
      "MLII         0\n",
      "V5           0\n",
      "rpeak        0\n",
      "normality    0\n",
      "dtype: int64\n",
      "samp_num     0\n",
      "MLII         0\n",
      "V5           0\n",
      "rpeak        0\n",
      "normality    0\n",
      "dtype: int64\n",
      "samp_num     0\n",
      "MLII         0\n",
      "V5           0\n",
      "rpeak        0\n",
      "normality    0\n",
      "dtype: int64\n",
      "samp_num     0\n",
      "MLII         0\n",
      "V5           0\n",
      "rpeak        0\n",
      "normality    0\n",
      "dtype: int64\n",
      "samp_num     0\n",
      "MLII         0\n",
      "V5           0\n",
      "rpeak        0\n",
      "normality    0\n",
      "dtype: int64\n",
      "samp_num     0\n",
      "MLII         0\n",
      "V5           0\n",
      "rpeak        0\n",
      "normality    0\n",
      "dtype: int64\n",
      "samp_num     0\n",
      "MLII         0\n",
      "V5           0\n",
      "rpeak        0\n",
      "normality    0\n",
      "dtype: int64\n",
      "samp_num     0\n",
      "MLII         0\n",
      "V5           0\n",
      "rpeak        0\n",
      "normality    0\n",
      "dtype: int64\n",
      "samp_num     0\n",
      "MLII         0\n",
      "V5           0\n",
      "rpeak        0\n",
      "normality    0\n",
      "dtype: int64\n",
      "samp_num     0\n",
      "MLII         0\n",
      "V5           0\n",
      "rpeak        0\n",
      "normality    0\n",
      "dtype: int64\n",
      "samp_num     0\n",
      "MLII         0\n",
      "V5           0\n",
      "rpeak        0\n",
      "normality    0\n",
      "dtype: int64\n",
      "samp_num     0\n",
      "MLII         0\n",
      "V5           0\n",
      "rpeak        0\n",
      "normality    0\n",
      "dtype: int64\n",
      "samp_num     0\n",
      "MLII         0\n",
      "V5           0\n",
      "rpeak        0\n",
      "normality    0\n",
      "dtype: int64\n",
      "samp_num     0\n",
      "MLII         0\n",
      "V5           0\n",
      "rpeak        0\n",
      "normality    0\n",
      "dtype: int64\n",
      "samp_num     0\n",
      "MLII         0\n",
      "V5           0\n",
      "rpeak        0\n",
      "normality    0\n",
      "dtype: int64\n",
      "samp_num     0\n",
      "MLII         0\n",
      "V5           0\n",
      "rpeak        0\n",
      "normality    0\n",
      "dtype: int64\n"
     ]
    }
   ],
   "source": [
    "for df in df_list:\n",
    "    print(df.isnull().sum())"
   ]
  },
  {
   "cell_type": "markdown",
   "id": "238203d5-3c97-49f6-8e29-d6e83e7c294b",
   "metadata": {},
   "source": [
    "### Distribution of Key Features"
   ]
  },
  {
   "cell_type": "code",
   "execution_count": 14,
   "id": "0301f60e-48ed-4c92-a254-5b3706867caa",
   "metadata": {},
   "outputs": [
    {
     "data": {
      "image/png": "[encoded data removed]",
      "text/plain": [
       "<Figure size 1000x600 with 1 Axes>"
      ]
     },
     "metadata": {},
     "output_type": "display_data"
    }
   ],
   "source": [
    "df = df_list[0]\n",
    "plt.figure(figsize=(10, 6))\n",
    "sns.histplot(df['MLII'], bins=30, kde=True)\n",
    "plt.title(f'Distribution of R-peak amplitude in DataFrame {i+1}')\n",
    "plt.xlabel('R-peak amplitude')\n",
    "plt.ylabel('Frequency')\n",
    "plt.show()"
   ]
  },
  {
   "cell_type": "markdown",
   "id": "ad13d97e-cafc-4ba8-bc92-b7a015fdfe98",
   "metadata": {},
   "source": [
    "### Identifying Outliers"
   ]
  },
  {
   "cell_type": "code",
   "execution_count": 15,
   "id": "f5ca0f10-4a96-44da-ac06-54b89eca0aa3",
   "metadata": {},
   "outputs": [
    {
     "data": {
      "image/png": "[encoded data removed]",
      "text/plain": [
       "<Figure size 640x480 with 1 Axes>"
      ]
     },
     "metadata": {},
     "output_type": "display_data"
    }
   ],
   "source": [
    "# Box plot for a numerical column\n",
    "sns.boxplot(x=df['MLII'])\n",
    "plt.title('Box Plot of R-peak Values')\n",
    "plt.show()"
   ]
  },
  {
   "cell_type": "code",
   "execution_count": 16,
   "id": "e4a44d80-c788-44fa-9260-020371bad912",
   "metadata": {},
   "outputs": [
    {
     "data": {
      "image/png": "[encoded data removed]",
      "text/plain": [
       "<Figure size 1000x800 with 2 Axes>"
      ]
     },
     "metadata": {},
     "output_type": "display_data"
    }
   ],
   "source": [
    "# Correlation matrix heatmap\n",
    "plt.figure(figsize=(10, 8))\n",
    "corr_matrix = df.corr()\n",
    "sns.heatmap(corr_matrix, annot=True, fmt=\".2f\")\n",
    "plt.title('Correlation Matrix of Features')\n",
    "plt.show()"
   ]
  },
  {
   "cell_type": "markdown",
   "id": "2a6f3c32-42f2-4dd7-91cc-778f45e95377",
   "metadata": {},
   "source": []
  },
  {
   "cell_type": "markdown",
   "id": "cb6b8c37-c5b5-4661-93b7-8f1549a36162",
   "metadata": {},
   "source": [
    "## Model Building (Markdown + Code)\n",
    "### Model Architecture\n",
    "\n",
    "The architecture of the model, `ECGModel`, is designed to address the dual objectives of detecting R-peaks and classifying heartbeat normality from ECG signals. The model consists of the following components:\n",
    "\n",
    "- **LSTM Layer:** The core of the model is an LSTM layer, chosen for its ability to capture temporal dependencies in time-series data, such as ECG signals. This layer takes inputs of size `input_size` and transforms them through `hidden_size` units to capture the sequential characteristics of the data effectively.\n",
    "\n",
    "- **Linear Layers for Output:** Following the LSTM, the model branches into two separate linear layers:\n",
    "    - `fc_rpeak`: A linear layer with a single output unit, followed by a sigmoid activation function for binary classification of R-peaks. This setup is tailored for the binary nature of R-peak detection, indicating the presence or absence of R-peaks in the ECG signal.\n",
    "    - `fc_normality`: Another linear layer that maps to `num_classes_normality` output units, followed by a softmax activation function for multi-class classification. This structure is designed to classify the normality of heartbeats into several predefined categories, accommodating the multi-class nature of heartbeat normality assessment.\n",
    "\n",
    "- **Dropout Layer:** Following the LSTM layer, a dropout layer with a rate of 0.8 is introduced to mitigate overfitting. By randomly deactivating half of the units in the LSTM output during training, the model is encouraged to learn redundant representations, enhancing its generalization capabilities. This is particularly important in complex models trained on datasets like ECG signals, where the risk of overfitting to the training data is significant.\n",
    "\n",
    "\n",
    "The choice of a sigmoid function for R-peak detection reflects the binary classification task, while the softmax function for normality classification suits the multi-class problem. The LSTM layer's ability to process sequential data makes it an ideal choice for analyzing ECG signals, which are inherently time-series in nature.\n"
   ]
  },
  {
   "cell_type": "code",
   "execution_count": 27,
   "id": "c93160ce-f950-4789-96f0-f217f2f58d18",
   "metadata": {},
   "outputs": [],
   "source": [
    "class ECGModel(nn.Module):\n",
    "    def __init__(self, input_size, hidden_size, num_classes_normality):\n",
    "        super(ECGModel, self).__init__()\n",
    "        self.lstm = nn.LSTM(input_size, hidden_size, batch_first=True)\n",
    "        self.dropout = nn.Dropout(0.8)  # Dropout layer\n",
    "        self.fc_rpeak = nn.Linear(hidden_size, 1)  # For rpeak detection\n",
    "        self.fc_normality = nn.Linear(hidden_size, num_classes_normality)  # For normality classification\n",
    "\n",
    "    def forward(self, x):\n",
    "        # LSTM layer\n",
    "        x, _ = self.lstm(x)\n",
    "        \n",
    "        # Applying dropout after LSTM output\n",
    "        x = self.dropout(x)\n",
    "        \n",
    "        # Output layers\n",
    "        rpeak_output = torch.sigmoid(self.fc_rpeak(x))  # Sigmoid for binary classification\n",
    "        normality_output = F.softmax(self.fc_normality(x), dim=1)  # Softmax for multi-class classification\n",
    "\n",
    "        return rpeak_output, normality_output"
   ]
  },
  {
   "cell_type": "markdown",
   "id": "108448f2-5b93-443b-9ed7-c4a5dc493e37",
   "metadata": {},
   "source": [
    "### Data Preparation\n",
    "Before training the model, it's essential to prepare the ECG data. This involves selecting the relevant features (`MLII`, `V5`), targets (`rpeak`, `normality`), converting the data into PyTorch tensors, and splitting the dataset into training and test sets. This process ensures that the model learns from a diverse range of examples and is evaluated on unseen data to check its generalization ability."
   ]
  },
  {
   "cell_type": "code",
   "execution_count": 28,
   "id": "590e25f6-76f4-438c-916c-8687e79bd2f3",
   "metadata": {},
   "outputs": [],
   "source": [
    "X = df_list[0][['MLII', 'V5']].values\n",
    "y_rpeak = df_list[0]['rpeak'].values\n",
    "y_normality = df_list[0]['normality'].values\n",
    "\n",
    "# Convert the data to PyTorch tensors\n",
    "X_tensor = torch.tensor(X, dtype=torch.float)\n",
    "y_rpeak_tensor = torch.tensor(y_rpeak, dtype=torch.float)\n",
    "y_normality_tensor = torch.tensor(y_normality, dtype=torch.long)\n",
    "\n",
    "# Combine the tensors into a single dataset\n",
    "dataset = TensorDataset(X_tensor, y_rpeak_tensor, y_normality_tensor)\n",
    "\n",
    "# Calculate the size of the test dataset (20% of the total data)\n",
    "test_size = int(0.2 * len(dataset))\n",
    "train_size = len(dataset) - test_size\n",
    "\n",
    "# Split the dataset into training and test sets\n",
    "train_dataset, test_dataset = random_split(dataset, [train_size, test_size])\n",
    "\n",
    "# Create a DataLoader for the training set to enable shuffling and batching\n",
    "train_loader = DataLoader(train_dataset, batch_size=32, shuffle=True)\n",
    "\n",
    "# Not shuffling the test set, but still use a DataLoader for batching\n",
    "test_loader = DataLoader(test_dataset, batch_size=32, shuffle=False)"
   ]
  },
  {
   "cell_type": "markdown",
   "id": "7136ac3a-6c49-4fab-a256-5a6631743372",
   "metadata": {},
   "source": [
    "### Model Training Setup\n",
    "After defining the `ECGModel` and preparing the data, the next step is to set up the model for training. This includes specifying the loss functions for both tasks (rpeak detection and normality classification), choosing an optimizer, and defining the training loop. The training process iteratively updates the model weights to minimize the loss, improving its accuracy in detecting R-peaks and classifying heartbeat normality."
   ]
  },
  {
   "cell_type": "code",
   "execution_count": 29,
   "id": "7a339c27-dee3-4955-89ca-32aaf485e659",
   "metadata": {},
   "outputs": [],
   "source": [
    "# Calculate the number of unique classes for normality\n",
    "num_classes_normality = len(torch.unique(y_normality_tensor))\n",
    "\n",
    "# Initialize the model with the correct number of classes\n",
    "model = ECGModel(input_size=2, hidden_size=10, num_classes_normality=num_classes_normality)\n",
    "\n",
    "criterion_rpeak = torch.nn.BCELoss()  # Binary Cross-Entropy Loss for rpeak\n",
    "criterion_normality = torch.nn.CrossEntropyLoss()  # Cross-Entropy Loss for normality\n",
    "optimizer = torch.optim.Adam(model.parameters(), lr=0.001)"
   ]
  },
  {
   "cell_type": "markdown",
   "id": "f9a3424c-8ba6-40df-b1e9-1b083623f824",
   "metadata": {},
   "source": [
    "### Training Loop\n",
    "The training loop is where the model learns from the data. In each epoch, the model makes predictions, computes the loss, and updates its parameters. Monitoring the loss helps in understanding how well the model is learning over time. Adjustments to the learning rate, model architecture, or data preparation might be necessary based on the observed training dynamics."
   ]
  },
  {
   "cell_type": "code",
   "execution_count": 33,
   "id": "2b4ba64f-f809-4325-91f8-8d1f0a34c77f",
   "metadata": {},
   "outputs": [
    {
     "name": "stderr",
     "output_type": "stream",
     "text": [
      "Epoch 1/10, Loss: 0.7703283522936014: 100%|█| 16250/16250 [00:58<00:00, 276.33it\n",
      "Epoch 2/10, Loss: 0.770252122416863: 100%|█| 16250/16250 [00:58<00:00, 276.53it/\n",
      "Epoch 3/10, Loss: 0.7702521487896259: 100%|█| 16250/16250 [00:58<00:00, 278.13it\n",
      "Epoch 4/10, Loss: 0.770247130214251: 100%|█| 16250/16250 [00:58<00:00, 276.93it/\n",
      "Epoch 5/10, Loss: 0.7702339441922995: 100%|█| 16250/16250 [00:58<00:00, 276.78it\n",
      "Epoch 6/10, Loss: 0.7702523808039151: 100%|█| 16250/16250 [00:58<00:00, 277.14it\n",
      "Epoch 7/10, Loss: 0.7702484418979058: 100%|█| 16250/16250 [00:58<00:00, 276.49it\n",
      "Epoch 8/10, Loss: 0.7702376376995673: 100%|█| 16250/16250 [00:58<00:00, 277.50it\n",
      "Epoch 9/10, Loss: 0.7702551272979149: 100%|█| 16250/16250 [00:58<00:00, 278.25it\n",
      "Epoch 10/10, Loss: 0.7702347623384916: 100%|█| 16250/16250 [00:58<00:00, 277.91i"
     ]
    },
    {
     "name": "stdout",
     "output_type": "stream",
     "text": [
      "Epoch [10/10], Average Loss: 0.7702940040845138\n"
     ]
    },
    {
     "name": "stderr",
     "output_type": "stream",
     "text": [
      "\n"
     ]
    }
   ],
   "source": [
    "num_epochs = 10\n",
    "for epoch in range(num_epochs):\n",
    "    model.train()\n",
    "    total_loss = 0\n",
    "    progress_bar = tqdm(train_loader, desc=f'Epoch {epoch+1}/{num_epochs}')\n",
    "    \n",
    "    for X_batch, y_rpeak_batch, y_normality_batch in progress_bar:\n",
    "        # Your training code here\n",
    "        # Update the progress bar description\n",
    "        progress_bar.set_description(f'Epoch {epoch+1}/{num_epochs}, Loss: {total_loss / (len(train_loader.dataset)/train_loader.batch_size)}')\n",
    "        # Forward pass\n",
    "        rpeak_pred, normality_pred = model(X_batch)\n",
    "        \n",
    "        # Compute loss\n",
    "        loss_rpeak = criterion_rpeak(rpeak_pred.squeeze(), y_rpeak_batch)\n",
    "        loss_normality = criterion_normality(normality_pred, y_normality_batch)\n",
    "        loss = loss_rpeak + loss_normality  # Combine losses\n",
    "        \n",
    "        # Backward pass and optimization\n",
    "        optimizer.zero_grad()\n",
    "        loss.backward()\n",
    "        optimizer.step()\n",
    "        total_loss += loss.item()\n",
    "    \n",
    "    if (epoch+1) % 10 == 0:  # Print average loss every 10 epochs\n",
    "        print(f'Epoch [{epoch+1}/{num_epochs}], Average Loss: {total_loss / len(train_loader)}')\n",
    "        "
   ]
  },
  {
   "cell_type": "markdown",
   "id": "ef66fddc-2217-4e0e-bc3b-2a2121dc5baf",
   "metadata": {},
   "source": [
    "## Model Evaluation\n",
    "After training our ECG model, which is designed to detect R-peaks and classify heartbeat normality from ECG signals, the next crucial step is evaluating its performance on unseen data. The evaluation phase is essential for understanding how well our model generalizes beyond the training data, providing insights into its potential real-world applicability.\n",
    "\n",
    "### Loss Evaluation\n",
    "\n",
    "The first part of our evaluation involves calculating the model's loss on the test set. This loss gives us a direct measure of how well the model's predictions align with the actual labels across both tasks: R-peak detection and heartbeat normality classification."
   ]
  },
  {
   "cell_type": "code",
   "execution_count": 37,
   "id": "9eeec5b8-2d32-4caa-ac39-29593074e059",
   "metadata": {},
   "outputs": [
    {
     "name": "stdout",
     "output_type": "stream",
     "text": [
      "Average Test Loss: 0.771124650332953\n"
     ]
    }
   ],
   "source": [
    "model.eval()  # Set the model to evaluation mode\n",
    "\n",
    "total_loss = 0\n",
    "# No gradient computation for evaluation\n",
    "with torch.no_grad():\n",
    "    for X_batch, y_rpeak_batch, y_normality_batch in test_loader:\n",
    "        rpeak_pred, normality_pred = model(X_batch)\n",
    "        \n",
    "        # Compute the losses for both tasks\n",
    "        loss_rpeak = criterion_rpeak(rpeak_pred.squeeze(), y_rpeak_batch)\n",
    "        loss_normality = criterion_normality(normality_pred, y_normality_batch)\n",
    "        \n",
    "        # Combine the losses for a total loss\n",
    "        total_loss += (loss_rpeak + loss_normality).item()\n",
    "\n",
    "# Calculate the average loss over all test batches\n",
    "average_loss = total_loss / len(test_loader)\n",
    "print(f\"Average Test Loss: {average_loss}\")"
   ]
  },
  {
   "cell_type": "markdown",
   "id": "21b531df-88ff-44f2-90dd-3dc96ac3e096",
   "metadata": {},
   "source": [
    "### Accuracy Evaluation\n",
    "\n",
    "While loss provides a measure of the model's error, accuracy offers a more intuitive understanding of its performance, especially in classification tasks."
   ]
  },
  {
   "cell_type": "code",
   "execution_count": 39,
   "id": "73a7f1eb-4c32-4df4-bcda-60e5a63bf315",
   "metadata": {},
   "outputs": [
    {
     "name": "stdout",
     "output_type": "stream",
     "text": [
      "Average R-Peak Detection Accuracy: 99.64%\n",
      "Average Heartbeat Normality Classification Accuracy: 99.64%\n"
     ]
    }
   ],
   "source": [
    "model.eval()  # Set the model to evaluation mode\n",
    "rpeak_accuracy_list = []\n",
    "normality_accuracy_list = []\n",
    "\n",
    "with torch.no_grad():\n",
    "    for X_batch, y_rpeak_batch, y_normality_batch in test_loader:\n",
    "        # Forward pass with the test data\n",
    "        rpeak_pred, normality_pred = model(X_batch)\n",
    "        \n",
    "        # Evaluate model performance on this batch\n",
    "        rpeak_accuracy, normality_accuracy = evaluate_model_performance(rpeak_pred, normality_pred, y_rpeak_batch, y_normality_batch)\n",
    "        \n",
    "        # Store the accuracies for each batch\n",
    "        rpeak_accuracy_list.append(rpeak_accuracy)\n",
    "        normality_accuracy_list.append(normality_accuracy)\n",
    "\n",
    "# Calculate average accuracies across all test batches\n",
    "avg_rpeak_accuracy = sum(rpeak_accuracy_list) / len(rpeak_accuracy_list)\n",
    "avg_normality_accuracy = sum(normality_accuracy_list) / len(normality_accuracy_list)\n",
    "\n",
    "print(f\"Average R-Peak Detection Accuracy: {avg_rpeak_accuracy * 100:.2f}%\")\n",
    "print(f\"Average Heartbeat Normality Classification Accuracy: {avg_normality_accuracy * 100:.2f}%\")"
   ]
  },
  {
   "cell_type": "markdown",
   "id": "6ec325c7-e595-4fc2-adab-766c3daf3898",
   "metadata": {},
   "source": [
    "### Insights and Next Steps\n",
    "The combined evaluation of average loss and accuracy across the test set furnishes a holistic view of the model's performance. It not only highlights how closely the model's predictions match the actual labels but also reveals how effectively it distinguishes between different classes in a multi-class setting.\n",
    "\n",
    "Low loss and high accuracy across both tasks indicate a well-performing model that generalizes well to unseen data.\n",
    "Discrepancies between loss and accuracy or between the performance on different tasks may suggest areas for improvement, such as model architecture adjustments, hyperparameter tuning, or addressing data imbalance.\n",
    "This evaluation framework sets the stage for iterative model refinement, guiding efforts to enhance model performance and, ultimately, its utility in real-world applications for ECG signal analysis."
   ]
  },
  {
   "cell_type": "markdown",
   "id": "d58f2a39-f478-4fb0-abcd-3c11d461f1f6",
   "metadata": {},
   "source": [
    "## Results and Discussion (Markdown + Code)\n",
    "\n",
    "Results (Markdown + Code):\n",
    "Present key findings, supported by code cells that output results, visualizations, etc.\n",
    "Discussion (Markdown): Interpret the results, discuss any limitations, and how the model could be improved."
   ]
  },
  {
   "cell_type": "markdown",
   "id": "629278a4-020c-419a-a805-22000ad789a8",
   "metadata": {},
   "source": [
    "## Conclusion and Future Work (Markdown)\n",
    "\n",
    "Summarize your findings, the implications of your work, and any potential future directions for this research."
   ]
  },
  {
   "cell_type": "markdown",
   "id": "85edfcea-a180-4968-8400-a39959541397",
   "metadata": {},
   "source": [
    "## References (Markdown)\n",
    "\n",
    "List all references, including articles, books, and online resources, that were cited or used for code in the project."
   ]
  }
 ],
 "metadata": {
  "kernelspec": {
   "display_name": "Python 3 (ipykernel)",
   "language": "python",
   "name": "python3"
  },
  "language_info": {
   "codemirror_mode": {
    "name": "ipython",
    "version": 3
   },
   "file_extension": ".py",
   "mimetype": "text/x-python",
   "name": "python",
   "nbconvert_exporter": "python",
   "pygments_lexer": "ipython3",
   "version": "3.10.8"
  }
 },
 "nbformat": 4,
 "nbformat_minor": 5
}
