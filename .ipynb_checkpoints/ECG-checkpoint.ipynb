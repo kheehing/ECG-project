{
 "cells": [
  {
   "cell_type": "code",
   "execution_count": 1,
   "id": "078538c7",
   "metadata": {},
   "outputs": [],
   "source": [
    "import os, torch\n",
    "from torch import nn\n",
    "import torch.nn.functional as F \n",
    "from torch.utils.data import DataLoader\n",
    "from torchvision import datasets, transforms\n",
    "from scipy.signal import find_peaks\n",
    "from sklearn.model_selection import train_test_split\n",
    "import numpy as np, matplotlib.pyplot as plt, pandas as pd"
   ]
  },
  {
   "cell_type": "markdown",
   "id": "995f47c1",
   "metadata": {},
   "source": [
    "# Model 1"
   ]
  },
  {
   "cell_type": "code",
   "execution_count": 2,
   "id": "f35277ea",
   "metadata": {},
   "outputs": [],
   "source": [
    "# create a model class that inherits nn.Module\n",
    "class Model(nn.Module):\n",
    "    def __init__(self, input_features=3, h1=8, h2=9, output_features=6):\n",
    "        super().__init__()\n",
    "        self.fc1 = nn.Linear(input_features,h1)\n",
    "        self.fc2 = nn.Linear(h1, h2)\n",
    "        self.out = nn.Linear(h2, output_features)\n",
    "        \n",
    "    def forward(self, x):\n",
    "        x = F.relu(self.fc1(x))\n",
    "        x = F.relu(self.fc2(x))\n",
    "        x = self.out(x)\n",
    "        return x"
   ]
  },
  {
   "cell_type": "markdown",
   "id": "f75f0b0b",
   "metadata": {},
   "source": [
    "# Model 2"
   ]
  },
  {
   "cell_type": "code",
   "execution_count": 3,
   "id": "87ae2216",
   "metadata": {},
   "outputs": [],
   "source": [
    "class ECGModel(nn.Module):\n",
    "    def __init__(self, input_size, hidden_size, num_classes_normality):\n",
    "        super(ECGModel, self).__init__()\n",
    "        self.lstm = nn.LSTM(input_size, hidden_size, batch_first=True)\n",
    "        self.fc_rpeak = nn.Linear(hidden_size, 1)  # For rpeak detection\n",
    "        self.fc_normality = nn.Linear(hidden_size, num_classes_normality)  # For normality classification\n",
    "\n",
    "    def forward(self, x):\n",
    "        # LSTM layer\n",
    "        x, _ = self.lstm(x)\n",
    "        x = x[:, -1, :]  # Get the last time step output\n",
    "\n",
    "        # Output layers\n",
    "        rpeak_output = torch.sigmoid(self.fc_rpeak(x))  # Sigmoid for binary classification\n",
    "        normality_output = F.softmax(self.fc_normality(x), dim=1)  # Softmax for multi-class classification\n",
    "\n",
    "        return rpeak_output, normality_output"
   ]
  },
  {
   "cell_type": "markdown",
   "id": "8c93eda7",
   "metadata": {},
   "source": [
    "# Model 2.1"
   ]
  },
  {
   "cell_type": "code",
   "execution_count": 4,
   "id": "50261982",
   "metadata": {},
   "outputs": [],
   "source": [
    "class ECGModel(nn.Module):\n",
    "    def __init__(self, input_size, hidden_size, num_classes_normality):\n",
    "        super(ECGModel, self).__init__()\n",
    "        self.lstm1 = nn.LSTM(input_size, hidden_size, batch_first=True)\n",
    "        self.dropout1 = nn.Dropout(0.5)  # Dropout layer after first LSTM\n",
    "        self.lstm2 = nn.LSTM(hidden_size, hidden_size // 2, batch_first=True)\n",
    "        self.dropout2 = nn.Dropout(0.5)  # Dropout layer after second LSTM\n",
    "        self.bn = nn.BatchNorm1d(hidden_size // 2)  # Batch normalization layer\n",
    "        self.fc_rpeak = nn.Linear(hidden_size // 2, 1)\n",
    "        self.fc_normality = nn.Linear(hidden_size // 2, num_classes_normality)\n",
    "\n",
    "\n",
    "    def forward(self, x):\n",
    "        x, _ = self.lstm1(x)\n",
    "        x = self.dropout1(x)  # Apply dropout after first LSTM\n",
    "        x, _ = self.lstm2(x)\n",
    "        x = self.dropout2(x)  # Apply dropout after second LSTM\n",
    "    \n",
    "        # Apply batch normalization\n",
    "        # Reshape x as batch normalization expects a 2D tensor\n",
    "        x = x.contiguous().view(-1, x.size(2))  \n",
    "        x = self.bn(x)\n",
    "        x = x.view(-1, 1, x.size(1))  # Reshape back to 3D tensor for linear layers\n",
    "    \n",
    "        x = x[:, -1, :]  # Get the last time step output\n",
    "        rpeak_output = torch.sigmoid(self.fc_rpeak(x))\n",
    "        normality_output = self.fc_normality(x)  # No softmax here, CrossEntropyLoss will handle it\n",
    "        return rpeak_output, normality_output\n"
   ]
  },
  {
   "cell_type": "markdown",
   "id": "a5964326",
   "metadata": {},
   "source": [
    "# Model 2.2"
   ]
  },
  {
   "cell_type": "code",
   "execution_count": 5,
   "id": "d4376ef1",
   "metadata": {},
   "outputs": [],
   "source": [
    "class SimplifiedECGModel(nn.Module):\n",
    "    def __init__(self, input_size, hidden_size, num_classes_normality):\n",
    "        super(SimplifiedECGModel, self).__init__()\n",
    "        self.fc1 = nn.Linear(input_size, hidden_size)\n",
    "        self.relu1 = nn.ReLU()\n",
    "        self.dropout1 = nn.Dropout(0.3)\n",
    "        self.fc2 = nn.Linear(hidden_size, hidden_size // 2)\n",
    "        self.relu2 = nn.ReLU()\n",
    "        self.dropout2 = nn.Dropout(0.3)\n",
    "        self.fc_rpeak = nn.Linear(hidden_size // 2, 1)\n",
    "        self.fc_normality = nn.Linear(hidden_size // 2, num_classes_normality)\n",
    "\n",
    "    def forward(self, x):\n",
    "        x = self.fc1(x)\n",
    "        x = self.relu1(x)\n",
    "        x = self.dropout1(x)\n",
    "        x = self.fc2(x)\n",
    "        x = self.relu2(x)\n",
    "        x = self.dropout2(x)\n",
    "        rpeak_output = torch.sigmoid(self.fc_rpeak(x))\n",
    "        normality_output = self.fc_normality(x)\n",
    "        return rpeak_output, normality_output\n"
   ]
  },
  {
   "cell_type": "code",
   "execution_count": 6,
   "id": "7a7948ea",
   "metadata": {},
   "outputs": [
    {
     "data": {
      "text/plain": [
       "<torch._C.Generator at 0x12148fcb0>"
      ]
     },
     "execution_count": 6,
     "metadata": {},
     "output_type": "execute_result"
    }
   ],
   "source": [
    "torch.manual_seed(3)"
   ]
  },
  {
   "cell_type": "markdown",
   "id": "e7b344f5",
   "metadata": {},
   "source": [
    "# Dataframe"
   ]
  },
  {
   "cell_type": "code",
   "execution_count": 7,
   "id": "9aa0c781",
   "metadata": {},
   "outputs": [],
   "source": [
    "df100 = pd.read_csv('data/100.csv')\n",
    "df100.columns = ['samp_num', 'MLII', 'V5']"
   ]
  },
  {
   "cell_type": "code",
   "execution_count": 8,
   "id": "c51669eb",
   "metadata": {},
   "outputs": [
    {
     "data": {
      "text/html": [
       "<div>\n",
       "<style scoped>\n",
       "    .dataframe tbody tr th:only-of-type {\n",
       "        vertical-align: middle;\n",
       "    }\n",
       "\n",
       "    .dataframe tbody tr th {\n",
       "        vertical-align: top;\n",
       "    }\n",
       "\n",
       "    .dataframe thead th {\n",
       "        text-align: right;\n",
       "    }\n",
       "</style>\n",
       "<table border=\"1\" class=\"dataframe\">\n",
       "  <thead>\n",
       "    <tr style=\"text-align: right;\">\n",
       "      <th></th>\n",
       "      <th>samp_num</th>\n",
       "      <th>MLII</th>\n",
       "      <th>V5</th>\n",
       "    </tr>\n",
       "  </thead>\n",
       "  <tbody>\n",
       "    <tr>\n",
       "      <th>0</th>\n",
       "      <td>0</td>\n",
       "      <td>995</td>\n",
       "      <td>1011</td>\n",
       "    </tr>\n",
       "    <tr>\n",
       "      <th>1</th>\n",
       "      <td>1</td>\n",
       "      <td>995</td>\n",
       "      <td>1011</td>\n",
       "    </tr>\n",
       "    <tr>\n",
       "      <th>2</th>\n",
       "      <td>2</td>\n",
       "      <td>995</td>\n",
       "      <td>1011</td>\n",
       "    </tr>\n",
       "    <tr>\n",
       "      <th>3</th>\n",
       "      <td>3</td>\n",
       "      <td>995</td>\n",
       "      <td>1011</td>\n",
       "    </tr>\n",
       "    <tr>\n",
       "      <th>4</th>\n",
       "      <td>4</td>\n",
       "      <td>995</td>\n",
       "      <td>1011</td>\n",
       "    </tr>\n",
       "  </tbody>\n",
       "</table>\n",
       "</div>"
      ],
      "text/plain": [
       "   samp_num  MLII    V5\n",
       "0         0   995  1011\n",
       "1         1   995  1011\n",
       "2         2   995  1011\n",
       "3         3   995  1011\n",
       "4         4   995  1011"
      ]
     },
     "execution_count": 8,
     "metadata": {},
     "output_type": "execute_result"
    }
   ],
   "source": [
    "df100.head()"
   ]
  },
  {
   "cell_type": "markdown",
   "id": "a91c75c5",
   "metadata": {},
   "source": [
    "# Reference"
   ]
  },
  {
   "cell_type": "code",
   "execution_count": 9,
   "id": "1f1e2357",
   "metadata": {},
   "outputs": [],
   "source": [
    "ref100 = pd.read_table('data/100annotations.txt',delimiter = '\\t')"
   ]
  },
  {
   "cell_type": "code",
   "execution_count": 10,
   "id": "075994a5",
   "metadata": {},
   "outputs": [
    {
     "data": {
      "text/plain": [
       "['      Time   Sample #  Type  Sub Chan  Num', 'Aux']"
      ]
     },
     "execution_count": 10,
     "metadata": {},
     "output_type": "execute_result"
    }
   ],
   "source": [
    "list(ref100.columns.values)"
   ]
  },
  {
   "cell_type": "markdown",
   "id": "b75e9720",
   "metadata": {},
   "source": [
    "rpeak"
   ]
  },
  {
   "cell_type": "code",
   "execution_count": 11,
   "id": "afa79ffa",
   "metadata": {
    "scrolled": true
   },
   "outputs": [],
   "source": [
    "ref100.columns = ['6', 'Sample']"
   ]
  },
  {
   "cell_type": "markdown",
   "id": "28a203f0",
   "metadata": {},
   "source": [
    "normality"
   ]
  },
  {
   "cell_type": "code",
   "execution_count": 12,
   "id": "1226fc36",
   "metadata": {
    "scrolled": true
   },
   "outputs": [
    {
     "name": "stdout",
     "output_type": "stream",
     "text": [
      "0\n",
      "500\n",
      "1000\n",
      "1500\n",
      "2000\n",
      "finish\n"
     ]
    }
   ],
   "source": [
    "refNormal = []\n",
    "refRpeak = []\n",
    "for index, row in ref100.iterrows():\n",
    "    if index % 500 == 0: \n",
    "        print(index)\n",
    "    if ref100['6'][index].split()[2] == 'N' or ref100['6'][index].split()[2] == 'A':\n",
    "        refRpeak.append(ref100['6'][index].split()[1]) \n",
    "        refNormal.append(ref100['6'][index].split()[2]) \n",
    "print('finish')"
   ]
  },
  {
   "cell_type": "code",
   "execution_count": 13,
   "id": "0657a980",
   "metadata": {
    "scrolled": true
   },
   "outputs": [
    {
     "data": {
      "text/plain": [
       "['77', '370', '662', '946', '1231']"
      ]
     },
     "execution_count": 13,
     "metadata": {},
     "output_type": "execute_result"
    }
   ],
   "source": [
    "refRpeak[:5]"
   ]
  },
  {
   "cell_type": "code",
   "execution_count": 14,
   "id": "1851cef0",
   "metadata": {
    "scrolled": true
   },
   "outputs": [
    {
     "data": {
      "text/plain": [
       "['N', 'N', 'N', 'N', 'N']"
      ]
     },
     "execution_count": 14,
     "metadata": {},
     "output_type": "execute_result"
    }
   ],
   "source": [
    "refNormal[:5]"
   ]
  },
  {
   "cell_type": "markdown",
   "id": "0406dc6d",
   "metadata": {},
   "source": [
    "convert N to 0 and A to 1"
   ]
  },
  {
   "cell_type": "code",
   "execution_count": 15,
   "id": "33ff36bf",
   "metadata": {},
   "outputs": [],
   "source": [
    "refNormal = [1 if item == 'A' else 0 for item in refNormal]"
   ]
  },
  {
   "cell_type": "code",
   "execution_count": 16,
   "id": "f518c9ae",
   "metadata": {
    "scrolled": true
   },
   "outputs": [
    {
     "data": {
      "text/plain": [
       "[0, 0, 0, 0, 0]"
      ]
     },
     "execution_count": 16,
     "metadata": {},
     "output_type": "execute_result"
    }
   ],
   "source": [
    "refNormal[:5]"
   ]
  },
  {
   "cell_type": "code",
   "execution_count": 17,
   "id": "6bf6154e",
   "metadata": {},
   "outputs": [
    {
     "name": "stdout",
     "output_type": "stream",
     "text": [
      "2272 : 2272\n"
     ]
    }
   ],
   "source": [
    "print(f\"{len(refNormal)} : {len(refRpeak)}\")"
   ]
  },
  {
   "cell_type": "markdown",
   "id": "a2ec0f24",
   "metadata": {},
   "source": [
    "# add to DF"
   ]
  },
  {
   "cell_type": "code",
   "execution_count": 18,
   "id": "2cbd0c86",
   "metadata": {},
   "outputs": [],
   "source": [
    "refRpeak = [int(val) for val in refRpeak]\n",
    "\n",
    "# Create new columns in the DataFrame\n",
    "df100['rpeak'] = 0\n",
    "df100['normality'] = 0\n",
    "\n",
    "# Set 'rpeak' column values to 1 where samp_num is in refRpeak\n",
    "df100.loc[df100['samp_num'].isin(refRpeak), 'rpeak'] = 1\n",
    "\n",
    "# Set 'normality' column values based on refNormal\n",
    "df100.loc[df100['rpeak'] == 1, 'normality'] = refNormal"
   ]
  },
  {
   "cell_type": "code",
   "execution_count": 19,
   "id": "9a7544b0",
   "metadata": {},
   "outputs": [
    {
     "data": {
      "text/html": [
       "<div>\n",
       "<style scoped>\n",
       "    .dataframe tbody tr th:only-of-type {\n",
       "        vertical-align: middle;\n",
       "    }\n",
       "\n",
       "    .dataframe tbody tr th {\n",
       "        vertical-align: top;\n",
       "    }\n",
       "\n",
       "    .dataframe thead th {\n",
       "        text-align: right;\n",
       "    }\n",
       "</style>\n",
       "<table border=\"1\" class=\"dataframe\">\n",
       "  <thead>\n",
       "    <tr style=\"text-align: right;\">\n",
       "      <th></th>\n",
       "      <th>samp_num</th>\n",
       "      <th>MLII</th>\n",
       "      <th>V5</th>\n",
       "      <th>rpeak</th>\n",
       "      <th>normality</th>\n",
       "    </tr>\n",
       "  </thead>\n",
       "  <tbody>\n",
       "    <tr>\n",
       "      <th>0</th>\n",
       "      <td>0</td>\n",
       "      <td>995</td>\n",
       "      <td>1011</td>\n",
       "      <td>0</td>\n",
       "      <td>0</td>\n",
       "    </tr>\n",
       "    <tr>\n",
       "      <th>1</th>\n",
       "      <td>1</td>\n",
       "      <td>995</td>\n",
       "      <td>1011</td>\n",
       "      <td>0</td>\n",
       "      <td>0</td>\n",
       "    </tr>\n",
       "    <tr>\n",
       "      <th>2</th>\n",
       "      <td>2</td>\n",
       "      <td>995</td>\n",
       "      <td>1011</td>\n",
       "      <td>0</td>\n",
       "      <td>0</td>\n",
       "    </tr>\n",
       "    <tr>\n",
       "      <th>3</th>\n",
       "      <td>3</td>\n",
       "      <td>995</td>\n",
       "      <td>1011</td>\n",
       "      <td>0</td>\n",
       "      <td>0</td>\n",
       "    </tr>\n",
       "    <tr>\n",
       "      <th>4</th>\n",
       "      <td>4</td>\n",
       "      <td>995</td>\n",
       "      <td>1011</td>\n",
       "      <td>0</td>\n",
       "      <td>0</td>\n",
       "    </tr>\n",
       "  </tbody>\n",
       "</table>\n",
       "</div>"
      ],
      "text/plain": [
       "   samp_num  MLII    V5  rpeak  normality\n",
       "0         0   995  1011      0          0\n",
       "1         1   995  1011      0          0\n",
       "2         2   995  1011      0          0\n",
       "3         3   995  1011      0          0\n",
       "4         4   995  1011      0          0"
      ]
     },
     "execution_count": 19,
     "metadata": {},
     "output_type": "execute_result"
    }
   ],
   "source": [
    "df100.head()"
   ]
  },
  {
   "cell_type": "markdown",
   "id": "893fb9ce",
   "metadata": {},
   "source": [
    "# split train test"
   ]
  },
  {
   "cell_type": "code",
   "execution_count": 20,
   "id": "a60a05ef",
   "metadata": {},
   "outputs": [],
   "source": [
    "X = df100[['samp_num', 'MLII', 'V5']]\n",
    "y = df100[['rpeak', 'normality']]\n",
    "X_train, X_test, y_train, y_test = train_test_split(X, y, test_size=0.2, random_state=42)"
   ]
  },
  {
   "cell_type": "code",
   "execution_count": 21,
   "id": "648edb7e",
   "metadata": {},
   "outputs": [],
   "source": [
    "# x to tensors long\n",
    "X_train_tensor = torch.LongTensor(X_train.to_numpy()).to(torch.float)\n",
    "X_test_tensor = torch.LongTensor(X_test.to_numpy()).to(torch.float)\n",
    "\n",
    "# y to tensors long\n",
    "y_train_tensor = torch.LongTensor(y_train.to_numpy()).to(torch.float)\n",
    "y_test_tensor = torch.LongTensor(y_test.to_numpy()).to(torch.float)"
   ]
  },
  {
   "cell_type": "markdown",
   "id": "fea93a39",
   "metadata": {},
   "source": [
    "# 1st Model testing"
   ]
  },
  {
   "cell_type": "code",
   "execution_count": 22,
   "id": "84f2d1d7",
   "metadata": {},
   "outputs": [],
   "source": [
    "# set the citerion of model to measure the error (how off the predictions are from)\n",
    "criterion = nn.MSELoss()\n",
    "model = Model()\n",
    "# choose Adam optimizer (lr = learning rate)\n",
    "optimizer = torch.optim.Adam(model.parameters(), lr=0.001)\n",
    "input_size = len(X_train.columns)\n",
    "output_size = len(y_train.columns)\n",
    "\n",
    "model = Model(input_features=input_size, output_features=output_size)"
   ]
  },
  {
   "cell_type": "markdown",
   "id": "43d95798",
   "metadata": {},
   "source": [
    "## Train 1st model"
   ]
  },
  {
   "cell_type": "code",
   "execution_count": 23,
   "id": "7fc9bc62",
   "metadata": {},
   "outputs": [
    {
     "name": "stdout",
     "output_type": "stream",
     "text": [
      "Epoch0 loss: 17756716.0\n",
      "Epoch10 loss: 17756716.0\n",
      "Epoch20 loss: 17756716.0\n",
      "Epoch30 loss: 17756716.0\n",
      "Epoch40 loss: 17756716.0\n",
      "Epoch50 loss: 17756716.0\n",
      "Epoch60 loss: 17756716.0\n",
      "Epoch70 loss: 17756716.0\n",
      "Epoch80 loss: 17756716.0\n",
      "Epoch90 loss: 17756716.0\n"
     ]
    }
   ],
   "source": [
    "epoch = 100\n",
    "losses1 = []\n",
    "for i in range(epoch):\n",
    "    # prediction\n",
    "    X_train_tensor = torch.FloatTensor(X_train.to_numpy())\n",
    "    y_pred = model.forward(X_train_tensor)\n",
    "    \n",
    "    # measure loss\n",
    "    loss = criterion(y_pred, y_train_tensor) #predicted value vs the y_train\n",
    "    \n",
    "    # track losses\n",
    "    losses1.append(loss.detach().numpy())\n",
    "    \n",
    "    #print every 10 epoch\n",
    "    if i % 10 == 0:\n",
    "        print(f\"Epoch{i} loss: {loss}\")\n",
    "        \n",
    "    for param in model.parameters():\n",
    "        param.requires_grad_(True)\n",
    "        param.data = param.data.to(torch.float)\n",
    "    \n",
    "    # take error rate of forward propagation and feedback through the network to fine tune the weights\n",
    "    optimizer.zero_grad()\n",
    "    loss.backward()\n",
    "    optimizer.step()"
   ]
  },
  {
   "cell_type": "markdown",
   "id": "7d909711",
   "metadata": {},
   "source": [
    "I don't know why the loss is so big for the first model... let me try again."
   ]
  },
  {
   "cell_type": "markdown",
   "id": "3a2407c4",
   "metadata": {},
   "source": [
    "# 2nd Model testing"
   ]
  },
  {
   "cell_type": "code",
   "execution_count": 24,
   "id": "d21c7621",
   "metadata": {},
   "outputs": [],
   "source": [
    "X = df100[['MLII', 'V5']]\n",
    "y_rpeak = df100['rpeak']\n",
    "y_normality = df100['normality']\n",
    "\n",
    "X_train, X_test, y_rpeak_train, y_rpeak_test, y_normality_train, y_normality_test = train_test_split(\n",
    "    X, y_rpeak, y_normality, test_size=0.2, random_state=42)"
   ]
  },
  {
   "cell_type": "code",
   "execution_count": 25,
   "id": "4b9b5f6c",
   "metadata": {},
   "outputs": [],
   "source": [
    "# Convert the training and testing data to tensors\n",
    "X_train_tensor = torch.tensor(X_train.values).float()\n",
    "y_rpeak_train_tensor = torch.tensor(y_rpeak_train.values).float()\n",
    "y_normality_train_tensor = torch.tensor(y_normality_train.values).long()  # Use .long() for classification labels\n",
    "\n",
    "X_test_tensor = torch.tensor(X_test.values).float()\n",
    "y_rpeak_test_tensor = torch.tensor(y_rpeak_test.values).float()\n",
    "y_normality_test_tensor = torch.tensor(y_normality_test.values).long()\n",
    "\n",
    "# Assuming each row in X_train is an independent observation\n",
    "X_train_tensor = torch.tensor(X_train.values).float()\n",
    "X_train_tensor = X_train_tensor.unsqueeze(1)  # Add a sequence dimension"
   ]
  },
  {
   "cell_type": "code",
   "execution_count": 26,
   "id": "1b483662",
   "metadata": {},
   "outputs": [],
   "source": [
    "model = ECGModel(input_size=2, hidden_size=50, num_classes_normality=len(y_normality_train.unique()))"
   ]
  },
  {
   "cell_type": "code",
   "execution_count": 27,
   "id": "89865a52",
   "metadata": {},
   "outputs": [],
   "source": [
    "criterion_rpeak = torch.nn.BCELoss()  # Binary Cross-Entropy Loss for rpeak\n",
    "criterion_normality = torch.nn.CrossEntropyLoss()  # Cross-Entropy Loss for normality\n",
    "optimizer = torch.optim.Adam(model.parameters(), lr=0.001)"
   ]
  },
  {
   "cell_type": "code",
   "execution_count": 28,
   "id": "b805113a",
   "metadata": {},
   "outputs": [
    {
     "name": "stdout",
     "output_type": "stream",
     "text": [
      "Epoch [10/100], Loss: 1.0873818397521973\n",
      "Epoch [20/100], Loss: 0.9647265672683716\n",
      "Epoch [30/100], Loss: 0.8471107482910156\n",
      "Epoch [40/100], Loss: 0.7969838380813599\n",
      "Epoch [50/100], Loss: 0.7524658441543579\n",
      "Epoch [60/100], Loss: 0.713606595993042\n",
      "Epoch [70/100], Loss: 0.6797846555709839\n",
      "Epoch [80/100], Loss: 0.650285005569458\n",
      "Epoch [90/100], Loss: 0.6244374513626099\n",
      "Epoch [100/100], Loss: 0.6016567349433899\n"
     ]
    }
   ],
   "source": [
    "num_epochs = 100\n",
    "losses2 = []\n",
    "for epoch in range(num_epochs):\n",
    "    # Forward pass\n",
    "    rpeak_pred, normality_pred = model(X_train_tensor)\n",
    "\n",
    "    # Compute loss\n",
    "    loss_rpeak = criterion_rpeak(rpeak_pred.squeeze(), y_rpeak_train_tensor)\n",
    "    loss_normality = criterion_normality(normality_pred, y_normality_train_tensor)\n",
    "    loss = loss_rpeak + loss_normality  # Combine losses\n",
    "    losses2.append(loss.item())\n",
    "    # Backward pass and optimization\n",
    "    optimizer.zero_grad()\n",
    "    loss.backward()\n",
    "    optimizer.step()\n",
    "\n",
    "    if (epoch+1) % 10 == 0:  # Print every 10 epochs\n",
    "        print(f'Epoch [{epoch+1}/{num_epochs}], Loss: {loss.item()}')\n"
   ]
  },
  {
   "cell_type": "code",
   "execution_count": 29,
   "id": "f5e2e227",
   "metadata": {},
   "outputs": [
    {
     "data": {
      "text/plain": [
       "Text(0.5, 0, 'Epoch')"
      ]
     },
     "execution_count": 29,
     "metadata": {},
     "output_type": "execute_result"
    },
    {
     "data": {
      "image/png": "[encoded data removed]",
      "text/plain": [
       "<Figure size 640x480 with 1 Axes>"
      ]
     },
     "metadata": {},
     "output_type": "display_data"
    }
   ],
   "source": [
    "plt.plot(range(num_epochs), losses2)\n",
    "plt.ylabel(\"Loss / Error\")\n",
    "plt.xlabel('Epoch')"
   ]
  },
  {
   "cell_type": "markdown",
   "id": "1eda4d9d",
   "metadata": {},
   "source": [
    "# 2.1 Model testing"
   ]
  },
  {
   "cell_type": "code",
   "execution_count": 30,
   "id": "dd49a969",
   "metadata": {},
   "outputs": [],
   "source": [
    "model201 = ImprovedECGModel(input_size=2, hidden_size=50, num_classes_normality=len(y_normality_train.unique()))"
   ]
  },
  {
   "cell_type": "code",
   "execution_count": 31,
   "id": "1fef1c70",
   "metadata": {},
   "outputs": [
    {
     "ename": "RuntimeError",
     "evalue": "running_mean should contain 1 elements not 50",
     "output_type": "error",
     "traceback": [
      "\u001b[0;31m---------------------------------------------------------------------------\u001b[0m",
      "\u001b[0;31mRuntimeError\u001b[0m                              Traceback (most recent call last)",
      "Cell \u001b[0;32mIn[31], line 5\u001b[0m\n\u001b[1;32m      1\u001b[0m losses201 \u001b[38;5;241m=\u001b[39m []\n\u001b[1;32m      3\u001b[0m \u001b[38;5;28;01mfor\u001b[39;00m epoch \u001b[38;5;129;01min\u001b[39;00m \u001b[38;5;28mrange\u001b[39m(num_epochs):\n\u001b[1;32m      4\u001b[0m     \u001b[38;5;66;03m# Forward pass\u001b[39;00m\n\u001b[0;32m----> 5\u001b[0m     rpeak_pred, normality_pred \u001b[38;5;241m=\u001b[39m \u001b[43mmodel201\u001b[49m\u001b[43m(\u001b[49m\u001b[43mX_train_tensor\u001b[49m\u001b[43m)\u001b[49m\n\u001b[1;32m      7\u001b[0m     \u001b[38;5;66;03m# Compute loss\u001b[39;00m\n\u001b[1;32m      8\u001b[0m     loss_rpeak \u001b[38;5;241m=\u001b[39m criterion_rpeak(rpeak_pred\u001b[38;5;241m.\u001b[39msqueeze(), y_rpeak_train_tensor)\n",
      "File \u001b[0;32m/Library/Frameworks/Python.framework/Versions/3.10/lib/python3.10/site-packages/torch/nn/modules/module.py:1518\u001b[0m, in \u001b[0;36mModule._wrapped_call_impl\u001b[0;34m(self, *args, **kwargs)\u001b[0m\n\u001b[1;32m   1516\u001b[0m     \u001b[38;5;28;01mreturn\u001b[39;00m \u001b[38;5;28mself\u001b[39m\u001b[38;5;241m.\u001b[39m_compiled_call_impl(\u001b[38;5;241m*\u001b[39margs, \u001b[38;5;241m*\u001b[39m\u001b[38;5;241m*\u001b[39mkwargs)  \u001b[38;5;66;03m# type: ignore[misc]\u001b[39;00m\n\u001b[1;32m   1517\u001b[0m \u001b[38;5;28;01melse\u001b[39;00m:\n\u001b[0;32m-> 1518\u001b[0m     \u001b[38;5;28;01mreturn\u001b[39;00m \u001b[38;5;28;43mself\u001b[39;49m\u001b[38;5;241;43m.\u001b[39;49m\u001b[43m_call_impl\u001b[49m\u001b[43m(\u001b[49m\u001b[38;5;241;43m*\u001b[39;49m\u001b[43margs\u001b[49m\u001b[43m,\u001b[49m\u001b[43m \u001b[49m\u001b[38;5;241;43m*\u001b[39;49m\u001b[38;5;241;43m*\u001b[39;49m\u001b[43mkwargs\u001b[49m\u001b[43m)\u001b[49m\n",
      "File \u001b[0;32m/Library/Frameworks/Python.framework/Versions/3.10/lib/python3.10/site-packages/torch/nn/modules/module.py:1527\u001b[0m, in \u001b[0;36mModule._call_impl\u001b[0;34m(self, *args, **kwargs)\u001b[0m\n\u001b[1;32m   1522\u001b[0m \u001b[38;5;66;03m# If we don't have any hooks, we want to skip the rest of the logic in\u001b[39;00m\n\u001b[1;32m   1523\u001b[0m \u001b[38;5;66;03m# this function, and just call forward.\u001b[39;00m\n\u001b[1;32m   1524\u001b[0m \u001b[38;5;28;01mif\u001b[39;00m \u001b[38;5;129;01mnot\u001b[39;00m (\u001b[38;5;28mself\u001b[39m\u001b[38;5;241m.\u001b[39m_backward_hooks \u001b[38;5;129;01mor\u001b[39;00m \u001b[38;5;28mself\u001b[39m\u001b[38;5;241m.\u001b[39m_backward_pre_hooks \u001b[38;5;129;01mor\u001b[39;00m \u001b[38;5;28mself\u001b[39m\u001b[38;5;241m.\u001b[39m_forward_hooks \u001b[38;5;129;01mor\u001b[39;00m \u001b[38;5;28mself\u001b[39m\u001b[38;5;241m.\u001b[39m_forward_pre_hooks\n\u001b[1;32m   1525\u001b[0m         \u001b[38;5;129;01mor\u001b[39;00m _global_backward_pre_hooks \u001b[38;5;129;01mor\u001b[39;00m _global_backward_hooks\n\u001b[1;32m   1526\u001b[0m         \u001b[38;5;129;01mor\u001b[39;00m _global_forward_hooks \u001b[38;5;129;01mor\u001b[39;00m _global_forward_pre_hooks):\n\u001b[0;32m-> 1527\u001b[0m     \u001b[38;5;28;01mreturn\u001b[39;00m \u001b[43mforward_call\u001b[49m\u001b[43m(\u001b[49m\u001b[38;5;241;43m*\u001b[39;49m\u001b[43margs\u001b[49m\u001b[43m,\u001b[49m\u001b[43m \u001b[49m\u001b[38;5;241;43m*\u001b[39;49m\u001b[38;5;241;43m*\u001b[39;49m\u001b[43mkwargs\u001b[49m\u001b[43m)\u001b[49m\n\u001b[1;32m   1529\u001b[0m \u001b[38;5;28;01mtry\u001b[39;00m:\n\u001b[1;32m   1530\u001b[0m     result \u001b[38;5;241m=\u001b[39m \u001b[38;5;28;01mNone\u001b[39;00m\n",
      "Cell \u001b[0;32mIn[4], line 18\u001b[0m, in \u001b[0;36mImprovedECGModel.forward\u001b[0;34m(self, x)\u001b[0m\n\u001b[1;32m     16\u001b[0m x \u001b[38;5;241m=\u001b[39m \u001b[38;5;28mself\u001b[39m\u001b[38;5;241m.\u001b[39mfc1(x)\n\u001b[1;32m     17\u001b[0m x \u001b[38;5;241m=\u001b[39m \u001b[38;5;28mself\u001b[39m\u001b[38;5;241m.\u001b[39mrelu1(x)\n\u001b[0;32m---> 18\u001b[0m x \u001b[38;5;241m=\u001b[39m \u001b[38;5;28;43mself\u001b[39;49m\u001b[38;5;241;43m.\u001b[39;49m\u001b[43mbn1\u001b[49m\u001b[43m(\u001b[49m\u001b[43mx\u001b[49m\u001b[43m)\u001b[49m\n\u001b[1;32m     19\u001b[0m x \u001b[38;5;241m=\u001b[39m \u001b[38;5;28mself\u001b[39m\u001b[38;5;241m.\u001b[39mdropout1(x)\n\u001b[1;32m     20\u001b[0m x \u001b[38;5;241m=\u001b[39m \u001b[38;5;28mself\u001b[39m\u001b[38;5;241m.\u001b[39mfc2(x)\n",
      "File \u001b[0;32m/Library/Frameworks/Python.framework/Versions/3.10/lib/python3.10/site-packages/torch/nn/modules/module.py:1518\u001b[0m, in \u001b[0;36mModule._wrapped_call_impl\u001b[0;34m(self, *args, **kwargs)\u001b[0m\n\u001b[1;32m   1516\u001b[0m     \u001b[38;5;28;01mreturn\u001b[39;00m \u001b[38;5;28mself\u001b[39m\u001b[38;5;241m.\u001b[39m_compiled_call_impl(\u001b[38;5;241m*\u001b[39margs, \u001b[38;5;241m*\u001b[39m\u001b[38;5;241m*\u001b[39mkwargs)  \u001b[38;5;66;03m# type: ignore[misc]\u001b[39;00m\n\u001b[1;32m   1517\u001b[0m \u001b[38;5;28;01melse\u001b[39;00m:\n\u001b[0;32m-> 1518\u001b[0m     \u001b[38;5;28;01mreturn\u001b[39;00m \u001b[38;5;28;43mself\u001b[39;49m\u001b[38;5;241;43m.\u001b[39;49m\u001b[43m_call_impl\u001b[49m\u001b[43m(\u001b[49m\u001b[38;5;241;43m*\u001b[39;49m\u001b[43margs\u001b[49m\u001b[43m,\u001b[49m\u001b[43m \u001b[49m\u001b[38;5;241;43m*\u001b[39;49m\u001b[38;5;241;43m*\u001b[39;49m\u001b[43mkwargs\u001b[49m\u001b[43m)\u001b[49m\n",
      "File \u001b[0;32m/Library/Frameworks/Python.framework/Versions/3.10/lib/python3.10/site-packages/torch/nn/modules/module.py:1527\u001b[0m, in \u001b[0;36mModule._call_impl\u001b[0;34m(self, *args, **kwargs)\u001b[0m\n\u001b[1;32m   1522\u001b[0m \u001b[38;5;66;03m# If we don't have any hooks, we want to skip the rest of the logic in\u001b[39;00m\n\u001b[1;32m   1523\u001b[0m \u001b[38;5;66;03m# this function, and just call forward.\u001b[39;00m\n\u001b[1;32m   1524\u001b[0m \u001b[38;5;28;01mif\u001b[39;00m \u001b[38;5;129;01mnot\u001b[39;00m (\u001b[38;5;28mself\u001b[39m\u001b[38;5;241m.\u001b[39m_backward_hooks \u001b[38;5;129;01mor\u001b[39;00m \u001b[38;5;28mself\u001b[39m\u001b[38;5;241m.\u001b[39m_backward_pre_hooks \u001b[38;5;129;01mor\u001b[39;00m \u001b[38;5;28mself\u001b[39m\u001b[38;5;241m.\u001b[39m_forward_hooks \u001b[38;5;129;01mor\u001b[39;00m \u001b[38;5;28mself\u001b[39m\u001b[38;5;241m.\u001b[39m_forward_pre_hooks\n\u001b[1;32m   1525\u001b[0m         \u001b[38;5;129;01mor\u001b[39;00m _global_backward_pre_hooks \u001b[38;5;129;01mor\u001b[39;00m _global_backward_hooks\n\u001b[1;32m   1526\u001b[0m         \u001b[38;5;129;01mor\u001b[39;00m _global_forward_hooks \u001b[38;5;129;01mor\u001b[39;00m _global_forward_pre_hooks):\n\u001b[0;32m-> 1527\u001b[0m     \u001b[38;5;28;01mreturn\u001b[39;00m \u001b[43mforward_call\u001b[49m\u001b[43m(\u001b[49m\u001b[38;5;241;43m*\u001b[39;49m\u001b[43margs\u001b[49m\u001b[43m,\u001b[49m\u001b[43m \u001b[49m\u001b[38;5;241;43m*\u001b[39;49m\u001b[38;5;241;43m*\u001b[39;49m\u001b[43mkwargs\u001b[49m\u001b[43m)\u001b[49m\n\u001b[1;32m   1529\u001b[0m \u001b[38;5;28;01mtry\u001b[39;00m:\n\u001b[1;32m   1530\u001b[0m     result \u001b[38;5;241m=\u001b[39m \u001b[38;5;28;01mNone\u001b[39;00m\n",
      "File \u001b[0;32m/Library/Frameworks/Python.framework/Versions/3.10/lib/python3.10/site-packages/torch/nn/modules/batchnorm.py:171\u001b[0m, in \u001b[0;36m_BatchNorm.forward\u001b[0;34m(self, input)\u001b[0m\n\u001b[1;32m    164\u001b[0m     bn_training \u001b[38;5;241m=\u001b[39m (\u001b[38;5;28mself\u001b[39m\u001b[38;5;241m.\u001b[39mrunning_mean \u001b[38;5;129;01mis\u001b[39;00m \u001b[38;5;28;01mNone\u001b[39;00m) \u001b[38;5;129;01mand\u001b[39;00m (\u001b[38;5;28mself\u001b[39m\u001b[38;5;241m.\u001b[39mrunning_var \u001b[38;5;129;01mis\u001b[39;00m \u001b[38;5;28;01mNone\u001b[39;00m)\n\u001b[1;32m    166\u001b[0m \u001b[38;5;250m\u001b[39m\u001b[38;5;124mr\u001b[39m\u001b[38;5;124;03m\"\"\"\u001b[39;00m\n\u001b[1;32m    167\u001b[0m \u001b[38;5;124;03mBuffers are only updated if they are to be tracked and we are in training mode. Thus they only need to be\u001b[39;00m\n\u001b[1;32m    168\u001b[0m \u001b[38;5;124;03mpassed when the update should occur (i.e. in training mode when they are tracked), or when buffer stats are\u001b[39;00m\n\u001b[1;32m    169\u001b[0m \u001b[38;5;124;03mused for normalization (i.e. in eval mode when buffers are not None).\u001b[39;00m\n\u001b[1;32m    170\u001b[0m \u001b[38;5;124;03m\"\"\"\u001b[39;00m\n\u001b[0;32m--> 171\u001b[0m \u001b[38;5;28;01mreturn\u001b[39;00m \u001b[43mF\u001b[49m\u001b[38;5;241;43m.\u001b[39;49m\u001b[43mbatch_norm\u001b[49m\u001b[43m(\u001b[49m\n\u001b[1;32m    172\u001b[0m \u001b[43m    \u001b[49m\u001b[38;5;28;43minput\u001b[39;49m\u001b[43m,\u001b[49m\n\u001b[1;32m    173\u001b[0m \u001b[43m    \u001b[49m\u001b[38;5;66;43;03m# If buffers are not to be tracked, ensure that they won't be updated\u001b[39;49;00m\n\u001b[1;32m    174\u001b[0m \u001b[43m    \u001b[49m\u001b[38;5;28;43mself\u001b[39;49m\u001b[38;5;241;43m.\u001b[39;49m\u001b[43mrunning_mean\u001b[49m\n\u001b[1;32m    175\u001b[0m \u001b[43m    \u001b[49m\u001b[38;5;28;43;01mif\u001b[39;49;00m\u001b[43m \u001b[49m\u001b[38;5;129;43;01mnot\u001b[39;49;00m\u001b[43m \u001b[49m\u001b[38;5;28;43mself\u001b[39;49m\u001b[38;5;241;43m.\u001b[39;49m\u001b[43mtraining\u001b[49m\u001b[43m \u001b[49m\u001b[38;5;129;43;01mor\u001b[39;49;00m\u001b[43m \u001b[49m\u001b[38;5;28;43mself\u001b[39;49m\u001b[38;5;241;43m.\u001b[39;49m\u001b[43mtrack_running_stats\u001b[49m\n\u001b[1;32m    176\u001b[0m \u001b[43m    \u001b[49m\u001b[38;5;28;43;01melse\u001b[39;49;00m\u001b[43m \u001b[49m\u001b[38;5;28;43;01mNone\u001b[39;49;00m\u001b[43m,\u001b[49m\n\u001b[1;32m    177\u001b[0m \u001b[43m    \u001b[49m\u001b[38;5;28;43mself\u001b[39;49m\u001b[38;5;241;43m.\u001b[39;49m\u001b[43mrunning_var\u001b[49m\u001b[43m \u001b[49m\u001b[38;5;28;43;01mif\u001b[39;49;00m\u001b[43m \u001b[49m\u001b[38;5;129;43;01mnot\u001b[39;49;00m\u001b[43m \u001b[49m\u001b[38;5;28;43mself\u001b[39;49m\u001b[38;5;241;43m.\u001b[39;49m\u001b[43mtraining\u001b[49m\u001b[43m \u001b[49m\u001b[38;5;129;43;01mor\u001b[39;49;00m\u001b[43m \u001b[49m\u001b[38;5;28;43mself\u001b[39;49m\u001b[38;5;241;43m.\u001b[39;49m\u001b[43mtrack_running_stats\u001b[49m\u001b[43m \u001b[49m\u001b[38;5;28;43;01melse\u001b[39;49;00m\u001b[43m \u001b[49m\u001b[38;5;28;43;01mNone\u001b[39;49;00m\u001b[43m,\u001b[49m\n\u001b[1;32m    178\u001b[0m \u001b[43m    \u001b[49m\u001b[38;5;28;43mself\u001b[39;49m\u001b[38;5;241;43m.\u001b[39;49m\u001b[43mweight\u001b[49m\u001b[43m,\u001b[49m\n\u001b[1;32m    179\u001b[0m \u001b[43m    \u001b[49m\u001b[38;5;28;43mself\u001b[39;49m\u001b[38;5;241;43m.\u001b[39;49m\u001b[43mbias\u001b[49m\u001b[43m,\u001b[49m\n\u001b[1;32m    180\u001b[0m \u001b[43m    \u001b[49m\u001b[43mbn_training\u001b[49m\u001b[43m,\u001b[49m\n\u001b[1;32m    181\u001b[0m \u001b[43m    \u001b[49m\u001b[43mexponential_average_factor\u001b[49m\u001b[43m,\u001b[49m\n\u001b[1;32m    182\u001b[0m \u001b[43m    \u001b[49m\u001b[38;5;28;43mself\u001b[39;49m\u001b[38;5;241;43m.\u001b[39;49m\u001b[43meps\u001b[49m\u001b[43m,\u001b[49m\n\u001b[1;32m    183\u001b[0m \u001b[43m\u001b[49m\u001b[43m)\u001b[49m\n",
      "File \u001b[0;32m/Library/Frameworks/Python.framework/Versions/3.10/lib/python3.10/site-packages/torch/nn/functional.py:2478\u001b[0m, in \u001b[0;36mbatch_norm\u001b[0;34m(input, running_mean, running_var, weight, bias, training, momentum, eps)\u001b[0m\n\u001b[1;32m   2475\u001b[0m \u001b[38;5;28;01mif\u001b[39;00m training:\n\u001b[1;32m   2476\u001b[0m     _verify_batch_size(\u001b[38;5;28minput\u001b[39m\u001b[38;5;241m.\u001b[39msize())\n\u001b[0;32m-> 2478\u001b[0m \u001b[38;5;28;01mreturn\u001b[39;00m \u001b[43mtorch\u001b[49m\u001b[38;5;241;43m.\u001b[39;49m\u001b[43mbatch_norm\u001b[49m\u001b[43m(\u001b[49m\n\u001b[1;32m   2479\u001b[0m \u001b[43m    \u001b[49m\u001b[38;5;28;43minput\u001b[39;49m\u001b[43m,\u001b[49m\u001b[43m \u001b[49m\u001b[43mweight\u001b[49m\u001b[43m,\u001b[49m\u001b[43m \u001b[49m\u001b[43mbias\u001b[49m\u001b[43m,\u001b[49m\u001b[43m \u001b[49m\u001b[43mrunning_mean\u001b[49m\u001b[43m,\u001b[49m\u001b[43m \u001b[49m\u001b[43mrunning_var\u001b[49m\u001b[43m,\u001b[49m\u001b[43m \u001b[49m\u001b[43mtraining\u001b[49m\u001b[43m,\u001b[49m\u001b[43m \u001b[49m\u001b[43mmomentum\u001b[49m\u001b[43m,\u001b[49m\u001b[43m \u001b[49m\u001b[43meps\u001b[49m\u001b[43m,\u001b[49m\u001b[43m \u001b[49m\u001b[43mtorch\u001b[49m\u001b[38;5;241;43m.\u001b[39;49m\u001b[43mbackends\u001b[49m\u001b[38;5;241;43m.\u001b[39;49m\u001b[43mcudnn\u001b[49m\u001b[38;5;241;43m.\u001b[39;49m\u001b[43menabled\u001b[49m\n\u001b[1;32m   2480\u001b[0m \u001b[43m\u001b[49m\u001b[43m)\u001b[49m\n",
      "\u001b[0;31mRuntimeError\u001b[0m: running_mean should contain 1 elements not 50"
     ]
    }
   ],
   "source": [
    "losses201 = []\n",
    "\n",
    "for epoch in range(num_epochs):\n",
    "    # Forward pass\n",
    "    rpeak_pred, normality_pred = model201(X_train_tensor)\n",
    "\n",
    "    # Compute loss\n",
    "    loss_rpeak = criterion_rpeak(rpeak_pred.squeeze(), y_rpeak_train_tensor)\n",
    "    loss_normality = criterion_normality(normality_pred, y_normality_train_tensor)\n",
    "    loss = loss_rpeak + loss_normality  # Combine losses\n",
    "    losses201.append(loss.item())\n",
    "    # Backward pass and optimization\n",
    "    optimizer.zero_grad()\n",
    "    loss.backward()\n",
    "    optimizer.step()\n",
    "\n",
    "    if (epoch+1) % 10 == 0:  # Print every 10 epochs\n",
    "        print(f'Epoch [{epoch+1}/{num_epochs}], Loss: {loss.item()}')"
   ]
  },
  {
   "cell_type": "code",
   "execution_count": null,
   "id": "175b72de",
   "metadata": {},
   "outputs": [],
   "source": [
    "plt.plot(range(num_epochs), losses201)\n",
    "plt.ylabel(\"Loss / Error\")\n",
    "plt.xlabel('Epoch')"
   ]
  },
  {
   "cell_type": "markdown",
   "id": "ac42be1f",
   "metadata": {},
   "source": [
    "# 2.2 Model testing"
   ]
  },
  {
   "cell_type": "code",
   "execution_count": null,
   "id": "5f2a287a",
   "metadata": {},
   "outputs": [],
   "source": [
    "model202 = SimplifiedECGModel(input_size=2, hidden_size=50, num_classes_normality=len(y_normality_train.unique()))"
   ]
  },
  {
   "cell_type": "code",
   "execution_count": null,
   "id": "87b47c51",
   "metadata": {},
   "outputs": [],
   "source": [
    "losses202 = []\n",
    "\n",
    "for epoch in range(num_epochs):\n",
    "    # Forward pass\n",
    "    rpeak_pred, normality_pred = model202(X_train_tensor)\n",
    "\n",
    "    # Check shapes and values\n",
    "    # print(f\"Shapes - rpeak_pred: {rpeak_pred.shape}, normality_pred: {normality_pred.shape}\")\n",
    "    # print(f\"Sample outputs - rpeak_pred: {rpeak_pred[:5]}, normality_pred: {normality_pred[:5]}\")\n",
    "    \n",
    "    \n",
    "    loss_rpeak = criterion_rpeak(rpeak_pred.squeeze(), y_rpeak_train_tensor)\n",
    "    loss_normality = criterion_normality(normality_pred, y_normality_train_tensor)\n",
    "    loss = loss_rpeak + loss_normality  # Combine losses\n",
    "    losses202.append(loss.item())\n",
    "    \n",
    "    # print(f\"Epoch: {epoch}, Loss rpeak: {loss_rpeak.item()}, Loss normality: {loss_normality.item()}, Total Loss: {loss.item()}\")\n",
    "\n",
    "    # Backward pass and optimization\n",
    "    optimizer.zero_grad()\n",
    "    loss.backward()\n",
    "    optimizer.step()\n",
    "\n",
    "    if (epoch+1) % 10 == 0:  # Print every 10 epochs\n",
    "        print(f'Epoch [{epoch+1}/{num_epochs}], Loss: {loss.item()}')"
   ]
  },
  {
   "cell_type": "code",
   "execution_count": null,
   "id": "e45e70d3",
   "metadata": {},
   "outputs": [],
   "source": [
    "plt.plot(range(num_epochs), losses202)\n",
    "plt.ylabel(\"Loss / Error\")\n",
    "plt.xlabel('Epoch')"
   ]
  },
  {
   "cell_type": "markdown",
   "id": "52c0e51f",
   "metadata": {},
   "source": [
    "# Exploring how to find Rpeak and abnormal heartbeat\n",
    "## First variation function for finding Rpeak"
   ]
  },
  {
   "cell_type": "code",
   "execution_count": null,
   "id": "7cf676f7",
   "metadata": {},
   "outputs": [],
   "source": [
    "def detect_r_peaks(ecg_signal, sampling_rate):\n",
    "    # Derivative to highlight the QRS complex\n",
    "    diff_signal = np.diff(ecg_signal)\n",
    "\n",
    "    # Squaring to make all data points positive and emphasize larger differences\n",
    "    squared_signal = diff_signal ** 2\n",
    "\n",
    "    # Moving window integration\n",
    "    window_size = int(0.12 * sampling_rate)  # 120 ms window\n",
    "    integrated_signal = np.convolve(squared_signal, np.ones(window_size)/window_size, mode='same')\n",
    "\n",
    "    # Find peaks\n",
    "    peaks, _ = find_peaks(integrated_signal, distance=sampling_rate/2.5)  \n",
    "    # assuming at least 0.4 seconds between heartbeats\n",
    "    \n",
    "    return peaks"
   ]
  },
  {
   "cell_type": "markdown",
   "id": "be258696",
   "metadata": {},
   "source": [
    "## Second variation function for finding Rpeak"
   ]
  },
  {
   "cell_type": "code",
   "execution_count": null,
   "id": "8be8ecac",
   "metadata": {},
   "outputs": [],
   "source": [
    "def detect_r_peaks2(ecg_signal, sampling_rate, threshold_factor=0.85):\n",
    "    # Find local maxima\n",
    "    window_size = int(0.12 * sampling_rate)  # 120 ms window, typical for adult human heart rate\n",
    "    peaks = []\n",
    "\n",
    "    for i in range(window_size, len(ecg_signal) - window_size):\n",
    "        window = ecg_signal[i - window_size:i + window_size]\n",
    "        if ecg_signal[i] == max(window):\n",
    "            peaks.append(i)\n",
    "\n",
    "    # Thresholding peaks\n",
    "    threshold = threshold_factor * max(ecg_signal)\n",
    "    r_peaks = np.array([peak for peak in peaks if ecg_signal[peak] > threshold])\n",
    "\n",
    "    return r_peaks"
   ]
  },
  {
   "cell_type": "markdown",
   "id": "9f1ea4b1",
   "metadata": {},
   "source": [
    "## Third variation function for finding Rpeak\n",
    "\n",
    "changed the window to 200ms based on the (2004 BioMedical Engineering OnLine Real time electrocardiogram QRS detection using combined adaptive threshold Ivaylo I Christov*) paper"
   ]
  },
  {
   "cell_type": "code",
   "execution_count": null,
   "id": "e7a8d0b6",
   "metadata": {},
   "outputs": [],
   "source": [
    "def detect_r_peaks3(ecg_signal, sampling_rate, threshold_factor=0.85):\n",
    "    # Find local maxima\n",
    "    window_size = int(0.2 * sampling_rate)  # 200 ms window\n",
    "    peaks = []\n",
    "\n",
    "    for i in range(window_size, len(ecg_signal) - window_size):\n",
    "        window = ecg_signal[i - window_size:i + window_size]\n",
    "        if ecg_signal[i] == max(window):\n",
    "            peaks.append(i)\n",
    "\n",
    "    # Thresholding peaks\n",
    "    threshold = threshold_factor * max(ecg_signal)\n",
    "    r_peaks = np.array([peak for peak in peaks if ecg_signal[peak] > threshold])\n",
    "\n",
    "    # Calculating RR intervals\n",
    "    rr_intervals = np.diff(r_peaks) / sampling_rate  # Convert to seconds\n",
    "\n",
    "    # Normality check for each R-peak based on RR intervals\n",
    "    r_peak_normality = []\n",
    "    if len(rr_intervals) > 0:\n",
    "        mean_rr = np.mean(rr_intervals)\n",
    "        # For each R-peak, check if the following RR interval is normal\n",
    "        for i in range(len(r_peaks) - 1):\n",
    "            is_normal = abs(rr_intervals[i] - mean_rr) < 0.20 * mean_rr\n",
    "            r_peak_normality.append(is_normal)\n",
    "        # The last R-peak's normality is assessed based on the last RR interval\n",
    "        r_peak_normality.append(abs(rr_intervals[-1] - mean_rr) < 0.20 * mean_rr)\n",
    "\n",
    "    return r_peaks, r_peak_normality"
   ]
  },
  {
   "cell_type": "markdown",
   "id": "a4c97623",
   "metadata": {},
   "source": [
    "## Loading data and obtaining Rpeak"
   ]
  },
  {
   "cell_type": "code",
   "execution_count": null,
   "id": "745af031",
   "metadata": {},
   "outputs": [],
   "source": [
    "# Load the data\n",
    "df = pd.read_csv('data/100.csv')\n",
    "df.columns = ['samp_num', 'MLII', 'V5']\n",
    "\n",
    "# Extract the MLII data\n",
    "mlii_signal = df['MLII'].values\n",
    "\n",
    "# Define sampling rate\n",
    "sampling_rate = 360\n",
    "\n",
    "# Detect R-peaks\n",
    "r_peaks1 = detect_r_peaks(mlii_signal, sampling_rate)\n",
    "r_peaks2 = detect_r_peaks2(mlii_signal, sampling_rate)"
   ]
  },
  {
   "cell_type": "code",
   "execution_count": null,
   "id": "763c8be6",
   "metadata": {},
   "outputs": [],
   "source": [
    "r_peaks3, is_normal3 = detect_r_peaks3(mlii_signal, sampling_rate)"
   ]
  },
  {
   "cell_type": "code",
   "execution_count": null,
   "id": "0c6c5efe",
   "metadata": {
    "scrolled": true
   },
   "outputs": [],
   "source": [
    "r_peaks3[:5]"
   ]
  },
  {
   "cell_type": "code",
   "execution_count": null,
   "id": "01fb7ca6",
   "metadata": {},
   "outputs": [],
   "source": [
    "is_normal3[:5]"
   ]
  },
  {
   "cell_type": "markdown",
   "id": "a2d5d844",
   "metadata": {},
   "source": [
    "# comparing Rpeaks:"
   ]
  },
  {
   "cell_type": "code",
   "execution_count": null,
   "id": "efbdd8ba",
   "metadata": {},
   "outputs": [],
   "source": [
    "peak1 = r_peaks1.tolist()\n",
    "peak2 = r_peaks2.tolist()"
   ]
  },
  {
   "cell_type": "code",
   "execution_count": null,
   "id": "8ab5d9f9",
   "metadata": {},
   "outputs": [],
   "source": [
    "r_peaks1"
   ]
  },
  {
   "cell_type": "code",
   "execution_count": null,
   "id": "b9d7fecf",
   "metadata": {},
   "outputs": [],
   "source": [
    "# Slicing the DataFrame\n",
    "df_x = df.iloc[:3000]\n",
    "\n",
    "# Filtering R-peaks\n",
    "r_peaks_x = [int(r_peak) for r_peak in refRpeak if int(r_peak) < 3000]\n",
    "\n",
    "# Plotting\n",
    "plt.figure(figsize=(20, 10))\n",
    "plt.plot(df_x['samp_num'], df_x['MLII'], label='MLII Signal')\n",
    "\n",
    "# Ensuring that the indices for R-peaks are within the range of the sliced DataFrame\n",
    "valid_r_peaks_x = df_x['samp_num'].iloc[r_peaks_x]\n",
    "plt.plot(valid_r_peaks_x, df_x['MLII'].iloc[r_peaks_x], 'ro', label='R-peaks')\n",
    "\n",
    "plt.title('Referenced R-Peaks in MLII Signal')\n",
    "plt.xlabel('Sample Number')\n",
    "plt.ylabel('Amplitude')\n",
    "plt.legend()\n",
    "plt.show()"
   ]
  },
  {
   "cell_type": "code",
   "execution_count": null,
   "id": "b79b11ef",
   "metadata": {},
   "outputs": [],
   "source": [
    "# Slicing the DataFrame\n",
    "df_x = df.iloc[:1000]\n",
    "\n",
    "# Filtering R-peaks\n",
    "r_peaks_x = r_peaks1[r_peaks1 < 1000]\n",
    "\n",
    "# Plotting\n",
    "plt.figure(figsize=(10, 6))\n",
    "plt.plot(df_x['samp_num'], df_x['MLII'], label='MLII Signal')\n",
    "plt.plot(df_x['samp_num'][r_peaks_x], df_x['MLII'][r_peaks_x], 'ro', label='R-peaks')\n",
    "plt.title('R-Peaks in MLII Signal')\n",
    "plt.xlabel('Sample Number')\n",
    "plt.ylabel('Amplitude')\n",
    "plt.legend()\n",
    "plt.show()"
   ]
  },
  {
   "cell_type": "code",
   "execution_count": null,
   "id": "3809c6f4",
   "metadata": {},
   "outputs": [],
   "source": [
    "# Slicing the DataFrame\n",
    "df_x = df.iloc[:1000]\n",
    "\n",
    "# Filtering R-peaks\n",
    "r_peaks_x = [peak for peak in r_peaks2 if peak < 1000]\n",
    "\n",
    "# Plotting\n",
    "plt.figure(figsize=(10, 6))\n",
    "plt.plot(df_x['samp_num'], df_x['MLII'], label='MLII Signal')\n",
    "\n",
    "# Ensuring that the indices for R-peaks are within the range of the sliced DataFrame\n",
    "valid_r_peaks_x = df_x['samp_num'].iloc[r_peaks_x]\n",
    "plt.plot(valid_r_peaks_x, df_x['MLII'].iloc[r_peaks_x], 'ro', label='R-peaks')\n",
    "\n",
    "plt.title('R-Peaks in MLII Signal')\n",
    "plt.xlabel('Sample Number')\n",
    "plt.ylabel('Amplitude')\n",
    "plt.legend()\n",
    "plt.show()"
   ]
  },
  {
   "cell_type": "code",
   "execution_count": null,
   "id": "fe63771c",
   "metadata": {},
   "outputs": [],
   "source": [
    "# Slicing the DataFrame\n",
    "df_x = df.iloc[:10000]\n",
    "\n",
    "# Filtering R-peaks\n",
    "r_peaks_x = [peak for peak in r_peaks2 if peak < 10000]\n",
    "\n",
    "# Plotting\n",
    "plt.figure(figsize=(20, 10))\n",
    "plt.plot(df_x['samp_num'], df_x['MLII'], label='MLII Signal')\n",
    "\n",
    "# Ensuring that the indices for R-peaks are within the range of the sliced DataFrame\n",
    "valid_r_peaks_x = df_x['samp_num'].iloc[r_peaks_x]\n",
    "plt.plot(valid_r_peaks_x, df_x['MLII'].iloc[r_peaks_x], 'ro', label='R-peaks')\n",
    "\n",
    "plt.title('R-Peaks in MLII Signal')\n",
    "plt.xlabel('Sample Number')\n",
    "plt.ylabel('Amplitude')\n",
    "plt.legend()\n",
    "plt.show()"
   ]
  },
  {
   "cell_type": "code",
   "execution_count": null,
   "id": "71cb7baf",
   "metadata": {},
   "outputs": [],
   "source": [
    "# Slicing the DataFrame\n",
    "df_x = df.iloc[:10000]\n",
    "\n",
    "# Filtering R-peaks\n",
    "r_peaks_x = [peak for peak in r_peaks3 if peak < 10000]\n",
    "# Filtering corresponding normality booleans\n",
    "normality_x = is_normal3[:len(r_peaks_x)]\n",
    "\n",
    "# Plotting\n",
    "plt.figure(figsize=(20, 10))\n",
    "plt.plot(df_x['samp_num'], df_x['MLII'], label='MLII Signal')\n",
    "\n",
    "# Plotting R-peaks with color based on normality\n",
    "for r_peak, is_normal3 in zip(r_peaks_x, normality_x):\n",
    "    color = 'green' if is_normal3 else 'red'\n",
    "    plt.plot(df_x['samp_num'].iloc[r_peak], df_x['MLII'].iloc[r_peak], 'o', color=color)\n",
    "\n",
    "plt.title('R-Peaks in MLII Signal with Normality Indication')\n",
    "plt.xlabel('Sample Number')\n",
    "plt.ylabel('Amplitude')\n",
    "plt.legend()\n",
    "plt.show()\n"
   ]
  },
  {
   "cell_type": "code",
   "execution_count": null,
   "id": "8037c4f4",
   "metadata": {},
   "outputs": [],
   "source": [
    "is_normal3"
   ]
  },
  {
   "cell_type": "code",
   "execution_count": null,
   "id": "72ccda06",
   "metadata": {},
   "outputs": [],
   "source": []
  }
 ],
 "metadata": {
  "kernelspec": {
   "display_name": "Python 3 (ipykernel)",
   "language": "python",
   "name": "python3"
  },
  "language_info": {
   "codemirror_mode": {
    "name": "ipython",
    "version": 3
   },
   "file_extension": ".py",
   "mimetype": "text/x-python",
   "name": "python",
   "nbconvert_exporter": "python",
   "pygments_lexer": "ipython3",
   "version": "3.10.8"
  }
 },
 "nbformat": 4,
 "nbformat_minor": 5
}
