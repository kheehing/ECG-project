{
 "cells": [
  {
   "cell_type": "markdown",
   "id": "afba9eb3-ad0b-493d-bb32-e732ced29545",
   "metadata": {},
   "source": [
    "# Machine Learning Neural Network (ECG prediction)\n",
    "\n",
    "## Introduction\n",
    "In this project, I explore the application of machine learning to analyze electrocardiogram (ECG) data. ECGs, crucial for diagnosing heart conditions, present an opportunity for enhanced analysis through machine learning to improve accuracy and efficiency.\n",
    "\n",
    "I will utilize ECG recordings and expert annotations from datasets in CSV and TXT format; CSV file will contain modified limb lead II (MLII) and v5, TXT file will contain the time stamp of the rpeaks and the type of heartbeat (normal, abnormal). These resources are essential for training and evaluating a machine learning model to identify R-peaks and classify the normality of heartbeats, key indicators of heart health.\n",
    "\n",
    "My objectives:\n",
    "- <b>Investigate Machine Learning Applications:</b> Apply machine learning models, specifically using Dense and Dropout layers, to ECG data.\n",
    "- <b>Detect R-Peaks:</b> Use machine learning for accurate R-peak detection in ECG signals.\n",
    "- <b>Classify Heartbeat Normality:</b> Develop a model to classify heartbeat normality, identifying potential cardiac abnormalities.\n",
    "\n",
    "This project aims to explore the potential of machine learning in ECG analysis.\n",
    "\n",
    "libraries imported for the project:"
   ]
  },
  {
   "cell_type": "code",
   "execution_count": 1,
   "id": "2bd70fe1-2799-49c9-91c3-fe41d7777f89",
   "metadata": {},
   "outputs": [],
   "source": [
    "import pandas as pd, matplotlib.pyplot as plt, seaborn as sns"
   ]
  },
  {
   "cell_type": "markdown",
   "id": "6de7516b-47fc-4c18-bc03-0037d5738a01",
   "metadata": {},
   "source": [
    "## Data Collection and Preprocessing\n",
    "\n",
    "### Data Collection\n",
    "The data is sourced from [MIT-BIH Arrhythmia Database](https://www.physionet.org/content/mitdb/1.0.0/)\n",
    "\n",
    "### Data Loading"
   ]
  },
  {
   "cell_type": "code",
   "execution_count": 2,
   "id": "d14f4599-f41d-4948-b9af-424ad856e166",
   "metadata": {},
   "outputs": [
    {
     "name": "stdout",
     "output_type": "stream",
     "text": [
      "csv: 46\n",
      "txt: 46\n"
     ]
    }
   ],
   "source": [
    "# listing file path\n",
    "\n",
    "file_paths = [\n",
    "    '100', '101', '102', '103', '104',\n",
    "    '105', '106', '107', '108', '109',\n",
    "    '111', '112', '113', '114', '115',\n",
    "    '116', '117', '118', '118', '119',\n",
    "    '121', '122', '123', '124', '200',\n",
    "    '201', '202', '203', '205', '207',\n",
    "    '208', '209', '210', '212', '213',\n",
    "    '214', '215', '217', '219', '220', \n",
    "    '221', '222', '223', '228', '230',\n",
    "    '231'\n",
    "]\n",
    "\n",
    "csv_list = []\n",
    "txt_list = []\n",
    "\n",
    "for file_path in file_paths:\n",
    "    csv_df = pd.read_csv(f\"data/{file_path}.csv\")\n",
    "    txt_df = pd.read_table(f\"data/{file_path}annotations.txt\", delimiter = '\\t')\n",
    "    \n",
    "    csv_df.columns = ['samp_num', 'MLII', 'V5']\n",
    "    txt_df.columns = ['6', 'RA'] # RA stands for Rhythm annotation\n",
    "    \n",
    "    csv_list.append(csv_df)\n",
    "    txt_list.append(txt_df)\n",
    "\n",
    "# check if the list are of the same length\n",
    "print(f\"csv: {len(csv_list)}\\ntxt: {len(txt_list)}\")"
   ]
  },
  {
   "cell_type": "markdown",
   "id": "c743c5d7-5c38-4f99-9764-d5e7d93bca66",
   "metadata": {},
   "source": [
    "## Exploratory Data Analysis (EDA) \n",
    "Through visualizations and statistical summaries, EDA helps uncover underlying structures, informs the choice of appropriate models, and guides hypothesis formulation, ensuring a deeper insight into the data's nature. This process is invaluable in projects involving complex datasets, such as ECG data, where identifying key features like R-peaks or heartbeat normality can significantly impact model performance and accuracy."
   ]
  },
  {
   "cell_type": "code",
   "execution_count": 3,
   "id": "e5a9fc1b-9589-415a-a4f0-dc143d57e35f",
   "metadata": {},
   "outputs": [
    {
     "data": {
      "text/html": [
       "<div>\n",
       "<style scoped>\n",
       "    .dataframe tbody tr th:only-of-type {\n",
       "        vertical-align: middle;\n",
       "    }\n",
       "\n",
       "    .dataframe tbody tr th {\n",
       "        vertical-align: top;\n",
       "    }\n",
       "\n",
       "    .dataframe thead th {\n",
       "        text-align: right;\n",
       "    }\n",
       "</style>\n",
       "<table border=\"1\" class=\"dataframe\">\n",
       "  <thead>\n",
       "    <tr style=\"text-align: right;\">\n",
       "      <th></th>\n",
       "      <th>6</th>\n",
       "      <th>RA</th>\n",
       "    </tr>\n",
       "  </thead>\n",
       "  <tbody>\n",
       "    <tr>\n",
       "      <th>0</th>\n",
       "      <td>0:00.050       18     +    0    0    0</td>\n",
       "      <td>(N</td>\n",
       "    </tr>\n",
       "    <tr>\n",
       "      <th>1</th>\n",
       "      <td>0:00.214       77     N    0    0    0</td>\n",
       "      <td>NaN</td>\n",
       "    </tr>\n",
       "    <tr>\n",
       "      <th>2</th>\n",
       "      <td>0:01.028      370     N    0    0    0</td>\n",
       "      <td>NaN</td>\n",
       "    </tr>\n",
       "    <tr>\n",
       "      <th>3</th>\n",
       "      <td>0:01.839      662     N    0    0    0</td>\n",
       "      <td>NaN</td>\n",
       "    </tr>\n",
       "    <tr>\n",
       "      <th>4</th>\n",
       "      <td>0:02.628      946     N    0    0    0</td>\n",
       "      <td>NaN</td>\n",
       "    </tr>\n",
       "  </tbody>\n",
       "</table>\n",
       "</div>"
      ],
      "text/plain": [
       "                                            6   RA\n",
       "0      0:00.050       18     +    0    0    0   (N\n",
       "1      0:00.214       77     N    0    0    0  NaN\n",
       "2      0:01.028      370     N    0    0    0  NaN\n",
       "3      0:01.839      662     N    0    0    0  NaN\n",
       "4      0:02.628      946     N    0    0    0  NaN"
      ]
     },
     "execution_count": 3,
     "metadata": {},
     "output_type": "execute_result"
    }
   ],
   "source": [
    "txt_list[0].head()"
   ]
  },
  {
   "cell_type": "markdown",
   "id": "9175d2e1-4de5-40ea-a12e-7b44c4ee8936",
   "metadata": {},
   "source": [
    "Raw data from the txt file:"
   ]
  },
  {
   "cell_type": "code",
   "execution_count": null,
   "id": "7f898304-bf36-47b0-8470-3d04e24c64c9",
   "metadata": {},
   "outputs": [],
   "source": []
  },
  {
   "cell_type": "markdown",
   "id": "39f9505a-73ab-4c94-b287-ca875891abb0",
   "metadata": {},
   "source": [
    "According to the database [website](https://www.physionet.org/files/mitdb/1.0.0/mitdbdir/intro.htm) each symbol means something. Here are the examples:\n",
    "\n",
    "| Symbol | Meaning                                      |\n",
    "|--------|----------------------------------------------|\n",
    "| · or N | Normal beat                                  |\n",
    "| L      | Left bundle branch block beat                |\n",
    "| R      | Right bundle branch block beat               |\n",
    "| A      | Atrial premature beat                        |\n",
    "| a      | Aberrated atrial premature beat              |\n",
    "| J      | Nodal (junctional) premature beat            |\n",
    "| S      | Supraventricular premature beat              |\n",
    "| V      | Premature ventricular contraction            |\n",
    "| F      | Fusion of ventricular and normal beat        |\n",
    "| [      | Start of ventricular flutter/fibrillation    |\n",
    "| !      | Ventricular flutter wave                     |\n",
    "| ]      | End of ventricular flutter/fibrillation      |\n",
    "| e      | Atrial escape beat                           |\n",
    "| j      | Nodal (junctional) escape beat               |\n",
    "| E      | Ventricular escape beat                      |\n",
    "| /      | Paced beat                                   |\n",
    "| f      | Fusion of paced and normal beat              |\n",
    "| x      | Non-conducted P-wave (blocked APB)           |\n",
    "| Q      | Unclassifiable beat                          |\n",
    "| \\|      | Isolated QRS-like artifact                  |\n",
    "\n",
    "Function to merge both dataframes to easily train the machine learning neural network:"
   ]
  },
  {
   "cell_type": "code",
   "execution_count": 4,
   "id": "c03583fe-810c-442a-8d05-06e997df85c2",
   "metadata": {},
   "outputs": [],
   "source": [
    "def add_rpeak_normality_columns(df, ref_df):\n",
    "    refRpeak = []\n",
    "    refNormal = []\n",
    "\n",
    "    # Extract the 'rpeak' and 'type'\n",
    "    for index, row in ref_df.iterrows():\n",
    "        if ref_df['6'][index].split()[2] in symbols:\n",
    "            refRpeak.append(ref_df['6'][index].split()[1]) \n",
    "            refNormal.append(ref_df['6'][index].split()[2]) \n",
    "\n",
    "    # Ensuring elements of refRpeak are integers\n",
    "    refRpeak = [int(val) for val in refRpeak]\n",
    "\n",
    "    # Create new columns in the DataFrame\n",
    "    df['rpeak'] = 0\n",
    "    df['normality'] = 0\n",
    "\n",
    "    # Set 'rpeak' column values to 1 where samp_num is in refRpeak\n",
    "    df.loc[df['samp_num'].isin(refRpeak), 'rpeak'] = 1\n",
    "\n",
    "    # Create a mapping of symbol to integer for normality\n",
    "    symbol_to_int = {symbol: idx for idx, symbol in enumerate(symbols)}\n",
    "\n",
    "    # Assuming 'samp_num' matches with 'refRpeak' order\n",
    "    for rpeak, normal in zip(refRpeak, refNormal):\n",
    "        if normal in symbol_to_int:\n",
    "            df.loc[df['samp_num'] == rpeak, 'normality'] = symbol_to_int[normal]\n",
    "        else:\n",
    "            print(f'{normal} not found in symbols')\n",
    "            \n",
    "    return df"
   ]
  },
  {
   "cell_type": "markdown",
   "id": "e9c5a03d-bcc4-438d-948a-84132e968ecf",
   "metadata": {},
   "source": [
    "Merging the dataframes:"
   ]
  },
  {
   "cell_type": "code",
   "execution_count": 5,
   "id": "d4fdc600-672a-4057-840a-29b53fa9a397",
   "metadata": {
    "scrolled": true
   },
   "outputs": [
    {
     "ename": "NameError",
     "evalue": "name 'symbols' is not defined",
     "output_type": "error",
     "traceback": [
      "\u001b[0;31m---------------------------------------------------------------------------\u001b[0m",
      "\u001b[0;31mNameError\u001b[0m                                 Traceback (most recent call last)",
      "Cell \u001b[0;32mIn[5], line 6\u001b[0m\n\u001b[1;32m      4\u001b[0m     \u001b[38;5;28;01mfor\u001b[39;00m j, txt \u001b[38;5;129;01min\u001b[39;00m \u001b[38;5;28menumerate\u001b[39m(txt_list):\n\u001b[1;32m      5\u001b[0m         \u001b[38;5;28;01mif\u001b[39;00m (i \u001b[38;5;241m==\u001b[39m j):\n\u001b[0;32m----> 6\u001b[0m             df_list\u001b[38;5;241m.\u001b[39mappend(\u001b[43madd_rpeak_normality_columns\u001b[49m\u001b[43m(\u001b[49m\u001b[43mcsv\u001b[49m\u001b[43m,\u001b[49m\u001b[43m \u001b[49m\u001b[43mtxt\u001b[49m\u001b[43m)\u001b[49m)\n\u001b[1;32m      8\u001b[0m \u001b[38;5;28mprint\u001b[39m(\u001b[38;5;124m'\u001b[39m\u001b[38;5;124mcompleted\u001b[39m\u001b[38;5;124m'\u001b[39m)\n",
      "Cell \u001b[0;32mIn[4], line 7\u001b[0m, in \u001b[0;36madd_rpeak_normality_columns\u001b[0;34m(df, ref_df)\u001b[0m\n\u001b[1;32m      5\u001b[0m \u001b[38;5;66;03m# Extract the 'rpeak' and 'type'\u001b[39;00m\n\u001b[1;32m      6\u001b[0m \u001b[38;5;28;01mfor\u001b[39;00m index, row \u001b[38;5;129;01min\u001b[39;00m ref_df\u001b[38;5;241m.\u001b[39miterrows():\n\u001b[0;32m----> 7\u001b[0m     \u001b[38;5;28;01mif\u001b[39;00m ref_df[\u001b[38;5;124m'\u001b[39m\u001b[38;5;124m6\u001b[39m\u001b[38;5;124m'\u001b[39m][index]\u001b[38;5;241m.\u001b[39msplit()[\u001b[38;5;241m2\u001b[39m] \u001b[38;5;129;01min\u001b[39;00m \u001b[43msymbols\u001b[49m:\n\u001b[1;32m      8\u001b[0m         refRpeak\u001b[38;5;241m.\u001b[39mappend(ref_df[\u001b[38;5;124m'\u001b[39m\u001b[38;5;124m6\u001b[39m\u001b[38;5;124m'\u001b[39m][index]\u001b[38;5;241m.\u001b[39msplit()[\u001b[38;5;241m1\u001b[39m]) \n\u001b[1;32m      9\u001b[0m         refNormal\u001b[38;5;241m.\u001b[39mappend(ref_df[\u001b[38;5;124m'\u001b[39m\u001b[38;5;124m6\u001b[39m\u001b[38;5;124m'\u001b[39m][index]\u001b[38;5;241m.\u001b[39msplit()[\u001b[38;5;241m2\u001b[39m]) \n",
      "\u001b[0;31mNameError\u001b[0m: name 'symbols' is not defined"
     ]
    }
   ],
   "source": [
    "df_list = []\n",
    "\n",
    "for i, csv in enumerate(csv_list):\n",
    "    for j, txt in enumerate(txt_list):\n",
    "        if (i == j):\n",
    "            df_list.append(add_rpeak_normality_columns(csv, txt))\n",
    "\n",
    "print('completed')"
   ]
  },
  {
   "cell_type": "markdown",
   "id": "dcb7f6c3-3a0d-46e7-b133-e6498d1540e9",
   "metadata": {},
   "source": [
    "Merged dataframe:"
   ]
  },
  {
   "cell_type": "code",
   "execution_count": null,
   "id": "a1aac05f-95bf-43be-a83c-06ccde935667",
   "metadata": {},
   "outputs": [],
   "source": [
    "df_list[0].head()"
   ]
  },
  {
   "cell_type": "markdown",
   "id": "a3b8c3cd-66a5-4af5-a887-11aee03f65b7",
   "metadata": {},
   "source": [
    "## Exploratory Data Analysis (EDA)\n",
    "Through visualizations and statistical summaries, EDA helps uncover underlying structures, informs the choice of appropriate models, and guides hypothesis formulation, ensuring a deeper insight into the data's nature. This process is invaluable in projects as it involves complex datasets, such as ECG data, where identifying key features like R-peaks or heartbeat normality can significantly impact model performance and accuracy.\n",
    "\n",
    "### Basic Information\n",
    "The first merged dataframe will be used as an example for EDA.\n",
    "\n",
    "Number of merged dataframe:"
   ]
  },
  {
   "cell_type": "code",
   "execution_count": null,
   "id": "10e836c7-ebfb-4893-864b-d8f6a6a8d3c6",
   "metadata": {},
   "outputs": [],
   "source": [
    "print(len(df_list))"
   ]
  },
  {
   "cell_type": "code",
   "execution_count": null,
   "id": "98c70440-c97f-4c8a-a4f1-b7a6736e0773",
   "metadata": {},
   "outputs": [],
   "source": [
    "df_list[0].head()"
   ]
  },
  {
   "cell_type": "code",
   "execution_count": null,
   "id": "5e59c938-14fd-4b33-983d-718d48cf7d3e",
   "metadata": {},
   "outputs": [],
   "source": [
    "df_list[0].info()"
   ]
  },
  {
   "cell_type": "code",
   "execution_count": null,
   "id": "a35dc920-4793-422a-9736-b82072371717",
   "metadata": {},
   "outputs": [],
   "source": [
    "df_list[0].describe()"
   ]
  },
  {
   "cell_type": "markdown",
   "id": "83acb188-c187-4ee6-b5a6-cb7c72245b17",
   "metadata": {},
   "source": [
    "### Check for Missing Values"
   ]
  },
  {
   "cell_type": "code",
   "execution_count": null,
   "id": "7b93d2cf-b5a7-4941-aa5e-412d0d33a68b",
   "metadata": {
    "scrolled": true
   },
   "outputs": [],
   "source": [
    "for df in df_list:\n",
    "    print(df.isnull().sum())"
   ]
  },
  {
   "cell_type": "markdown",
   "id": "238203d5-3c97-49f6-8e29-d6e83e7c294b",
   "metadata": {},
   "source": [
    "### Distribution of Key Features"
   ]
  },
  {
   "cell_type": "code",
   "execution_count": null,
   "id": "0301f60e-48ed-4c92-a254-5b3706867caa",
   "metadata": {},
   "outputs": [],
   "source": [
    "df = df_list[0]\n",
    "plt.figure(figsize=(10, 6))\n",
    "sns.histplot(df['MLII'], bins=30, kde=True)\n",
    "plt.title(f'Distribution of R-peak amplitude in DataFrame {i+1}')\n",
    "plt.xlabel('R-peak amplitude')\n",
    "plt.ylabel('Frequency')\n",
    "plt.show()"
   ]
  },
  {
   "cell_type": "markdown",
   "id": "ad13d97e-cafc-4ba8-bc92-b7a015fdfe98",
   "metadata": {},
   "source": [
    "### Identifying Outliers"
   ]
  },
  {
   "cell_type": "code",
   "execution_count": null,
   "id": "f5ca0f10-4a96-44da-ac06-54b89eca0aa3",
   "metadata": {},
   "outputs": [],
   "source": [
    "# Box plot for a numerical column\n",
    "sns.boxplot(x=df['MLII'])\n",
    "plt.title('Box Plot of R-peak Values')\n",
    "plt.show()"
   ]
  },
  {
   "cell_type": "code",
   "execution_count": null,
   "id": "e4a44d80-c788-44fa-9260-020371bad912",
   "metadata": {},
   "outputs": [],
   "source": [
    "# Correlation matrix heatmap\n",
    "plt.figure(figsize=(10, 8))\n",
    "corr_matrix = df.corr()\n",
    "sns.heatmap(corr_matrix, annot=True, fmt=\".2f\")\n",
    "plt.title('Correlation Matrix of Features')\n",
    "plt.show()"
   ]
  },
  {
   "cell_type": "markdown",
   "id": "2a6f3c32-42f2-4dd7-91cc-778f45e95377",
   "metadata": {},
   "source": [
    "## Model Building (Markdown + Code)\n",
    "\n",
    "Model Architecture (Markdown): Discuss the architecture of your model, including why you chose certain layers and their configurations.\n",
    "Model Definition (Code): Code cells defining your model using Sequential API with Dense and Dropout layers.\n",
    "Model Compilation (Code): Include code for compiling your model, specifying the optimizer and loss function.\n",
    "Training (Markdown + Code):\n",
    "Discuss your training approach.\n",
    "Training Process (Code): Show the code that trains the model, including any callbacks or special training conditions."
   ]
  },
  {
   "cell_type": "markdown",
   "id": "ef66fddc-2217-4e0e-bc3b-2a2121dc5baf",
   "metadata": {},
   "source": [
    "## Model Evaluation (Markdown + Code)\n",
    "\n",
    "Evaluation Metrics (Markdown): Describe the metrics you will use to evaluate your model.\n",
    "Evaluation (Code): Code cells to evaluate the model and print out metrics."
   ]
  },
  {
   "cell_type": "markdown",
   "id": "d58f2a39-f478-4fb0-abcd-3c11d461f1f6",
   "metadata": {},
   "source": [
    "## Results and Discussion (Markdown + Code)\n",
    "\n",
    "Results (Markdown + Code):\n",
    "Present key findings, supported by code cells that output results, visualizations, etc.\n",
    "Discussion (Markdown): Interpret the results, discuss any limitations, and how the model could be improved."
   ]
  },
  {
   "cell_type": "markdown",
   "id": "629278a4-020c-419a-a805-22000ad789a8",
   "metadata": {},
   "source": [
    "## Conclusion and Future Work (Markdown)\n",
    "\n",
    "Summarize your findings, the implications of your work, and any potential future directions for this research."
   ]
  },
  {
   "cell_type": "markdown",
   "id": "85edfcea-a180-4968-8400-a39959541397",
   "metadata": {},
   "source": [
    "## References (Markdown)\n",
    "\n",
    "List all references, including articles, books, and online resources, that were cited or used for code in the project."
   ]
  }
 ],
 "metadata": {
  "kernelspec": {
   "display_name": "Python 3 (ipykernel)",
   "language": "python",
   "name": "python3"
  },
  "language_info": {
   "codemirror_mode": {
    "name": "ipython",
    "version": 3
   },
   "file_extension": ".py",
   "mimetype": "text/x-python",
   "name": "python",
   "nbconvert_exporter": "python",
   "pygments_lexer": "ipython3",
   "version": "3.10.8"
  }
 },
 "nbformat": 4,
 "nbformat_minor": 5
}
